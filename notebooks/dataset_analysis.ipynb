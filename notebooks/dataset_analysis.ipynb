{
 "cells": [
  {
   "cell_type": "markdown",
   "id": "8c1bcd0e",
   "metadata": {},
   "source": [
    "<h2><center> UrbanFlow Prognosticator: Propagation-Aware Traffic Prediction and Visualization System</h2></center>\n",
    "<figure>\n",
    "<center><img src =\"https://media.springernature.com/lw685/springer-static/image/chp%3A10.1007%2F978-3-030-94102-4_6/MediaObjects/509967_1_En_6_Fig1_HTML.png\" width = \"750\" height = '500' alt=\"unsplash.com\"/>"
   ]
  },
  {
   "cell_type": "markdown",
   "id": "348f1af0",
   "metadata": {},
   "source": [
    "## Author: Umar Kabir\n",
    "\n",
    "Date: [July, 2023]"
   ]
  },
  {
   "cell_type": "markdown",
   "id": "2ad33f76",
   "metadata": {},
   "source": [
    "<a id='table-of-contents'></a>\n",
    "# Table of Contents\n",
    "\n",
    "1. [Introduction](#introduction)\n",
    "    - Motivation\n",
    "    - Problem Statement\n",
    "    - Objective\n",
    "    - Data Source\n",
    "    - Importing Dependencies  \n",
    "\n",
    "\n",
    "2. [Data](#2-data)\n",
    "    - Data Loading\n",
    "    - Dataset Overview\n",
    "\n",
    "\n",
    "3. [Exploratory Data Analysis](#exploratory-data-analysis)\n",
    "    - Descriptive Statistics\n",
    "    - Data Visualization\n",
    "    - Correlation Analysis\n",
    "    - Outlier Detection\n",
    "\n",
    "\n",
    "4. [Data Preparation](#data-preparation)\n",
    "    - Data Cleaning\n",
    "    - Handling Missing Values\n",
    "    - Handling Imbalanced Classes\n",
    "    - Feature Selection\n",
    "    - Feature Engineering\n",
    "    - Data Transformation\n",
    "    - Data Splitting"
   ]
  },
  {
   "cell_type": "markdown",
   "id": "cb7bc0f0",
   "metadata": {},
   "source": [
    "<a id='introduction'></a>\n",
    "<font size=\"+2\" color='#053c96'><b> Introduction</b></font>  \n",
    "[back to top](#table-of-contents)  "
   ]
  },
  {
   "cell_type": "markdown",
   "id": "007b4139",
   "metadata": {},
   "source": [
    "<font size=\"+0\" color='green'><b> Possible Target Variables</b></font>  \n"
   ]
  },
  {
   "cell_type": "markdown",
   "id": "b95dbff8",
   "metadata": {},
   "source": [
    "<font size=\"+0\" color='green'><b> Motivation</b></font>  \n"
   ]
  },
  {
   "cell_type": "markdown",
   "id": "74cb2b87",
   "metadata": {},
   "source": [
    "<font size=\"+0\" color='green'><b> Problem Statement</b></font>  \n",
    "\n"
   ]
  },
  {
   "cell_type": "markdown",
   "id": "da06c58d",
   "metadata": {},
   "source": [
    "<font size=\"+0\" color='green'><b> Objectives</b></font>  \n"
   ]
  },
  {
   "cell_type": "markdown",
   "id": "46686294",
   "metadata": {},
   "source": [
    "<font size=\"+0\" color='green'><b> Data Source</b></font>  \n"
   ]
  },
  {
   "cell_type": "markdown",
   "id": "bafda93c",
   "metadata": {},
   "source": [
    "<font size=\"+0\" color='green'><b> Importing Dependencies</b></font>  "
   ]
  },
  {
   "cell_type": "code",
   "execution_count": 1,
   "id": "1ca49672",
   "metadata": {},
   "outputs": [],
   "source": [
    "import sys\n",
    "# Insert the parent path relative to this notebook so we can import from the src folder.\n",
    "sys.path.insert(0, \"..\")\n",
    "\n",
    "from src.dependencies import *\n",
    "from src.functions import *"
   ]
  },
  {
   "cell_type": "code",
   "execution_count": 2,
   "id": "d12151d3",
   "metadata": {},
   "outputs": [],
   "source": [
    "# Read the configuration file\n",
    "with open('../data/PeMS04/config.json') as f:\n",
    "    config_data = json.load(f)\n",
    "\n",
    "# Extracting relevant information from config\n",
    "rel_file = config_data[\"info\"][\"rel_file\"] + \".rel\"\n",
    "dyna_file = config_data[\"info\"][\"data_files\"][0] + \".dyna\"\n",
    "geo_file = config_data[\"info\"][\"geo_file\"] + \".geo\"\n",
    "\n",
    "# Load the dataframes\n",
    "pems04_rel = pd.read_csv(f'../data/PeMS04/{rel_file}', delimiter=',')\n",
    "pems04_dyna = pd.read_csv(f'../data/PeMS04/{dyna_file}', delimiter=',')\n",
    "pems04_geo = pd.read_csv(f'../data/PeMS04/{geo_file}', delimiter=',')"
   ]
  },
  {
   "cell_type": "code",
   "execution_count": 21,
   "id": "fb263f82",
   "metadata": {},
   "outputs": [
    {
     "name": "stdout",
     "output_type": "stream",
     "text": [
      "(5216544, 7)\n",
      "(307, 3)\n",
      "(340, 5)\n"
     ]
    }
   ],
   "source": [
    "print(pems04_dyna.shape)\n",
    "print(pems04_geo.shape)\n",
    "print(pems04_rel.shape)"
   ]
  },
  {
   "cell_type": "code",
   "execution_count": 22,
   "id": "2009d8c4",
   "metadata": {},
   "outputs": [
    {
     "name": "stdout",
     "output_type": "stream",
     "text": [
      "   dyna_id   type                  time  entity_id  traffic_flow  \\\n",
      "0        0  state  2018-01-01T00:00:00Z          0          62.0   \n",
      "1        1  state  2018-01-01T00:05:00Z          0          61.0   \n",
      "2        2  state  2018-01-01T00:10:00Z          0          71.0   \n",
      "3        3  state  2018-01-01T00:15:00Z          0          86.0   \n",
      "4        4  state  2018-01-01T00:20:00Z          0         103.0   \n",
      "\n",
      "   traffic_occupancy  traffic_speed  \n",
      "0             0.0077           67.9  \n",
      "1             0.0074           67.3  \n",
      "2             0.0093           68.4  \n",
      "3             0.0112           67.8  \n",
      "4             0.0144           67.4  \n",
      "   geo_id   type coordinates\n",
      "0       0  Point          []\n",
      "1       1  Point          []\n",
      "2       2  Point          []\n",
      "3       3  Point          []\n",
      "4       4  Point          []\n",
      "   rel_id type  origin_id  destination_id   cost\n",
      "0       0  geo         73               5  352.6\n",
      "1       1  geo          5             154  347.2\n",
      "2       2  geo        154             263  392.9\n",
      "3       3  geo        263              56  440.8\n",
      "4       4  geo         56              96  374.6\n"
     ]
    }
   ],
   "source": [
    "print(pems04_dyna.head())\n",
    "print(pems04_geo.head())\n",
    "print(pems04_rel.head())"
   ]
  },
  {
   "cell_type": "code",
   "execution_count": 23,
   "id": "cbbe08f4",
   "metadata": {},
   "outputs": [
    {
     "data": {
      "text/html": [
       "<div>\n",
       "<style scoped>\n",
       "    .dataframe tbody tr th:only-of-type {\n",
       "        vertical-align: middle;\n",
       "    }\n",
       "\n",
       "    .dataframe tbody tr th {\n",
       "        vertical-align: top;\n",
       "    }\n",
       "\n",
       "    .dataframe thead th {\n",
       "        text-align: right;\n",
       "    }\n",
       "</style>\n",
       "<table border=\"1\" class=\"dataframe\">\n",
       "  <thead>\n",
       "    <tr style=\"text-align: right;\">\n",
       "      <th></th>\n",
       "      <th>from</th>\n",
       "      <th>to</th>\n",
       "      <th>cost</th>\n",
       "    </tr>\n",
       "  </thead>\n",
       "  <tbody>\n",
       "    <tr>\n",
       "      <th>0</th>\n",
       "      <td>73</td>\n",
       "      <td>5</td>\n",
       "      <td>352.6</td>\n",
       "    </tr>\n",
       "    <tr>\n",
       "      <th>1</th>\n",
       "      <td>5</td>\n",
       "      <td>154</td>\n",
       "      <td>347.2</td>\n",
       "    </tr>\n",
       "    <tr>\n",
       "      <th>2</th>\n",
       "      <td>154</td>\n",
       "      <td>263</td>\n",
       "      <td>392.9</td>\n",
       "    </tr>\n",
       "    <tr>\n",
       "      <th>3</th>\n",
       "      <td>263</td>\n",
       "      <td>56</td>\n",
       "      <td>440.8</td>\n",
       "    </tr>\n",
       "    <tr>\n",
       "      <th>4</th>\n",
       "      <td>56</td>\n",
       "      <td>96</td>\n",
       "      <td>374.6</td>\n",
       "    </tr>\n",
       "  </tbody>\n",
       "</table>\n",
       "</div>"
      ],
      "text/plain": [
       "   from   to   cost\n",
       "0    73    5  352.6\n",
       "1     5  154  347.2\n",
       "2   154  263  392.9\n",
       "3   263   56  440.8\n",
       "4    56   96  374.6"
      ]
     },
     "execution_count": 23,
     "metadata": {},
     "output_type": "execute_result"
    }
   ],
   "source": [
    "pems04.head()"
   ]
  },
  {
   "cell_type": "code",
   "execution_count": 3,
   "id": "07871751",
   "metadata": {},
   "outputs": [],
   "source": [
    "# Read the configuration file\n",
    "with open('../data/PeMS07/config.json') as f:\n",
    "    config_data = json.load(f)\n",
    "\n",
    "# Extracting relevant information from config\n",
    "rel_file = config_data[\"info\"][\"rel_file\"] + \".rel\"\n",
    "dyna_file = config_data[\"info\"][\"data_files\"][0] + \".dyna\"\n",
    "geo_file = config_data[\"info\"][\"geo_file\"] + \".geo\"\n",
    "\n",
    "# Load the dataframes\n",
    "pems07_rel = pd.read_csv(f'../data/PeMS07/{rel_file}', delimiter=',')\n",
    "pems07_dyna = pd.read_csv(f'../data/PeMS07/{dyna_file}', delimiter=',')\n",
    "pems07_geo = pd.read_csv(f'../data/PeMS07/{geo_file}', delimiter=',')"
   ]
  },
  {
   "cell_type": "code",
   "execution_count": 4,
   "id": "67c2f91e",
   "metadata": {},
   "outputs": [],
   "source": [
    "# Read the configuration file\n",
    "with open('../data/PeMS08/config.json') as f:\n",
    "    config_data = json.load(f)\n",
    "\n",
    "# Extracting relevant information from config\n",
    "rel_file = config_data[\"info\"][\"rel_file\"] + \".rel\"\n",
    "dyna_file = config_data[\"info\"][\"data_files\"][0] + \".dyna\"\n",
    "geo_file = config_data[\"info\"][\"geo_file\"] + \".geo\"\n",
    "\n",
    "# Load the dataframes\n",
    "pems08_rel = pd.read_csv(f'../data/PeMS08/{rel_file}', delimiter=',')\n",
    "pems08_dyna = pd.read_csv(f'../data/PeMS08/{dyna_file}', delimiter=',')\n",
    "pems08_geo = pd.read_csv(f'../data/PeMS08/{geo_file}', delimiter=',')"
   ]
  },
  {
   "cell_type": "code",
   "execution_count": 5,
   "id": "e9c1e723",
   "metadata": {},
   "outputs": [],
   "source": [
    "with open('../data/NYCTaxi/config.json') as f:\n",
    "    config_data = json.load(f)\n",
    "\n",
    "# Extracting relevant information from config\n",
    "NYCTaxi_grid_file = config_data[\"info\"][\"data_files\"][0] + \".grid\"\n",
    "NYCTaxi_geo_file = config_data[\"info\"][\"geo_file\"] + \".geo\"\n",
    "\n",
    "# Load the dataframes\n",
    "NYCTaxi_grid = pd.read_csv(f'../data/NYCTaxi/{NYCTaxi_grid_file}', delimiter=',')\n",
    "NYCTaxi_geo = pd.read_csv(f'../data/NYCTaxi/{NYCTaxi_geo_file}', delimiter=',')"
   ]
  },
  {
   "cell_type": "code",
   "execution_count": 12,
   "id": "1aacebe6",
   "metadata": {},
   "outputs": [],
   "source": [
    "# Read the configuration file\n",
    "with open('../data/T-Drive/config.json') as f:\n",
    "    config_data = json.load(f)\n",
    "\n",
    "# Extracting relevant information from config\n",
    "rel_file = config_data[\"info\"][\"rel_file\"] + \".rel\"\n",
    "grid_file = config_data[\"info\"][\"data_files\"][0] + \".grid\"\n",
    "geo_file = config_data[\"info\"][\"geo_file\"] + \".geo\"\n",
    "\n",
    "# Load the dataframes\n",
    "T_Drive_rel = pd.read_csv(f'../data/T-Drive/{rel_file}', delimiter=',')\n",
    "T_Drive_grid = pd.read_csv(f'../data/T-Drive/{grid_file}', delimiter=',')\n",
    "T_Drive_geo = pd.read_csv(f'../data/T-Drive/{geo_file}', delimiter=',')"
   ]
  },
  {
   "cell_type": "code",
   "execution_count": 16,
   "id": "292be1cc",
   "metadata": {},
   "outputs": [],
   "source": [
    "pems04 = pd.read_csv('../data/PEMS04.csv')\n",
    "pems07 = pd.read_csv('../data/PEMS07.csv')\n",
    "pems08 = pd.read_csv('../data/PEMS08.csv')\n",
    "taxi_zones = pd.read_csv('../data/taxi_zone_geo.csv')\n",
    "taxi_trips = pd.read_csv('../data/taxi_trip_data.csv')"
   ]
  },
  {
   "cell_type": "code",
   "execution_count": 18,
   "id": "f3d857ea",
   "metadata": {},
   "outputs": [
    {
     "data": {
      "text/html": [
       "<div>\n",
       "<style scoped>\n",
       "    .dataframe tbody tr th:only-of-type {\n",
       "        vertical-align: middle;\n",
       "    }\n",
       "\n",
       "    .dataframe tbody tr th {\n",
       "        vertical-align: top;\n",
       "    }\n",
       "\n",
       "    .dataframe thead th {\n",
       "        text-align: right;\n",
       "    }\n",
       "</style>\n",
       "<table border=\"1\" class=\"dataframe\">\n",
       "  <thead>\n",
       "    <tr style=\"text-align: right;\">\n",
       "      <th></th>\n",
       "      <th>zone_id</th>\n",
       "      <th>zone_name</th>\n",
       "      <th>borough</th>\n",
       "      <th>zone_geom</th>\n",
       "    </tr>\n",
       "  </thead>\n",
       "  <tbody>\n",
       "    <tr>\n",
       "      <th>0</th>\n",
       "      <td>1</td>\n",
       "      <td>Newark Airport</td>\n",
       "      <td>EWR</td>\n",
       "      <td>POLYGON((-74.1856319999999 40.6916479999999, -...</td>\n",
       "    </tr>\n",
       "    <tr>\n",
       "      <th>1</th>\n",
       "      <td>3</td>\n",
       "      <td>Allerton/Pelham Gardens</td>\n",
       "      <td>Bronx</td>\n",
       "      <td>POLYGON((-73.848596761 40.8716707849999, -73.8...</td>\n",
       "    </tr>\n",
       "    <tr>\n",
       "      <th>2</th>\n",
       "      <td>18</td>\n",
       "      <td>Bedford Park</td>\n",
       "      <td>Bronx</td>\n",
       "      <td>POLYGON((-73.8844286139999 40.8668003789999, -...</td>\n",
       "    </tr>\n",
       "    <tr>\n",
       "      <th>3</th>\n",
       "      <td>20</td>\n",
       "      <td>Belmont</td>\n",
       "      <td>Bronx</td>\n",
       "      <td>POLYGON((-73.8839239579998 40.8644177609999, -...</td>\n",
       "    </tr>\n",
       "    <tr>\n",
       "      <th>4</th>\n",
       "      <td>31</td>\n",
       "      <td>Bronx Park</td>\n",
       "      <td>Bronx</td>\n",
       "      <td>POLYGON((-73.8710017319999 40.8572767429999, -...</td>\n",
       "    </tr>\n",
       "  </tbody>\n",
       "</table>\n",
       "</div>"
      ],
      "text/plain": [
       "   zone_id                zone_name borough  \\\n",
       "0        1           Newark Airport     EWR   \n",
       "1        3  Allerton/Pelham Gardens   Bronx   \n",
       "2       18             Bedford Park   Bronx   \n",
       "3       20                  Belmont   Bronx   \n",
       "4       31               Bronx Park   Bronx   \n",
       "\n",
       "                                           zone_geom  \n",
       "0  POLYGON((-74.1856319999999 40.6916479999999, -...  \n",
       "1  POLYGON((-73.848596761 40.8716707849999, -73.8...  \n",
       "2  POLYGON((-73.8844286139999 40.8668003789999, -...  \n",
       "3  POLYGON((-73.8839239579998 40.8644177609999, -...  \n",
       "4  POLYGON((-73.8710017319999 40.8572767429999, -...  "
      ]
     },
     "execution_count": 18,
     "metadata": {},
     "output_type": "execute_result"
    }
   ],
   "source": [
    "taxi_zones.head()"
   ]
  },
  {
   "cell_type": "code",
   "execution_count": 24,
   "id": "83373f48",
   "metadata": {},
   "outputs": [
    {
     "data": {
      "text/html": [
       "<div>\n",
       "<style scoped>\n",
       "    .dataframe tbody tr th:only-of-type {\n",
       "        vertical-align: middle;\n",
       "    }\n",
       "\n",
       "    .dataframe tbody tr th {\n",
       "        vertical-align: top;\n",
       "    }\n",
       "\n",
       "    .dataframe thead th {\n",
       "        text-align: right;\n",
       "    }\n",
       "</style>\n",
       "<table border=\"1\" class=\"dataframe\">\n",
       "  <thead>\n",
       "    <tr style=\"text-align: right;\">\n",
       "      <th></th>\n",
       "      <th>vendor_id</th>\n",
       "      <th>pickup_datetime</th>\n",
       "      <th>dropoff_datetime</th>\n",
       "      <th>passenger_count</th>\n",
       "      <th>trip_distance</th>\n",
       "      <th>rate_code</th>\n",
       "      <th>store_and_fwd_flag</th>\n",
       "      <th>payment_type</th>\n",
       "      <th>fare_amount</th>\n",
       "      <th>extra</th>\n",
       "      <th>mta_tax</th>\n",
       "      <th>tip_amount</th>\n",
       "      <th>tolls_amount</th>\n",
       "      <th>imp_surcharge</th>\n",
       "      <th>total_amount</th>\n",
       "      <th>pickup_location_id</th>\n",
       "      <th>dropoff_location_id</th>\n",
       "    </tr>\n",
       "  </thead>\n",
       "  <tbody>\n",
       "    <tr>\n",
       "      <th>0</th>\n",
       "      <td>2</td>\n",
       "      <td>2018-03-29 13:37:13</td>\n",
       "      <td>2018-03-29 14:17:01</td>\n",
       "      <td>1</td>\n",
       "      <td>18.15</td>\n",
       "      <td>3</td>\n",
       "      <td>N</td>\n",
       "      <td>1</td>\n",
       "      <td>70.0</td>\n",
       "      <td>0.0</td>\n",
       "      <td>0.0</td>\n",
       "      <td>16.16</td>\n",
       "      <td>10.50</td>\n",
       "      <td>0.3</td>\n",
       "      <td>96.96</td>\n",
       "      <td>161</td>\n",
       "      <td>1</td>\n",
       "    </tr>\n",
       "    <tr>\n",
       "      <th>1</th>\n",
       "      <td>2</td>\n",
       "      <td>2018-03-29 13:37:18</td>\n",
       "      <td>2018-03-29 14:15:33</td>\n",
       "      <td>1</td>\n",
       "      <td>4.59</td>\n",
       "      <td>1</td>\n",
       "      <td>N</td>\n",
       "      <td>1</td>\n",
       "      <td>25.0</td>\n",
       "      <td>0.0</td>\n",
       "      <td>0.5</td>\n",
       "      <td>5.16</td>\n",
       "      <td>0.00</td>\n",
       "      <td>0.3</td>\n",
       "      <td>30.96</td>\n",
       "      <td>13</td>\n",
       "      <td>230</td>\n",
       "    </tr>\n",
       "    <tr>\n",
       "      <th>2</th>\n",
       "      <td>2</td>\n",
       "      <td>2018-03-29 13:26:57</td>\n",
       "      <td>2018-03-29 13:28:03</td>\n",
       "      <td>1</td>\n",
       "      <td>0.30</td>\n",
       "      <td>1</td>\n",
       "      <td>N</td>\n",
       "      <td>1</td>\n",
       "      <td>3.0</td>\n",
       "      <td>0.0</td>\n",
       "      <td>0.5</td>\n",
       "      <td>0.76</td>\n",
       "      <td>0.00</td>\n",
       "      <td>0.3</td>\n",
       "      <td>4.56</td>\n",
       "      <td>231</td>\n",
       "      <td>231</td>\n",
       "    </tr>\n",
       "    <tr>\n",
       "      <th>3</th>\n",
       "      <td>2</td>\n",
       "      <td>2018-03-29 13:07:48</td>\n",
       "      <td>2018-03-29 14:03:05</td>\n",
       "      <td>2</td>\n",
       "      <td>16.97</td>\n",
       "      <td>1</td>\n",
       "      <td>N</td>\n",
       "      <td>1</td>\n",
       "      <td>49.5</td>\n",
       "      <td>0.0</td>\n",
       "      <td>0.5</td>\n",
       "      <td>5.61</td>\n",
       "      <td>5.76</td>\n",
       "      <td>0.3</td>\n",
       "      <td>61.67</td>\n",
       "      <td>231</td>\n",
       "      <td>138</td>\n",
       "    </tr>\n",
       "    <tr>\n",
       "      <th>4</th>\n",
       "      <td>2</td>\n",
       "      <td>2018-03-29 14:19:11</td>\n",
       "      <td>2018-03-29 15:19:59</td>\n",
       "      <td>5</td>\n",
       "      <td>14.45</td>\n",
       "      <td>1</td>\n",
       "      <td>N</td>\n",
       "      <td>1</td>\n",
       "      <td>45.5</td>\n",
       "      <td>0.0</td>\n",
       "      <td>0.5</td>\n",
       "      <td>10.41</td>\n",
       "      <td>5.76</td>\n",
       "      <td>0.3</td>\n",
       "      <td>62.47</td>\n",
       "      <td>87</td>\n",
       "      <td>138</td>\n",
       "    </tr>\n",
       "  </tbody>\n",
       "</table>\n",
       "</div>"
      ],
      "text/plain": [
       "   vendor_id      pickup_datetime     dropoff_datetime  passenger_count  \\\n",
       "0          2  2018-03-29 13:37:13  2018-03-29 14:17:01                1   \n",
       "1          2  2018-03-29 13:37:18  2018-03-29 14:15:33                1   \n",
       "2          2  2018-03-29 13:26:57  2018-03-29 13:28:03                1   \n",
       "3          2  2018-03-29 13:07:48  2018-03-29 14:03:05                2   \n",
       "4          2  2018-03-29 14:19:11  2018-03-29 15:19:59                5   \n",
       "\n",
       "   trip_distance  rate_code store_and_fwd_flag  payment_type  fare_amount  \\\n",
       "0          18.15          3                  N             1         70.0   \n",
       "1           4.59          1                  N             1         25.0   \n",
       "2           0.30          1                  N             1          3.0   \n",
       "3          16.97          1                  N             1         49.5   \n",
       "4          14.45          1                  N             1         45.5   \n",
       "\n",
       "   extra  mta_tax  tip_amount  tolls_amount  imp_surcharge  total_amount  \\\n",
       "0    0.0      0.0       16.16         10.50            0.3         96.96   \n",
       "1    0.0      0.5        5.16          0.00            0.3         30.96   \n",
       "2    0.0      0.5        0.76          0.00            0.3          4.56   \n",
       "3    0.0      0.5        5.61          5.76            0.3         61.67   \n",
       "4    0.0      0.5       10.41          5.76            0.3         62.47   \n",
       "\n",
       "   pickup_location_id  dropoff_location_id  \n",
       "0                 161                    1  \n",
       "1                  13                  230  \n",
       "2                 231                  231  \n",
       "3                 231                  138  \n",
       "4                  87                  138  "
      ]
     },
     "execution_count": 24,
     "metadata": {},
     "output_type": "execute_result"
    }
   ],
   "source": [
    "taxi_trips.head()"
   ]
  },
  {
   "cell_type": "code",
   "execution_count": 10,
   "id": "4267c1e5",
   "metadata": {},
   "outputs": [
    {
     "data": {
      "text/html": [
       "<div>\n",
       "<style scoped>\n",
       "    .dataframe tbody tr th:only-of-type {\n",
       "        vertical-align: middle;\n",
       "    }\n",
       "\n",
       "    .dataframe tbody tr th {\n",
       "        vertical-align: top;\n",
       "    }\n",
       "\n",
       "    .dataframe thead th {\n",
       "        text-align: right;\n",
       "    }\n",
       "</style>\n",
       "<table border=\"1\" class=\"dataframe\">\n",
       "  <thead>\n",
       "    <tr style=\"text-align: right;\">\n",
       "      <th></th>\n",
       "      <th>rel_id</th>\n",
       "      <th>type</th>\n",
       "      <th>origin_id</th>\n",
       "      <th>destination_id</th>\n",
       "      <th>cost</th>\n",
       "    </tr>\n",
       "  </thead>\n",
       "  <tbody>\n",
       "    <tr>\n",
       "      <th>0</th>\n",
       "      <td>0</td>\n",
       "      <td>geo</td>\n",
       "      <td>73</td>\n",
       "      <td>5</td>\n",
       "      <td>352.6</td>\n",
       "    </tr>\n",
       "    <tr>\n",
       "      <th>1</th>\n",
       "      <td>1</td>\n",
       "      <td>geo</td>\n",
       "      <td>5</td>\n",
       "      <td>154</td>\n",
       "      <td>347.2</td>\n",
       "    </tr>\n",
       "    <tr>\n",
       "      <th>2</th>\n",
       "      <td>2</td>\n",
       "      <td>geo</td>\n",
       "      <td>154</td>\n",
       "      <td>263</td>\n",
       "      <td>392.9</td>\n",
       "    </tr>\n",
       "    <tr>\n",
       "      <th>3</th>\n",
       "      <td>3</td>\n",
       "      <td>geo</td>\n",
       "      <td>263</td>\n",
       "      <td>56</td>\n",
       "      <td>440.8</td>\n",
       "    </tr>\n",
       "    <tr>\n",
       "      <th>4</th>\n",
       "      <td>4</td>\n",
       "      <td>geo</td>\n",
       "      <td>56</td>\n",
       "      <td>96</td>\n",
       "      <td>374.6</td>\n",
       "    </tr>\n",
       "  </tbody>\n",
       "</table>\n",
       "</div>"
      ],
      "text/plain": [
       "   rel_id type  origin_id  destination_id   cost\n",
       "0       0  geo         73               5  352.6\n",
       "1       1  geo          5             154  347.2\n",
       "2       2  geo        154             263  392.9\n",
       "3       3  geo        263              56  440.8\n",
       "4       4  geo         56              96  374.6"
      ]
     },
     "execution_count": 10,
     "metadata": {},
     "output_type": "execute_result"
    }
   ],
   "source": [
    "pems04_rel.head()"
   ]
  },
  {
   "cell_type": "code",
   "execution_count": 11,
   "id": "03bf4192",
   "metadata": {},
   "outputs": [
    {
     "data": {
      "text/html": [
       "<div>\n",
       "<style scoped>\n",
       "    .dataframe tbody tr th:only-of-type {\n",
       "        vertical-align: middle;\n",
       "    }\n",
       "\n",
       "    .dataframe tbody tr th {\n",
       "        vertical-align: top;\n",
       "    }\n",
       "\n",
       "    .dataframe thead th {\n",
       "        text-align: right;\n",
       "    }\n",
       "</style>\n",
       "<table border=\"1\" class=\"dataframe\">\n",
       "  <thead>\n",
       "    <tr style=\"text-align: right;\">\n",
       "      <th></th>\n",
       "      <th>geo_id</th>\n",
       "      <th>type</th>\n",
       "      <th>coordinates</th>\n",
       "    </tr>\n",
       "  </thead>\n",
       "  <tbody>\n",
       "    <tr>\n",
       "      <th>0</th>\n",
       "      <td>0</td>\n",
       "      <td>Point</td>\n",
       "      <td>[]</td>\n",
       "    </tr>\n",
       "    <tr>\n",
       "      <th>1</th>\n",
       "      <td>1</td>\n",
       "      <td>Point</td>\n",
       "      <td>[]</td>\n",
       "    </tr>\n",
       "    <tr>\n",
       "      <th>2</th>\n",
       "      <td>2</td>\n",
       "      <td>Point</td>\n",
       "      <td>[]</td>\n",
       "    </tr>\n",
       "    <tr>\n",
       "      <th>3</th>\n",
       "      <td>3</td>\n",
       "      <td>Point</td>\n",
       "      <td>[]</td>\n",
       "    </tr>\n",
       "    <tr>\n",
       "      <th>4</th>\n",
       "      <td>4</td>\n",
       "      <td>Point</td>\n",
       "      <td>[]</td>\n",
       "    </tr>\n",
       "  </tbody>\n",
       "</table>\n",
       "</div>"
      ],
      "text/plain": [
       "   geo_id   type coordinates\n",
       "0       0  Point          []\n",
       "1       1  Point          []\n",
       "2       2  Point          []\n",
       "3       3  Point          []\n",
       "4       4  Point          []"
      ]
     },
     "execution_count": 11,
     "metadata": {},
     "output_type": "execute_result"
    }
   ],
   "source": [
    "pems04_geo.head()"
   ]
  },
  {
   "cell_type": "code",
   "execution_count": 20,
   "id": "062f44cd",
   "metadata": {},
   "outputs": [
    {
     "data": {
      "text/html": [
       "<div>\n",
       "<style scoped>\n",
       "    .dataframe tbody tr th:only-of-type {\n",
       "        vertical-align: middle;\n",
       "    }\n",
       "\n",
       "    .dataframe tbody tr th {\n",
       "        vertical-align: top;\n",
       "    }\n",
       "\n",
       "    .dataframe thead th {\n",
       "        text-align: right;\n",
       "    }\n",
       "</style>\n",
       "<table border=\"1\" class=\"dataframe\">\n",
       "  <thead>\n",
       "    <tr style=\"text-align: right;\">\n",
       "      <th></th>\n",
       "      <th>dyna_id</th>\n",
       "      <th>type</th>\n",
       "      <th>time</th>\n",
       "      <th>row_id</th>\n",
       "      <th>column_id</th>\n",
       "      <th>inflow</th>\n",
       "      <th>outflow</th>\n",
       "    </tr>\n",
       "  </thead>\n",
       "  <tbody>\n",
       "    <tr>\n",
       "      <th>0</th>\n",
       "      <td>0</td>\n",
       "      <td>state</td>\n",
       "      <td>2014-01-01T00:00:00Z</td>\n",
       "      <td>0</td>\n",
       "      <td>0</td>\n",
       "      <td>42.0</td>\n",
       "      <td>32.0</td>\n",
       "    </tr>\n",
       "    <tr>\n",
       "      <th>1</th>\n",
       "      <td>1</td>\n",
       "      <td>state</td>\n",
       "      <td>2014-01-01T00:30:00Z</td>\n",
       "      <td>0</td>\n",
       "      <td>0</td>\n",
       "      <td>65.0</td>\n",
       "      <td>49.0</td>\n",
       "    </tr>\n",
       "    <tr>\n",
       "      <th>2</th>\n",
       "      <td>2</td>\n",
       "      <td>state</td>\n",
       "      <td>2014-01-01T01:00:00Z</td>\n",
       "      <td>0</td>\n",
       "      <td>0</td>\n",
       "      <td>34.0</td>\n",
       "      <td>49.0</td>\n",
       "    </tr>\n",
       "    <tr>\n",
       "      <th>3</th>\n",
       "      <td>3</td>\n",
       "      <td>state</td>\n",
       "      <td>2014-01-01T01:30:00Z</td>\n",
       "      <td>0</td>\n",
       "      <td>0</td>\n",
       "      <td>28.0</td>\n",
       "      <td>42.0</td>\n",
       "    </tr>\n",
       "    <tr>\n",
       "      <th>4</th>\n",
       "      <td>4</td>\n",
       "      <td>state</td>\n",
       "      <td>2014-01-01T02:00:00Z</td>\n",
       "      <td>0</td>\n",
       "      <td>0</td>\n",
       "      <td>27.0</td>\n",
       "      <td>52.0</td>\n",
       "    </tr>\n",
       "  </tbody>\n",
       "</table>\n",
       "</div>"
      ],
      "text/plain": [
       "   dyna_id   type                  time  row_id  column_id  inflow  outflow\n",
       "0        0  state  2014-01-01T00:00:00Z       0          0    42.0     32.0\n",
       "1        1  state  2014-01-01T00:30:00Z       0          0    65.0     49.0\n",
       "2        2  state  2014-01-01T01:00:00Z       0          0    34.0     49.0\n",
       "3        3  state  2014-01-01T01:30:00Z       0          0    28.0     42.0\n",
       "4        4  state  2014-01-01T02:00:00Z       0          0    27.0     52.0"
      ]
     },
     "execution_count": 20,
     "metadata": {},
     "output_type": "execute_result"
    }
   ],
   "source": [
    "NYCTaxi_grid.head()"
   ]
  },
  {
   "cell_type": "code",
   "execution_count": 25,
   "id": "6d2505d2",
   "metadata": {},
   "outputs": [
    {
     "data": {
      "text/plain": [
       "1314000"
      ]
     },
     "execution_count": 25,
     "metadata": {},
     "output_type": "execute_result"
    }
   ],
   "source": [
    "NYCTaxi_grid['dyna_id'].nunique()"
   ]
  },
  {
   "cell_type": "code",
   "execution_count": 26,
   "id": "ebc6b236",
   "metadata": {},
   "outputs": [
    {
     "data": {
      "text/plain": [
       "(1314000, 7)"
      ]
     },
     "execution_count": 26,
     "metadata": {},
     "output_type": "execute_result"
    }
   ],
   "source": [
    "NYCTaxi_grid.shape"
   ]
  },
  {
   "cell_type": "code",
   "execution_count": null,
   "id": "7feb7041",
   "metadata": {},
   "outputs": [],
   "source": [
    "# Read PeMS04.dyna\n",
    "dyna_df = pd.read_csv('../data/PEMS04/PeMS04.dyna', delimiter=',')"
   ]
  },
  {
   "cell_type": "code",
   "execution_count": null,
   "id": "a07e30f4",
   "metadata": {},
   "outputs": [],
   "source": [
    "rel_df = pd.read_csv('../data/PEMS07/PeMS07.geo', delimiter=',')\n",
    "rel_df.head()"
   ]
  },
  {
   "cell_type": "markdown",
   "id": "7193821a",
   "metadata": {},
   "source": [
    "<a id='#data'></a>\n",
    "<font size=\"+2\" color='#053c96'><b> Data</b></font>  \n",
    "[back to top](#table-of-contents)"
   ]
  },
  {
   "cell_type": "markdown",
   "id": "5adb7564",
   "metadata": {},
   "source": [
    "<font size=\"+0\" color='green'><b> Data Loading</b></font>  "
   ]
  },
  {
   "cell_type": "code",
   "execution_count": null,
   "id": "ded840cf",
   "metadata": {},
   "outputs": [],
   "source": [
    "pems04 = pd.read_csv('../data/PEMS04.csv')\n",
    "pems07 = pd.read_csv('../data/PEMS07.csv')\n",
    "pems08 = pd.read_csv('../data/PEMS08.csv')\n",
    "data = pd.read_csv('../data/original_cleaned_nyc_taxi_data_2018.csv')\n",
    "taxi_zones = pd.read_csv('../data/taxi_zone_geo.csv')\n",
    "taxi_trips = pd.read_csv('../data/taxi_trip_data.csv')"
   ]
  },
  {
   "cell_type": "markdown",
   "id": "00d03d0b",
   "metadata": {},
   "source": [
    "<font size=\"+0\" color='green'><b> Data Overview</b></font>  "
   ]
  },
  {
   "cell_type": "code",
   "execution_count": null,
   "id": "5579cc6d",
   "metadata": {},
   "outputs": [],
   "source": [
    "print(pems04.info())\n",
    "pems04.shape"
   ]
  },
  {
   "cell_type": "code",
   "execution_count": null,
   "id": "268bce94",
   "metadata": {},
   "outputs": [],
   "source": [
    "print(pems07.info())\n",
    "pems07.shape"
   ]
  },
  {
   "cell_type": "code",
   "execution_count": null,
   "id": "bc37cbb0",
   "metadata": {},
   "outputs": [],
   "source": [
    "print(pems08.info())\n",
    "pems08.shape"
   ]
  },
  {
   "cell_type": "code",
   "execution_count": null,
   "id": "5f96883e",
   "metadata": {},
   "outputs": [],
   "source": [
    "print(taxi_trips.info())\n",
    "taxi_trips.shape"
   ]
  },
  {
   "cell_type": "markdown",
   "id": "d9e62ab8",
   "metadata": {},
   "source": [
    "Attributes Description:\n",
    "\n",
    "- pickup_location_id and dropoff_location_id: Represent the unique identification numbers for pickup and dropoff locations, respectively.\n",
    "- cost: Represents the cost associated with each taxi trip.\n",
    "- vendor_id: Indicates the vendor or company providing the taxi service.\n",
    "- pickup_datetime and dropoff_datetime: Capture the timestamps of the pickup and dropoff times.\n",
    "- passenger_count: Represents the number of passengers in the taxi for each trip.\n",
    "- trip_distance: Indicates the distance covered during each trip.\n",
    "- rate_code: Represents the rate code associated with each trip.\n",
    "- store_and_fwd_flag: Indicates whether the trip data was stored and forwarded.\n",
    "- payment_type: Represents the method of payment used for each trip.\n",
    "- fare_amount: Indicates the fare charged for each trip.\n",
    "- extra: Represents any extra charges incurred during the trip.\n",
    "- mta_tax: Captures the MTA tax amount for each trip.\n",
    "- tip_amount: Indicates the tip amount given for each trip.\n",
    "- tolls_amount: Represents the tolls amount paid during the trip.\n",
    "- imp_surcharge: Captures the improvement surcharge for each trip.\n",
    "- total_amount: Indicates the total cost of each trip including all additional charges and tips."
   ]
  },
  {
   "cell_type": "code",
   "execution_count": null,
   "id": "7e593ef3",
   "metadata": {},
   "outputs": [],
   "source": [
    "pems04.head()"
   ]
  },
  {
   "cell_type": "code",
   "execution_count": null,
   "id": "c2572980",
   "metadata": {},
   "outputs": [],
   "source": [
    "pems07.head()"
   ]
  },
  {
   "cell_type": "code",
   "execution_count": null,
   "id": "fcf51751",
   "metadata": {},
   "outputs": [],
   "source": [
    "pems08.head()"
   ]
  },
  {
   "cell_type": "code",
   "execution_count": null,
   "id": "6b89bd28",
   "metadata": {},
   "outputs": [],
   "source": [
    "taxi_trips.head()"
   ]
  },
  {
   "cell_type": "markdown",
   "id": "a80e01e0",
   "metadata": {},
   "source": [
    "<a id='summary-statistics'></a>\n",
    "<font size=\"+0\" color='green'><b> Summary Statistics</b></font>  "
   ]
  },
  {
   "cell_type": "code",
   "execution_count": null,
   "id": "342f87d9",
   "metadata": {},
   "outputs": [],
   "source": [
    "pems04.describe()"
   ]
  },
  {
   "cell_type": "code",
   "execution_count": null,
   "id": "8b34a3e2",
   "metadata": {},
   "outputs": [],
   "source": [
    "pems07.describe()"
   ]
  },
  {
   "cell_type": "code",
   "execution_count": null,
   "id": "8eabe8ef",
   "metadata": {},
   "outputs": [],
   "source": [
    "pems08.describe()"
   ]
  },
  {
   "cell_type": "markdown",
   "id": "36e88372",
   "metadata": {},
   "source": [
    "* Observations and Analysis\n",
    "  - Count of Data Points: pems07 has the largest count, followed by pems04 and then pems08.\n",
    "\n",
    "  - Cost Distribution: The cost values in pems04 and pems08 are significantly higher compared to pems07, which suggests further investigation into the costs in pems07 which are considerably lower.\n",
    "\n",
    "  - Data Range: There is a significant difference in the range of cost values between the datasets, indicating the possibility of different underlying factors affecting the costs.\n",
    "\n",
    "* Conclusion  \n",
    "  - The datasets represent costs from different periods (pems04, pems07, pems08), with each dataset displaying unique characteristics in terms of mean, spread, and distribution of costs. Further analysis, including data visualization and statistical tests, would be necessary to explore relationships and derive more meaningful insights from the data."
   ]
  },
  {
   "cell_type": "code",
   "execution_count": null,
   "id": "485e404a",
   "metadata": {},
   "outputs": [],
   "source": [
    "taxi_trips.describe(include='all')"
   ]
  },
  {
   "cell_type": "code",
   "execution_count": null,
   "id": "72a26a8c",
   "metadata": {},
   "outputs": [],
   "source": [
    "taxi_zones.head()"
   ]
  },
  {
   "cell_type": "markdown",
   "id": "5d5b57fe",
   "metadata": {},
   "source": [
    "<a id='exploratory-data-analysis'></a>\n",
    "<font size=\"+2\" color='#053c96'><b> Exploratory Data Analysis</b></font>  \n",
    "[back to top](#table-of-contents)"
   ]
  },
  {
   "cell_type": "markdown",
   "id": "613915dc",
   "metadata": {},
   "source": [
    "<a id='data-exploration'></a>\n",
    "<font size=\"+0\" color='green'><b> Data Exploration</b></font>  "
   ]
  },
  {
   "cell_type": "markdown",
   "id": "88360454",
   "metadata": {},
   "source": [
    "<font size=\"-0\" color='green'><b> Percentage Difference pems04/pems07</b></font>  \n",
    "\n",
    "Percentage Difference = (X_pems04 - X_pems07) / X_pems04 * 100\n",
    "\n",
    "- Mean_diff = (410.300588 - 1.462465) / 410.300588 * 100 = 99.644%\n",
    "- Std_diff = (257.518655 - 1.948768) / 257.518655 * 100 = 99.241%\n",
    "- Min_diff = (3.2 - 0.032) / 3.2 * 100 = 99.001%\n",
    "- 25%_diff = (328.775 - 0.59) / 328.775 * 100 = 99.820%\n",
    "- 50%_diff = (367.15 - 0.917) / 367.15 * 100 = 99.750%\n",
    "- 75%_diff = (422.3 - 1.612) / 422.3 * 100 = 99.618%\n",
    "- Max_diff = (2712.1 - 20.539) / 2712.1 * 100 = 99.242%\n",
    "\n",
    "So, the percentage differences are approximately:\n",
    "\n",
    "- Mean: 99.644%\n",
    "- Std: 99.241%\n",
    "- Min: 99.001%\n",
    "- 25%: 99.820%\n",
    "- 50%: 99.750%\n",
    "- 75%: 99.618%\n",
    "- Max: 99.242%"
   ]
  },
  {
   "cell_type": "markdown",
   "id": "586c485c",
   "metadata": {},
   "source": [
    "<font size=\"-0\" color='green'><b> Percentage Difference pems84/pems07</b></font>  \n",
    "\n",
    "Percentage Difference = (X_pems08 - X_pems07) / X_pems08 * 100\n",
    "\n",
    "- Mean_diff = (315.895254 - 1.462465) / 315.895254 * 100 = 99.536%\n",
    "- Std_diff = (216.686639 - 1.948768) / 216.686639 * 100  = 99.100%\n",
    "- Min_diff = (6.3 - 0.032) / 6.3 * 100 = 99.492%\n",
    "- 25%_diff = (240.3 - 0.59) / 240.3 * 100 = 99.753%\n",
    "- 50%_diff = (328.1 - 0.917) / 328.1 * 100 = 99.720%\n",
    "- 75%_diff = (372.15 - 1.612) / 372.15 * 100 = 99.566%\n",
    "- Max_diff = (3274.4 - 20.539) / 3274.4 * 100 = 99.373%\n",
    "\n",
    "So, the percentage differences are approximately:\n",
    "\n",
    "- Mean: 99.536%\n",
    "- Std: 99.100%\n",
    "- Min: 99.492%\n",
    "- 25%: 99.753%\n",
    "- 50%: 99.720%\n",
    "- 75%: 99.566%\n",
    "- Max: 99.373%"
   ]
  },
  {
   "cell_type": "code",
   "execution_count": null,
   "id": "228a4111",
   "metadata": {},
   "outputs": [],
   "source": [
    "taxi_trips['pickup_location_id'].nunique()"
   ]
  },
  {
   "cell_type": "code",
   "execution_count": null,
   "id": "6829a08a",
   "metadata": {},
   "outputs": [],
   "source": [
    "taxi_trips['dropoff_location_id'].nunique()"
   ]
  },
  {
   "cell_type": "code",
   "execution_count": null,
   "id": "30a18e97",
   "metadata": {},
   "outputs": [],
   "source": [
    "taxi_trips['passenger_count'].value_counts()"
   ]
  },
  {
   "cell_type": "code",
   "execution_count": null,
   "id": "69541718",
   "metadata": {},
   "outputs": [],
   "source": [
    "taxi_trips['vendor_id'].value_counts()"
   ]
  },
  {
   "cell_type": "code",
   "execution_count": null,
   "id": "c5f0c7a7",
   "metadata": {},
   "outputs": [],
   "source": [
    "taxi_trips['rate_code'].value_counts()"
   ]
  },
  {
   "cell_type": "markdown",
   "id": "fab1d39c",
   "metadata": {},
   "source": [
    "<a id='data-visualization'></a>\n",
    "<font size=\"+0\" color='green'><b> Data Visualization</b></font>  "
   ]
  },
  {
   "cell_type": "code",
   "execution_count": null,
   "id": "b000f207",
   "metadata": {},
   "outputs": [],
   "source": [
    "# count the number of occurrences for each type\n",
    "type_counts = taxi_trips['vendor_id'].value_counts()\n",
    "\n",
    "# plot the bar chart\n",
    "ax = type_counts.plot.bar(rot=0)\n",
    "\n",
    "# set axis labels and title\n",
    "ax.set_xlabel('vendor_id')\n",
    "ax.set_ylabel('Count')\n",
    "ax.set_title('Number of Vendor by ID')\n",
    "\n",
    "# show the plot\n",
    "plt.show()"
   ]
  },
  {
   "cell_type": "code",
   "execution_count": null,
   "id": "2ce5f04f",
   "metadata": {},
   "outputs": [],
   "source": [
    "fig, ax = plt.subplots(figsize=(8, 6))\n",
    "sns.boxplot(x=taxi_trips['cost'], data=taxi_trips, ax=ax)\n",
    "sns.set_style('whitegrid')\n",
    "sns.despine(left=True)\n",
    "ax.set_title('Box plot of Price', fontsize=20)\n",
    "ax.set_xlabel('Price', fontsize=16)\n",
    "ax.set_ylabel('Value', fontsize=16)\n",
    "plt.show()"
   ]
  },
  {
   "cell_type": "code",
   "execution_count": null,
   "id": "cd2b8027",
   "metadata": {},
   "outputs": [],
   "source": [
    "\n",
    "# Group the wines by country and type, and count the number of wines in each group\n",
    "grouped = taxi_trips.groupby(['passenger_count', 'vendor_id'])['vendor_id'].count().unstack()\n",
    "\n",
    "# Set the figure size\n",
    "#plt.subplots(figsize=(10, 6))\n",
    "plt.figure(figsize = (35,20))\n",
    "# Plot a stacked bar chart of the wine types for each country\n",
    "sns.set_palette('husl')\n",
    "grouped.plot(kind='bar', stacked=True)\n",
    "plt.xlabel('passenger_count')\n",
    "plt.ylabel('vendor_id')\n",
    "plt.title('Distribution of passenger count by vendor_id')\n",
    "plt.show();"
   ]
  },
  {
   "cell_type": "code",
   "execution_count": null,
   "id": "ee948359",
   "metadata": {},
   "outputs": [],
   "source": []
  },
  {
   "cell_type": "code",
   "execution_count": null,
   "id": "843e547b",
   "metadata": {},
   "outputs": [],
   "source": []
  },
  {
   "cell_type": "markdown",
   "id": "2377a37f",
   "metadata": {},
   "source": [
    "<a id='feature-correlation'></a>\n",
    "<font size=\"+0\" color='green'><b> Feature Correlation</b></font>  "
   ]
  },
  {
   "cell_type": "markdown",
   "id": "98e0bd7c",
   "metadata": {},
   "source": [
    "<a id='data-preparation'></a>\n",
    "<font size=\"+2\" color='#053c96'><b> Data Preparation</b></font>  \n",
    "[back to top](#table-of-contents)"
   ]
  },
  {
   "cell_type": "markdown",
   "id": "c77fdda0",
   "metadata": {},
   "source": [
    "<font size=\"+0\" color='green'><b> Data CLeaning</b></font>  "
   ]
  },
  {
   "cell_type": "code",
   "execution_count": null,
   "id": "b57cae57",
   "metadata": {},
   "outputs": [],
   "source": [
    "pems07['cost'] = pems07['cost'] * 100"
   ]
  },
  {
   "cell_type": "code",
   "execution_count": null,
   "id": "e8cfcfb4",
   "metadata": {},
   "outputs": [],
   "source": [
    "pems = combine_dataframes([pems04, pems07, pems08])"
   ]
  },
  {
   "cell_type": "code",
   "execution_count": null,
   "id": "85f02bb4",
   "metadata": {},
   "outputs": [],
   "source": [
    "# Renaming the columns\n",
    "pems.rename(columns={'from': 'pickup_location_id', 'to': 'dropoff_location_id'}, inplace=True)"
   ]
  },
  {
   "cell_type": "code",
   "execution_count": null,
   "id": "2a7d511b",
   "metadata": {},
   "outputs": [],
   "source": [
    "df = pd.merge(pems, taxi_trips, on=['pickup_location_id', 'dropoff_location_id'], how='inner')"
   ]
  },
  {
   "cell_type": "code",
   "execution_count": null,
   "id": "42bfdc62",
   "metadata": {},
   "outputs": [],
   "source": [
    "df.head()"
   ]
  },
  {
   "cell_type": "code",
   "execution_count": null,
   "id": "26cb992a",
   "metadata": {},
   "outputs": [],
   "source": [
    "df.shape"
   ]
  },
  {
   "cell_type": "code",
   "execution_count": null,
   "id": "cd885fc7",
   "metadata": {},
   "outputs": [],
   "source": [
    "df.duplicated().sum()"
   ]
  },
  {
   "cell_type": "code",
   "execution_count": null,
   "id": "a5e02b64",
   "metadata": {},
   "outputs": [],
   "source": [
    "df.drop_duplicates(inplace=True)"
   ]
  },
  {
   "cell_type": "code",
   "execution_count": null,
   "id": "95c7968f",
   "metadata": {},
   "outputs": [],
   "source": [
    "df.isna().sum()"
   ]
  },
  {
   "cell_type": "markdown",
   "id": "9649a732",
   "metadata": {},
   "source": [
    "<font size=\"+0\" color='green'><b> Handling Imbalanced Classes</b></font>  "
   ]
  },
  {
   "cell_type": "markdown",
   "id": "502405d3",
   "metadata": {},
   "source": [
    "<font size=\"+0\" color='green'><b> Feature Engineering</b></font>  "
   ]
  },
  {
   "cell_type": "markdown",
   "id": "74fb2098",
   "metadata": {},
   "source": [
    "<font size=\"+0\" color='green'><b> Feature Selection</b></font>  "
   ]
  },
  {
   "cell_type": "markdown",
   "id": "36f53cc7",
   "metadata": {},
   "source": [
    "<font size=\"+0\" color='green'><b> Data Transformation</b></font>  "
   ]
  },
  {
   "cell_type": "markdown",
   "id": "b23f4664",
   "metadata": {},
   "source": [
    "<font size=\"+0\" color='green'><b> Data Splitting</b></font>  "
   ]
  }
 ],
 "metadata": {
  "kernelspec": {
   "display_name": "Python 3 (ipykernel)",
   "language": "python",
   "name": "python3"
  },
  "language_info": {
   "codemirror_mode": {
    "name": "ipython",
    "version": 3
   },
   "file_extension": ".py",
   "mimetype": "text/x-python",
   "name": "python",
   "nbconvert_exporter": "python",
   "pygments_lexer": "ipython3",
   "version": "3.10.9"
  }
 },
 "nbformat": 4,
 "nbformat_minor": 5
}
