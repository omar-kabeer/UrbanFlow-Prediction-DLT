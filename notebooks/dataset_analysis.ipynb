{
 "cells": [
  {
   "cell_type": "markdown",
   "id": "8c1bcd0e",
   "metadata": {},
   "source": [
    "<h2><center> AquaInsight: Exploring Global Wastewater Treatment Patterns</h2></center>\n",
    "<figure>\n",
    "<center><img src =\"https://th.bing.com/th/id/OIP.wuNPTx42LyVnFMqRofDVPQHaGB?pid=ImgDet&rs=1\" width = \"750\" height = '500' alt=\"unsplash.com\"/>"
   ]
  },
  {
   "cell_type": "markdown",
   "id": "348f1af0",
   "metadata": {},
   "source": [
    "## Author: Umar Kabir\n",
    "\n",
    "Date: [July, 2023]"
   ]
  },
  {
   "cell_type": "markdown",
   "id": "2ad33f76",
   "metadata": {},
   "source": [
    "<a id='table-of-contents'></a>\n",
    "# Table of Contents\n",
    "\n",
    "1. [Introduction](#introduction)\n",
    "    - Motivation\n",
    "    - Problem Statement\n",
    "    - Objective\n",
    "    - Data Source\n",
    "    - Importing Dependencies  \n",
    "\n",
    "\n",
    "2. [Data](#2-data)\n",
    "    - Data Loading\n",
    "    - Dataset Overview\n",
    "\n",
    "\n",
    "3. [Exploratory Data Analysis](#exploratory-data-analysis)\n",
    "    - Descriptive Statistics\n",
    "    - Data Visualization\n",
    "    - Correlation Analysis\n",
    "    - Outlier Detection\n",
    "\n",
    "\n",
    "4. [Data Preparation](#data-preparation)\n",
    "    - Data Cleaning\n",
    "    - Handling Missing Values\n",
    "    - Handling Imbalanced Classes\n",
    "    - Feature Selection\n",
    "    - Feature Engineering\n",
    "    - Data Transformation\n",
    "    - Data Splitting\n",
    "\n",
    "\n",
    "5. [Model Development](#model-development)\n",
    "    - Baseline Model\n",
    "    - Model Selection\n",
    "    - Model Training\n",
    "    - Hyperparameter Tuning\n",
    "\n",
    "\n",
    "6. [Model Evaluation](#model-evaluation)\n",
    "    - Performance Metrics\n",
    "    - Confusion Matrix\n",
    "    - ROC Curve\n",
    "    - Precision-Recall Curve\n",
    "    - Cross-Validation\n",
    "    - Bias-Variance Tradeoff\n",
    "\n",
    "\n",
    "7. [Model Interpretation](#model-interpretation)\n",
    "    - Feature Importance\n",
    "    - Model Explanation Techniques\n",
    "    - Business Impact Analysis\n",
    "\n",
    "\n",
    "8. [Conclusion](#conclusion)\n",
    "    - Summary of Findings\n",
    "    - Recommendations\n",
    "    - Limitations\n",
    "    - Future Work\n",
    "    - Final Thoughts\n",
    "\n",
    "\n",
    "9. [References](#references)"
   ]
  },
  {
   "cell_type": "markdown",
   "id": "cb7bc0f0",
   "metadata": {},
   "source": [
    "<a id='introduction'></a>\n",
    "<font size=\"+2\" color='#053c96'><b> Introduction</b></font>  \n",
    "[back to top](#table-of-contents)  "
   ]
  },
  {
   "cell_type": "markdown",
   "id": "007b4139",
   "metadata": {},
   "source": [
    "<font size=\"+0\" color='green'><b> Possible Target Variables</b></font>  \n"
   ]
  },
  {
   "cell_type": "markdown",
   "id": "b95dbff8",
   "metadata": {},
   "source": [
    "<font size=\"+0\" color='green'><b> Motivation</b></font>  \n"
   ]
  },
  {
   "cell_type": "markdown",
   "id": "74cb2b87",
   "metadata": {},
   "source": [
    "<font size=\"+0\" color='green'><b> Problem Statement</b></font>  \n",
    "\n"
   ]
  },
  {
   "cell_type": "markdown",
   "id": "da06c58d",
   "metadata": {},
   "source": [
    "<font size=\"+0\" color='green'><b> Objectives</b></font>  \n"
   ]
  },
  {
   "cell_type": "markdown",
   "id": "46686294",
   "metadata": {},
   "source": [
    "<font size=\"+0\" color='green'><b> Data Source</b></font>  \n"
   ]
  },
  {
   "cell_type": "markdown",
   "id": "bafda93c",
   "metadata": {},
   "source": [
    "<font size=\"+0\" color='green'><b> Importing Dependencies</b></font>  "
   ]
  },
  {
   "cell_type": "code",
   "execution_count": 1,
   "id": "1ca49672",
   "metadata": {},
   "outputs": [],
   "source": [
    "import sys\n",
    "# Insert the parent path relative to this notebook so we can import from the src folder.\n",
    "sys.path.insert(0, \"..\")\n",
    "\n",
    "from src.dependencies import *"
   ]
  },
  {
   "cell_type": "markdown",
   "id": "7193821a",
   "metadata": {},
   "source": [
    "<a id='#data'></a>\n",
    "<font size=\"+2\" color='#053c96'><b> Data</b></font>  \n",
    "[back to top](#table-of-contents)"
   ]
  },
  {
   "cell_type": "markdown",
   "id": "5adb7564",
   "metadata": {},
   "source": [
    "<font size=\"+0\" color='green'><b> Data Loading</b></font>  "
   ]
  },
  {
   "cell_type": "code",
   "execution_count": 2,
   "id": "ded840cf",
   "metadata": {},
   "outputs": [],
   "source": [
    "pems03 = pd.read_csv('../data/PEMS03.csv')\n",
    "pems04 = pd.read_csv('../data/PEMS04.csv')\n",
    "pems07 = pd.read_csv('../data/PEMS07.csv')\n",
    "pems08 = pd.read_csv('../data/PEMS08.csv')\n",
    "original = pd.read_csv('../data/original_cleaned_nyc_taxi_data_2018.csv')\n",
    "taxi_zones = pd.read_csv('../data/taxi_zone_geo.csv')\n",
    "taxi_trips = pd.read_csv('../data/taxi_trip_data.csv')"
   ]
  },
  {
   "cell_type": "markdown",
   "id": "00d03d0b",
   "metadata": {},
   "source": [
    "<font size=\"+0\" color='green'><b> Data Overview</b></font>  "
   ]
  },
  {
   "cell_type": "code",
   "execution_count": 3,
   "id": "5579cc6d",
   "metadata": {},
   "outputs": [
    {
     "data": {
      "text/html": [
       "<div>\n",
       "<style scoped>\n",
       "    .dataframe tbody tr th:only-of-type {\n",
       "        vertical-align: middle;\n",
       "    }\n",
       "\n",
       "    .dataframe tbody tr th {\n",
       "        vertical-align: top;\n",
       "    }\n",
       "\n",
       "    .dataframe thead th {\n",
       "        text-align: right;\n",
       "    }\n",
       "</style>\n",
       "<table border=\"1\" class=\"dataframe\">\n",
       "  <thead>\n",
       "    <tr style=\"text-align: right;\">\n",
       "      <th></th>\n",
       "      <th>from</th>\n",
       "      <th>to</th>\n",
       "      <th>distance</th>\n",
       "    </tr>\n",
       "  </thead>\n",
       "  <tbody>\n",
       "    <tr>\n",
       "      <th>0</th>\n",
       "      <td>317842</td>\n",
       "      <td>318711</td>\n",
       "      <td>0.872</td>\n",
       "    </tr>\n",
       "    <tr>\n",
       "      <th>1</th>\n",
       "      <td>318721</td>\n",
       "      <td>315955</td>\n",
       "      <td>1.322</td>\n",
       "    </tr>\n",
       "    <tr>\n",
       "      <th>2</th>\n",
       "      <td>315927</td>\n",
       "      <td>318236</td>\n",
       "      <td>1.222</td>\n",
       "    </tr>\n",
       "    <tr>\n",
       "      <th>3</th>\n",
       "      <td>318711</td>\n",
       "      <td>318721</td>\n",
       "      <td>0.233</td>\n",
       "    </tr>\n",
       "    <tr>\n",
       "      <th>4</th>\n",
       "      <td>318236</td>\n",
       "      <td>317843</td>\n",
       "      <td>1.220</td>\n",
       "    </tr>\n",
       "  </tbody>\n",
       "</table>\n",
       "</div>"
      ],
      "text/plain": [
       "     from      to  distance\n",
       "0  317842  318711     0.872\n",
       "1  318721  315955     1.322\n",
       "2  315927  318236     1.222\n",
       "3  318711  318721     0.233\n",
       "4  318236  317843     1.220"
      ]
     },
     "execution_count": 3,
     "metadata": {},
     "output_type": "execute_result"
    }
   ],
   "source": [
    "pems03.head()"
   ]
  },
  {
   "cell_type": "code",
   "execution_count": 4,
   "id": "268bce94",
   "metadata": {},
   "outputs": [
    {
     "data": {
      "text/html": [
       "<div>\n",
       "<style scoped>\n",
       "    .dataframe tbody tr th:only-of-type {\n",
       "        vertical-align: middle;\n",
       "    }\n",
       "\n",
       "    .dataframe tbody tr th {\n",
       "        vertical-align: top;\n",
       "    }\n",
       "\n",
       "    .dataframe thead th {\n",
       "        text-align: right;\n",
       "    }\n",
       "</style>\n",
       "<table border=\"1\" class=\"dataframe\">\n",
       "  <thead>\n",
       "    <tr style=\"text-align: right;\">\n",
       "      <th></th>\n",
       "      <th>from</th>\n",
       "      <th>to</th>\n",
       "      <th>cost</th>\n",
       "    </tr>\n",
       "  </thead>\n",
       "  <tbody>\n",
       "    <tr>\n",
       "      <th>0</th>\n",
       "      <td>73</td>\n",
       "      <td>5</td>\n",
       "      <td>352.6</td>\n",
       "    </tr>\n",
       "    <tr>\n",
       "      <th>1</th>\n",
       "      <td>5</td>\n",
       "      <td>154</td>\n",
       "      <td>347.2</td>\n",
       "    </tr>\n",
       "    <tr>\n",
       "      <th>2</th>\n",
       "      <td>154</td>\n",
       "      <td>263</td>\n",
       "      <td>392.9</td>\n",
       "    </tr>\n",
       "    <tr>\n",
       "      <th>3</th>\n",
       "      <td>263</td>\n",
       "      <td>56</td>\n",
       "      <td>440.8</td>\n",
       "    </tr>\n",
       "    <tr>\n",
       "      <th>4</th>\n",
       "      <td>56</td>\n",
       "      <td>96</td>\n",
       "      <td>374.6</td>\n",
       "    </tr>\n",
       "  </tbody>\n",
       "</table>\n",
       "</div>"
      ],
      "text/plain": [
       "   from   to   cost\n",
       "0    73    5  352.6\n",
       "1     5  154  347.2\n",
       "2   154  263  392.9\n",
       "3   263   56  440.8\n",
       "4    56   96  374.6"
      ]
     },
     "execution_count": 4,
     "metadata": {},
     "output_type": "execute_result"
    }
   ],
   "source": [
    "pems04.head()"
   ]
  },
  {
   "cell_type": "code",
   "execution_count": 6,
   "id": "bc37cbb0",
   "metadata": {},
   "outputs": [
    {
     "data": {
      "text/html": [
       "<div>\n",
       "<style scoped>\n",
       "    .dataframe tbody tr th:only-of-type {\n",
       "        vertical-align: middle;\n",
       "    }\n",
       "\n",
       "    .dataframe tbody tr th {\n",
       "        vertical-align: top;\n",
       "    }\n",
       "\n",
       "    .dataframe thead th {\n",
       "        text-align: right;\n",
       "    }\n",
       "</style>\n",
       "<table border=\"1\" class=\"dataframe\">\n",
       "  <thead>\n",
       "    <tr style=\"text-align: right;\">\n",
       "      <th></th>\n",
       "      <th>from</th>\n",
       "      <th>to</th>\n",
       "      <th>cost</th>\n",
       "    </tr>\n",
       "  </thead>\n",
       "  <tbody>\n",
       "    <tr>\n",
       "      <th>0</th>\n",
       "      <td>721</td>\n",
       "      <td>445</td>\n",
       "      <td>0.790</td>\n",
       "    </tr>\n",
       "    <tr>\n",
       "      <th>1</th>\n",
       "      <td>542</td>\n",
       "      <td>480</td>\n",
       "      <td>2.575</td>\n",
       "    </tr>\n",
       "    <tr>\n",
       "      <th>2</th>\n",
       "      <td>770</td>\n",
       "      <td>702</td>\n",
       "      <td>0.926</td>\n",
       "    </tr>\n",
       "    <tr>\n",
       "      <th>3</th>\n",
       "      <td>32</td>\n",
       "      <td>266</td>\n",
       "      <td>0.596</td>\n",
       "    </tr>\n",
       "    <tr>\n",
       "      <th>4</th>\n",
       "      <td>34</td>\n",
       "      <td>56</td>\n",
       "      <td>0.628</td>\n",
       "    </tr>\n",
       "  </tbody>\n",
       "</table>\n",
       "</div>"
      ],
      "text/plain": [
       "   from   to   cost\n",
       "0   721  445  0.790\n",
       "1   542  480  2.575\n",
       "2   770  702  0.926\n",
       "3    32  266  0.596\n",
       "4    34   56  0.628"
      ]
     },
     "execution_count": 6,
     "metadata": {},
     "output_type": "execute_result"
    }
   ],
   "source": [
    "pems07.head()"
   ]
  },
  {
   "cell_type": "code",
   "execution_count": 7,
   "id": "7f8423e1",
   "metadata": {},
   "outputs": [
    {
     "data": {
      "text/html": [
       "<div>\n",
       "<style scoped>\n",
       "    .dataframe tbody tr th:only-of-type {\n",
       "        vertical-align: middle;\n",
       "    }\n",
       "\n",
       "    .dataframe tbody tr th {\n",
       "        vertical-align: top;\n",
       "    }\n",
       "\n",
       "    .dataframe thead th {\n",
       "        text-align: right;\n",
       "    }\n",
       "</style>\n",
       "<table border=\"1\" class=\"dataframe\">\n",
       "  <thead>\n",
       "    <tr style=\"text-align: right;\">\n",
       "      <th></th>\n",
       "      <th>from</th>\n",
       "      <th>to</th>\n",
       "      <th>cost</th>\n",
       "    </tr>\n",
       "  </thead>\n",
       "  <tbody>\n",
       "    <tr>\n",
       "      <th>0</th>\n",
       "      <td>9</td>\n",
       "      <td>153</td>\n",
       "      <td>310.6</td>\n",
       "    </tr>\n",
       "    <tr>\n",
       "      <th>1</th>\n",
       "      <td>153</td>\n",
       "      <td>62</td>\n",
       "      <td>330.9</td>\n",
       "    </tr>\n",
       "    <tr>\n",
       "      <th>2</th>\n",
       "      <td>62</td>\n",
       "      <td>111</td>\n",
       "      <td>332.9</td>\n",
       "    </tr>\n",
       "    <tr>\n",
       "      <th>3</th>\n",
       "      <td>111</td>\n",
       "      <td>11</td>\n",
       "      <td>324.2</td>\n",
       "    </tr>\n",
       "    <tr>\n",
       "      <th>4</th>\n",
       "      <td>11</td>\n",
       "      <td>28</td>\n",
       "      <td>336.0</td>\n",
       "    </tr>\n",
       "  </tbody>\n",
       "</table>\n",
       "</div>"
      ],
      "text/plain": [
       "   from   to   cost\n",
       "0     9  153  310.6\n",
       "1   153   62  330.9\n",
       "2    62  111  332.9\n",
       "3   111   11  324.2\n",
       "4    11   28  336.0"
      ]
     },
     "execution_count": 7,
     "metadata": {},
     "output_type": "execute_result"
    }
   ],
   "source": [
    "pems08.head()"
   ]
  },
  {
   "cell_type": "code",
   "execution_count": 8,
   "id": "5f96883e",
   "metadata": {},
   "outputs": [
    {
     "data": {
      "text/html": [
       "<div>\n",
       "<style scoped>\n",
       "    .dataframe tbody tr th:only-of-type {\n",
       "        vertical-align: middle;\n",
       "    }\n",
       "\n",
       "    .dataframe tbody tr th {\n",
       "        vertical-align: top;\n",
       "    }\n",
       "\n",
       "    .dataframe thead th {\n",
       "        text-align: right;\n",
       "    }\n",
       "</style>\n",
       "<table border=\"1\" class=\"dataframe\">\n",
       "  <thead>\n",
       "    <tr style=\"text-align: right;\">\n",
       "      <th></th>\n",
       "      <th>Unnamed: 0</th>\n",
       "      <th>trip_distance</th>\n",
       "      <th>rate_code</th>\n",
       "      <th>store_and_fwd_flag</th>\n",
       "      <th>payment_type</th>\n",
       "      <th>fare_amount</th>\n",
       "      <th>extra</th>\n",
       "      <th>mta_tax</th>\n",
       "      <th>tip_amount</th>\n",
       "      <th>tolls_amount</th>\n",
       "      <th>imp_surcharge</th>\n",
       "      <th>total_amount</th>\n",
       "      <th>pickup_location_id</th>\n",
       "      <th>dropoff_location_id</th>\n",
       "      <th>year</th>\n",
       "      <th>month</th>\n",
       "      <th>day</th>\n",
       "      <th>day_of_week</th>\n",
       "      <th>hour_of_day</th>\n",
       "      <th>trip_duration</th>\n",
       "      <th>calculated_total_amount</th>\n",
       "    </tr>\n",
       "  </thead>\n",
       "  <tbody>\n",
       "    <tr>\n",
       "      <th>0</th>\n",
       "      <td>3</td>\n",
       "      <td>16.97</td>\n",
       "      <td>1</td>\n",
       "      <td>N</td>\n",
       "      <td>1</td>\n",
       "      <td>49.5</td>\n",
       "      <td>0.0</td>\n",
       "      <td>0.5</td>\n",
       "      <td>5.61</td>\n",
       "      <td>5.76</td>\n",
       "      <td>0.3</td>\n",
       "      <td>61.67</td>\n",
       "      <td>231</td>\n",
       "      <td>138</td>\n",
       "      <td>2018</td>\n",
       "      <td>3</td>\n",
       "      <td>29</td>\n",
       "      <td>3</td>\n",
       "      <td>13</td>\n",
       "      <td>3317.0</td>\n",
       "      <td>61.67</td>\n",
       "    </tr>\n",
       "    <tr>\n",
       "      <th>1</th>\n",
       "      <td>4</td>\n",
       "      <td>14.45</td>\n",
       "      <td>1</td>\n",
       "      <td>N</td>\n",
       "      <td>1</td>\n",
       "      <td>45.5</td>\n",
       "      <td>0.0</td>\n",
       "      <td>0.5</td>\n",
       "      <td>10.41</td>\n",
       "      <td>5.76</td>\n",
       "      <td>0.3</td>\n",
       "      <td>62.47</td>\n",
       "      <td>87</td>\n",
       "      <td>138</td>\n",
       "      <td>2018</td>\n",
       "      <td>3</td>\n",
       "      <td>29</td>\n",
       "      <td>3</td>\n",
       "      <td>14</td>\n",
       "      <td>3648.0</td>\n",
       "      <td>62.47</td>\n",
       "    </tr>\n",
       "    <tr>\n",
       "      <th>2</th>\n",
       "      <td>5</td>\n",
       "      <td>11.60</td>\n",
       "      <td>1</td>\n",
       "      <td>N</td>\n",
       "      <td>1</td>\n",
       "      <td>42.0</td>\n",
       "      <td>0.0</td>\n",
       "      <td>0.5</td>\n",
       "      <td>14.57</td>\n",
       "      <td>5.76</td>\n",
       "      <td>0.3</td>\n",
       "      <td>63.13</td>\n",
       "      <td>68</td>\n",
       "      <td>138</td>\n",
       "      <td>2018</td>\n",
       "      <td>3</td>\n",
       "      <td>29</td>\n",
       "      <td>3</td>\n",
       "      <td>14</td>\n",
       "      <td>3540.0</td>\n",
       "      <td>63.13</td>\n",
       "    </tr>\n",
       "    <tr>\n",
       "      <th>3</th>\n",
       "      <td>10</td>\n",
       "      <td>5.10</td>\n",
       "      <td>1</td>\n",
       "      <td>N</td>\n",
       "      <td>1</td>\n",
       "      <td>26.5</td>\n",
       "      <td>1.0</td>\n",
       "      <td>0.5</td>\n",
       "      <td>5.65</td>\n",
       "      <td>0.00</td>\n",
       "      <td>0.3</td>\n",
       "      <td>33.95</td>\n",
       "      <td>186</td>\n",
       "      <td>33</td>\n",
       "      <td>2018</td>\n",
       "      <td>3</td>\n",
       "      <td>29</td>\n",
       "      <td>3</td>\n",
       "      <td>16</td>\n",
       "      <td>2585.0</td>\n",
       "      <td>33.95</td>\n",
       "    </tr>\n",
       "    <tr>\n",
       "      <th>4</th>\n",
       "      <td>12</td>\n",
       "      <td>11.11</td>\n",
       "      <td>1</td>\n",
       "      <td>N</td>\n",
       "      <td>1</td>\n",
       "      <td>45.5</td>\n",
       "      <td>1.0</td>\n",
       "      <td>0.5</td>\n",
       "      <td>10.61</td>\n",
       "      <td>5.76</td>\n",
       "      <td>0.3</td>\n",
       "      <td>63.67</td>\n",
       "      <td>163</td>\n",
       "      <td>138</td>\n",
       "      <td>2018</td>\n",
       "      <td>3</td>\n",
       "      <td>29</td>\n",
       "      <td>3</td>\n",
       "      <td>16</td>\n",
       "      <td>4521.0</td>\n",
       "      <td>63.67</td>\n",
       "    </tr>\n",
       "  </tbody>\n",
       "</table>\n",
       "</div>"
      ],
      "text/plain": [
       "   Unnamed: 0  trip_distance  rate_code store_and_fwd_flag  payment_type  \\\n",
       "0           3          16.97          1                  N             1   \n",
       "1           4          14.45          1                  N             1   \n",
       "2           5          11.60          1                  N             1   \n",
       "3          10           5.10          1                  N             1   \n",
       "4          12          11.11          1                  N             1   \n",
       "\n",
       "   fare_amount  extra  mta_tax  tip_amount  tolls_amount  imp_surcharge  \\\n",
       "0         49.5    0.0      0.5        5.61          5.76            0.3   \n",
       "1         45.5    0.0      0.5       10.41          5.76            0.3   \n",
       "2         42.0    0.0      0.5       14.57          5.76            0.3   \n",
       "3         26.5    1.0      0.5        5.65          0.00            0.3   \n",
       "4         45.5    1.0      0.5       10.61          5.76            0.3   \n",
       "\n",
       "   total_amount  pickup_location_id  dropoff_location_id  year  month  day  \\\n",
       "0         61.67                 231                  138  2018      3   29   \n",
       "1         62.47                  87                  138  2018      3   29   \n",
       "2         63.13                  68                  138  2018      3   29   \n",
       "3         33.95                 186                   33  2018      3   29   \n",
       "4         63.67                 163                  138  2018      3   29   \n",
       "\n",
       "   day_of_week  hour_of_day  trip_duration  calculated_total_amount  \n",
       "0            3           13         3317.0                    61.67  \n",
       "1            3           14         3648.0                    62.47  \n",
       "2            3           14         3540.0                    63.13  \n",
       "3            3           16         2585.0                    33.95  \n",
       "4            3           16         4521.0                    63.67  "
      ]
     },
     "execution_count": 8,
     "metadata": {},
     "output_type": "execute_result"
    }
   ],
   "source": [
    "original.head()"
   ]
  },
  {
   "cell_type": "markdown",
   "id": "5d5b57fe",
   "metadata": {},
   "source": [
    "<a id='exploratory-data-analysis'></a>\n",
    "<font size=\"+2\" color='#053c96'><b> Exploratory Data Analysis</b></font>  \n",
    "[back to top](#table-of-contents)"
   ]
  },
  {
   "cell_type": "markdown",
   "id": "613915dc",
   "metadata": {},
   "source": [
    "<a id='data-exploration'></a>\n",
    "<font size=\"+0\" color='green'><b> Data Exploration</b></font>  "
   ]
  },
  {
   "cell_type": "code",
   "execution_count": 11,
   "id": "228a4111",
   "metadata": {},
   "outputs": [
    {
     "name": "stdout",
     "output_type": "stream",
     "text": [
      "\n",
      "Number of Unique Values:\n",
      "WASTE_ID      58502\n",
      "SOURCE           12\n",
      "ORG_ID        47496\n",
      "WWTP_NAME     49260\n",
      "COUNTRY         188\n",
      "CNTRY_ISO       180\n",
      "LAT_WWTP      31311\n",
      "LON_WWTP      44467\n",
      "QUAL_LOC          4\n",
      "LAT_OUT       13507\n",
      "LON_OUT       24606\n",
      "STATUS            9\n",
      "POP_SERVED    22602\n",
      "QUAL_POP          4\n",
      "WASTE_DIS     33782\n",
      "QUAL_WASTE        4\n",
      "LEVEL             3\n",
      "QUAL_LEVEL        2\n",
      "DF            45199\n",
      "HYRIV_ID      42821\n",
      "RIVER_DIS     22017\n",
      "COAST_10KM        2\n",
      "COAST_50KM        2\n",
      "DESIGN_CAP     7328\n",
      "QUAL_CAP          3\n",
      "dtype: int64\n"
     ]
    }
   ],
   "source": [
    "# Check the number of unique values in each column\n",
    "print(\"\\nNumber of Unique Values:\")\n",
    "print(df.nunique())"
   ]
  },
  {
   "cell_type": "code",
   "execution_count": 12,
   "id": "6829a08a",
   "metadata": {},
   "outputs": [
    {
     "name": "stdout",
     "output_type": "stream",
     "text": [
      "\n",
      "Missing Values:\n",
      "WASTE_ID          0\n",
      "SOURCE            0\n",
      "ORG_ID            0\n",
      "WWTP_NAME      5287\n",
      "COUNTRY           0\n",
      "CNTRY_ISO         0\n",
      "LAT_WWTP          0\n",
      "LON_WWTP          0\n",
      "QUAL_LOC          0\n",
      "LAT_OUT           0\n",
      "LON_OUT           0\n",
      "STATUS            0\n",
      "POP_SERVED        0\n",
      "QUAL_POP          0\n",
      "WASTE_DIS         0\n",
      "QUAL_WASTE        0\n",
      "LEVEL             0\n",
      "QUAL_LEVEL        0\n",
      "DF            11200\n",
      "HYRIV_ID        379\n",
      "RIVER_DIS     10551\n",
      "COAST_10KM        0\n",
      "COAST_50KM        0\n",
      "DESIGN_CAP    15835\n",
      "QUAL_CAP          0\n",
      "dtype: int64\n"
     ]
    }
   ],
   "source": [
    "# Check for any missing values in the DataFrame\n",
    "print(\"\\nMissing Values:\")\n",
    "print(df.isnull().sum())"
   ]
  },
  {
   "cell_type": "code",
   "execution_count": null,
   "id": "30a18e97",
   "metadata": {},
   "outputs": [],
   "source": []
  },
  {
   "cell_type": "code",
   "execution_count": null,
   "id": "1eb8da97",
   "metadata": {},
   "outputs": [],
   "source": []
  },
  {
   "cell_type": "code",
   "execution_count": null,
   "id": "69541718",
   "metadata": {},
   "outputs": [],
   "source": []
  },
  {
   "cell_type": "code",
   "execution_count": null,
   "id": "c5f0c7a7",
   "metadata": {},
   "outputs": [],
   "source": []
  },
  {
   "cell_type": "code",
   "execution_count": null,
   "id": "e8cfcfb4",
   "metadata": {},
   "outputs": [],
   "source": []
  },
  {
   "cell_type": "markdown",
   "id": "fab1d39c",
   "metadata": {},
   "source": [
    "<a id='data-visualization'></a>\n",
    "<font size=\"+0\" color='green'><b> Data Visualization</b></font>  "
   ]
  },
  {
   "cell_type": "markdown",
   "id": "a80e01e0",
   "metadata": {},
   "source": [
    "<a id='summary-statistics'></a>\n",
    "<font size=\"+0\" color='green'><b> Summary Statistics</b></font>  "
   ]
  },
  {
   "cell_type": "markdown",
   "id": "2377a37f",
   "metadata": {},
   "source": [
    "<a id='feature-correlation'></a>\n",
    "<font size=\"+0\" color='green'><b> Feature Correlation</b></font>  "
   ]
  },
  {
   "cell_type": "markdown",
   "id": "98e0bd7c",
   "metadata": {},
   "source": [
    "<a id='data-preparation'></a>\n",
    "<font size=\"+2\" color='#053c96'><b> Data Preparation</b></font>  \n",
    "[back to top](#table-of-contents)"
   ]
  },
  {
   "cell_type": "markdown",
   "id": "c77fdda0",
   "metadata": {},
   "source": [
    "<font size=\"+0\" color='green'><b> Data CLeaning</b></font>  "
   ]
  },
  {
   "cell_type": "markdown",
   "id": "9649a732",
   "metadata": {},
   "source": [
    "<font size=\"+0\" color='green'><b> Handling Imbalanced Classes</b></font>  "
   ]
  },
  {
   "cell_type": "markdown",
   "id": "502405d3",
   "metadata": {},
   "source": [
    "<font size=\"+0\" color='green'><b> Feature Engineering</b></font>  "
   ]
  },
  {
   "cell_type": "markdown",
   "id": "74fb2098",
   "metadata": {},
   "source": [
    "<font size=\"+0\" color='green'><b> Feature Selection</b></font>  "
   ]
  },
  {
   "cell_type": "markdown",
   "id": "36f53cc7",
   "metadata": {},
   "source": [
    "<font size=\"+0\" color='green'><b> Data Transformation</b></font>  "
   ]
  },
  {
   "cell_type": "markdown",
   "id": "b23f4664",
   "metadata": {},
   "source": [
    "<font size=\"+0\" color='green'><b> Data Splitting</b></font>  "
   ]
  },
  {
   "cell_type": "markdown",
   "id": "9bcb7bb7",
   "metadata": {},
   "source": [
    "<a id='model-development'></a>\n",
    "\n",
    "<font size=\"+2\" color='#053c96'><b> Model Development</b></font>  \n",
    "[back to top](#table-of-contents)"
   ]
  },
  {
   "cell_type": "markdown",
   "id": "6b199dca",
   "metadata": {},
   "source": [
    "<font size=\"+0\" color='green'><b> Baseline Model</b></font>  "
   ]
  },
  {
   "cell_type": "markdown",
   "id": "97d63bf1",
   "metadata": {},
   "source": [
    "<font size=\"+0\" color='green'><b> Model Selection</b></font>  "
   ]
  },
  {
   "cell_type": "markdown",
   "id": "d6bd781a",
   "metadata": {},
   "source": [
    "<font size=\"+0\" color='green'><b> Model Training</b></font>  "
   ]
  },
  {
   "cell_type": "markdown",
   "id": "f908bff1",
   "metadata": {},
   "source": [
    "<font size=\"+0\" color='green'><b> Hyperparameter Tuning</b></font>  "
   ]
  },
  {
   "cell_type": "markdown",
   "id": "81842569",
   "metadata": {},
   "source": [
    "<a id='model-evaluation'></a>\n",
    "\n",
    "<font size=\"+2\" color='#053c96'><b> Model Evaluation</b></font>  \n",
    "[back to top](#table-of-contents)"
   ]
  },
  {
   "cell_type": "markdown",
   "id": "e76fec5a",
   "metadata": {},
   "source": [
    "<font size=\"+0\" color='green'><b> Performance Metrics</b></font>  "
   ]
  },
  {
   "cell_type": "markdown",
   "id": "49d85512",
   "metadata": {},
   "source": [
    "<font size=\"+0\" color='green'><b> Confusion Matrix</b></font>  "
   ]
  },
  {
   "cell_type": "markdown",
   "id": "95e03cd8",
   "metadata": {},
   "source": [
    "<font size=\"+0\" color='green'><b> ROC Curve</b></font>  "
   ]
  },
  {
   "cell_type": "markdown",
   "id": "108e3388",
   "metadata": {},
   "source": [
    "<font size=\"+0\" color='green'><b> Precision-Recall Curve</b></font>   "
   ]
  },
  {
   "cell_type": "markdown",
   "id": "ca715100",
   "metadata": {},
   "source": [
    "<font size=\"+0\" color='green'><b> Cross-Validation</b></font>   "
   ]
  },
  {
   "cell_type": "markdown",
   "id": "9ee1175c",
   "metadata": {},
   "source": [
    "<font size=\"+0\" color='green'><b> Bias-Variance Tradeoff</b></font>   "
   ]
  },
  {
   "cell_type": "markdown",
   "id": "3e6f9884",
   "metadata": {},
   "source": [
    "<a id='model-interpretation'></a>\n",
    "<font size=\"+2\" color='#053c96'><b> Model Interpretation</b></font>  \n",
    "[back to top](#table-of-contents)"
   ]
  },
  {
   "cell_type": "markdown",
   "id": "42cf87ec",
   "metadata": {},
   "source": [
    "<font size=\"+0\" color='green'><b> Feature Importance</b></font>   "
   ]
  },
  {
   "cell_type": "markdown",
   "id": "5981f3c1",
   "metadata": {},
   "source": [
    "<font size=\"+0\" color='green'><b> Model Explanation Techniques</b></font>   "
   ]
  },
  {
   "cell_type": "markdown",
   "id": "1da4c88b",
   "metadata": {},
   "source": [
    "<font size=\"+0\" color='green'><b> Business Impact Analysis</b></font>   "
   ]
  },
  {
   "cell_type": "markdown",
   "id": "9c89320c",
   "metadata": {},
   "source": [
    "<a id='conclusion'></a>\n",
    "\n",
    "<font size=\"+2\" color='#053c96'><b> Conclusion</b></font>  \n",
    "[back to top](#table-of-contents)"
   ]
  },
  {
   "cell_type": "markdown",
   "id": "a229a94a",
   "metadata": {},
   "source": [
    "<font size=\"+0\" color='green'><b> Summary of Findings</b></font>   "
   ]
  },
  {
   "cell_type": "markdown",
   "id": "ecd40bb0",
   "metadata": {},
   "source": [
    "<font size=\"+0\" color='green'><b> Recommendations</b></font>   "
   ]
  },
  {
   "cell_type": "markdown",
   "id": "3ecf1484",
   "metadata": {},
   "source": [
    "<font size=\"+0\" color='green'><b> Limitations</b></font>   "
   ]
  },
  {
   "cell_type": "markdown",
   "id": "622a91ec",
   "metadata": {},
   "source": [
    "<font size=\"+0\" color='green'><b> Future Work</b></font>   "
   ]
  },
  {
   "cell_type": "markdown",
   "id": "ad32603c",
   "metadata": {},
   "source": [
    "<font size=\"+0\" color='green'><b> Final Thoughts</b></font>   "
   ]
  },
  {
   "cell_type": "markdown",
   "id": "a1d54afe",
   "metadata": {},
   "source": [
    "<a id='references'></a>\n",
    "\n",
    "<font size=\"+2\" color='#053c96'><b> References</b></font>  \n",
    "[back to top](#table-of-contents)"
   ]
  },
  {
   "cell_type": "markdown",
   "id": "d1244019",
   "metadata": {},
   "source": []
  }
 ],
 "metadata": {
  "kernelspec": {
   "display_name": "Python 3 (ipykernel)",
   "language": "python",
   "name": "python3"
  },
  "language_info": {
   "codemirror_mode": {
    "name": "ipython",
    "version": 3
   },
   "file_extension": ".py",
   "mimetype": "text/x-python",
   "name": "python",
   "nbconvert_exporter": "python",
   "pygments_lexer": "ipython3",
   "version": "3.10.9"
  }
 },
 "nbformat": 4,
 "nbformat_minor": 5
}
