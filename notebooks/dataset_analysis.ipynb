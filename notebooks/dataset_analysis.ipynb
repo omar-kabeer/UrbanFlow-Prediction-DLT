{
 "cells": [
  {
   "cell_type": "markdown",
   "id": "8c1bcd0e",
   "metadata": {},
   "source": [
    "<h2><center> \"UrbanFlow Prognosticator: Propagation-Aware Traffic Prediction and Visualization System</h2></center>\n",
    "<figure>\n",
    "<center><img src =\"https://media.springernature.com/lw685/springer-static/image/chp%3A10.1007%2F978-3-030-94102-4_6/MediaObjects/509967_1_En_6_Fig1_HTML.png\" width = \"750\" height = '500' alt=\"unsplash.com\"/>"
   ]
  },
  {
   "cell_type": "markdown",
   "id": "348f1af0",
   "metadata": {},
   "source": [
    "## Author: Umar Kabir\n",
    "\n",
    "Date: [July, 2023]"
   ]
  },
  {
   "cell_type": "markdown",
   "id": "2ad33f76",
   "metadata": {},
   "source": [
    "<a id='table-of-contents'></a>\n",
    "# Table of Contents\n",
    "\n",
    "1. [Introduction](#introduction)\n",
    "    - Motivation\n",
    "    - Problem Statement\n",
    "    - Objective\n",
    "    - Data Source\n",
    "    - Importing Dependencies  \n",
    "\n",
    "\n",
    "2. [Data](#2-data)\n",
    "    - Data Loading\n",
    "    - Dataset Overview\n",
    "\n",
    "\n",
    "3. [Exploratory Data Analysis](#exploratory-data-analysis)\n",
    "    - Descriptive Statistics\n",
    "    - Data Visualization\n",
    "    - Correlation Analysis\n",
    "    - Outlier Detection\n",
    "\n",
    "\n",
    "4. [Data Preparation](#data-preparation)\n",
    "    - Data Cleaning\n",
    "    - Handling Missing Values\n",
    "    - Handling Imbalanced Classes\n",
    "    - Feature Selection\n",
    "    - Feature Engineering\n",
    "    - Data Transformation\n",
    "    - Data Splitting"
   ]
  },
  {
   "cell_type": "markdown",
   "id": "cb7bc0f0",
   "metadata": {},
   "source": [
    "<a id='introduction'></a>\n",
    "<font size=\"+2\" color='#053c96'><b> Introduction</b></font>  \n",
    "[back to top](#table-of-contents)  "
   ]
  },
  {
   "cell_type": "markdown",
   "id": "007b4139",
   "metadata": {},
   "source": [
    "<font size=\"+0\" color='green'><b> Possible Target Variables</b></font>  \n"
   ]
  },
  {
   "cell_type": "markdown",
   "id": "b95dbff8",
   "metadata": {},
   "source": [
    "<font size=\"+0\" color='green'><b> Motivation</b></font>  \n"
   ]
  },
  {
   "cell_type": "markdown",
   "id": "74cb2b87",
   "metadata": {},
   "source": [
    "<font size=\"+0\" color='green'><b> Problem Statement</b></font>  \n",
    "\n"
   ]
  },
  {
   "cell_type": "markdown",
   "id": "da06c58d",
   "metadata": {},
   "source": [
    "<font size=\"+0\" color='green'><b> Objectives</b></font>  \n"
   ]
  },
  {
   "cell_type": "markdown",
   "id": "46686294",
   "metadata": {},
   "source": [
    "<font size=\"+0\" color='green'><b> Data Source</b></font>  \n"
   ]
  },
  {
   "cell_type": "markdown",
   "id": "bafda93c",
   "metadata": {},
   "source": [
    "<font size=\"+0\" color='green'><b> Importing Dependencies</b></font>  "
   ]
  },
  {
   "cell_type": "code",
   "execution_count": 2,
   "id": "1ca49672",
   "metadata": {},
   "outputs": [],
   "source": [
    "import sys\n",
    "# Insert the parent path relative to this notebook so we can import from the src folder.\n",
    "sys.path.insert(0, \"..\")\n",
    "\n",
    "from src.dependencies import *"
   ]
  },
  {
   "cell_type": "markdown",
   "id": "7193821a",
   "metadata": {},
   "source": [
    "<a id='#data'></a>\n",
    "<font size=\"+2\" color='#053c96'><b> Data</b></font>  \n",
    "[back to top](#table-of-contents)"
   ]
  },
  {
   "cell_type": "markdown",
   "id": "5adb7564",
   "metadata": {},
   "source": [
    "<font size=\"+0\" color='green'><b> Data Loading</b></font>  "
   ]
  },
  {
   "cell_type": "code",
   "execution_count": 5,
   "id": "ded840cf",
   "metadata": {},
   "outputs": [],
   "source": [
    "pems04 = pd.read_csv('../data/PEMS04.csv')\n",
    "pems07 = pd.read_csv('../data/PEMS07.csv')\n",
    "pems08 = pd.read_csv('../data/PEMS08.csv')\n",
    "original = pd.read_csv('../data/original_cleaned_nyc_taxi_data_2018.csv')\n",
    "taxi_zones = pd.read_csv('../data/taxi_zone_geo.csv')\n",
    "taxi_trips = pd.read_csv('../data/taxi_trip_data.csv')"
   ]
  },
  {
   "cell_type": "markdown",
   "id": "00d03d0b",
   "metadata": {},
   "source": [
    "<font size=\"+0\" color='green'><b> Data Overview</b></font>  "
   ]
  },
  {
   "cell_type": "code",
   "execution_count": 6,
   "id": "5579cc6d",
   "metadata": {},
   "outputs": [
    {
     "name": "stdout",
     "output_type": "stream",
     "text": [
      "<class 'pandas.core.frame.DataFrame'>\n",
      "RangeIndex: 340 entries, 0 to 339\n",
      "Data columns (total 3 columns):\n",
      " #   Column  Non-Null Count  Dtype  \n",
      "---  ------  --------------  -----  \n",
      " 0   from    340 non-null    int64  \n",
      " 1   to      340 non-null    int64  \n",
      " 2   cost    340 non-null    float64\n",
      "dtypes: float64(1), int64(2)\n",
      "memory usage: 8.1 KB\n",
      "None\n"
     ]
    }
   ],
   "source": [
    "pems04.shape\n",
    "print(pems04.info())"
   ]
  },
  {
   "cell_type": "code",
   "execution_count": 8,
   "id": "268bce94",
   "metadata": {},
   "outputs": [
    {
     "name": "stdout",
     "output_type": "stream",
     "text": [
      "<class 'pandas.core.frame.DataFrame'>\n",
      "RangeIndex: 866 entries, 0 to 865\n",
      "Data columns (total 3 columns):\n",
      " #   Column  Non-Null Count  Dtype  \n",
      "---  ------  --------------  -----  \n",
      " 0   from    866 non-null    int64  \n",
      " 1   to      866 non-null    int64  \n",
      " 2   cost    866 non-null    float64\n",
      "dtypes: float64(1), int64(2)\n",
      "memory usage: 20.4 KB\n",
      "None\n"
     ]
    },
    {
     "data": {
      "text/plain": [
       "(866, 3)"
      ]
     },
     "execution_count": 8,
     "metadata": {},
     "output_type": "execute_result"
    }
   ],
   "source": [
    "print(pems07.info())\n",
    "pems07.shape"
   ]
  },
  {
   "cell_type": "code",
   "execution_count": 9,
   "id": "bc37cbb0",
   "metadata": {},
   "outputs": [
    {
     "name": "stdout",
     "output_type": "stream",
     "text": [
      "<class 'pandas.core.frame.DataFrame'>\n",
      "RangeIndex: 295 entries, 0 to 294\n",
      "Data columns (total 3 columns):\n",
      " #   Column  Non-Null Count  Dtype  \n",
      "---  ------  --------------  -----  \n",
      " 0   from    295 non-null    int64  \n",
      " 1   to      295 non-null    int64  \n",
      " 2   cost    295 non-null    float64\n",
      "dtypes: float64(1), int64(2)\n",
      "memory usage: 7.0 KB\n",
      "None\n"
     ]
    },
    {
     "data": {
      "text/plain": [
       "(295, 3)"
      ]
     },
     "execution_count": 9,
     "metadata": {},
     "output_type": "execute_result"
    }
   ],
   "source": [
    "print(pems08.info())\n",
    "pems08.shape"
   ]
  },
  {
   "cell_type": "code",
   "execution_count": 11,
   "id": "7f8423e1",
   "metadata": {},
   "outputs": [
    {
     "name": "stdout",
     "output_type": "stream",
     "text": [
      "<class 'pandas.core.frame.DataFrame'>\n",
      "RangeIndex: 8319928 entries, 0 to 8319927\n",
      "Data columns (total 21 columns):\n",
      " #   Column                   Dtype  \n",
      "---  ------                   -----  \n",
      " 0   Unnamed: 0               int64  \n",
      " 1   trip_distance            float64\n",
      " 2   rate_code                int64  \n",
      " 3   store_and_fwd_flag       object \n",
      " 4   payment_type             int64  \n",
      " 5   fare_amount              float64\n",
      " 6   extra                    float64\n",
      " 7   mta_tax                  float64\n",
      " 8   tip_amount               float64\n",
      " 9   tolls_amount             float64\n",
      " 10  imp_surcharge            float64\n",
      " 11  total_amount             float64\n",
      " 12  pickup_location_id       int64  \n",
      " 13  dropoff_location_id      int64  \n",
      " 14  year                     int64  \n",
      " 15  month                    int64  \n",
      " 16  day                      int64  \n",
      " 17  day_of_week              int64  \n",
      " 18  hour_of_day              int64  \n",
      " 19  trip_duration            float64\n",
      " 20  calculated_total_amount  float64\n",
      "dtypes: float64(10), int64(10), object(1)\n",
      "memory usage: 1.3+ GB\n",
      "None\n"
     ]
    },
    {
     "data": {
      "text/plain": [
       "(8319928, 21)"
      ]
     },
     "execution_count": 11,
     "metadata": {},
     "output_type": "execute_result"
    }
   ],
   "source": [
    "print(original.info())\n",
    "original.shape"
   ]
  },
  {
   "cell_type": "code",
   "execution_count": 12,
   "id": "5f96883e",
   "metadata": {},
   "outputs": [
    {
     "name": "stdout",
     "output_type": "stream",
     "text": [
      "<class 'pandas.core.frame.DataFrame'>\n",
      "RangeIndex: 10000000 entries, 0 to 9999999\n",
      "Data columns (total 17 columns):\n",
      " #   Column               Dtype  \n",
      "---  ------               -----  \n",
      " 0   vendor_id            int64  \n",
      " 1   pickup_datetime      object \n",
      " 2   dropoff_datetime     object \n",
      " 3   passenger_count      int64  \n",
      " 4   trip_distance        float64\n",
      " 5   rate_code            int64  \n",
      " 6   store_and_fwd_flag   object \n",
      " 7   payment_type         int64  \n",
      " 8   fare_amount          float64\n",
      " 9   extra                float64\n",
      " 10  mta_tax              float64\n",
      " 11  tip_amount           float64\n",
      " 12  tolls_amount         float64\n",
      " 13  imp_surcharge        float64\n",
      " 14  total_amount         float64\n",
      " 15  pickup_location_id   int64  \n",
      " 16  dropoff_location_id  int64  \n",
      "dtypes: float64(8), int64(6), object(3)\n",
      "memory usage: 1.3+ GB\n",
      "None\n"
     ]
    },
    {
     "data": {
      "text/plain": [
       "(10000000, 17)"
      ]
     },
     "execution_count": 12,
     "metadata": {},
     "output_type": "execute_result"
    }
   ],
   "source": [
    "print(taxi_trips.info())\n",
    "taxi_trips.shape"
   ]
  },
  {
   "cell_type": "code",
   "execution_count": 13,
   "id": "94a4294e",
   "metadata": {},
   "outputs": [
    {
     "name": "stdout",
     "output_type": "stream",
     "text": [
      "<class 'pandas.core.frame.DataFrame'>\n",
      "RangeIndex: 263 entries, 0 to 262\n",
      "Data columns (total 4 columns):\n",
      " #   Column     Non-Null Count  Dtype \n",
      "---  ------     --------------  ----- \n",
      " 0   zone_id    263 non-null    int64 \n",
      " 1   zone_name  263 non-null    object\n",
      " 2   borough    263 non-null    object\n",
      " 3   zone_geom  263 non-null    object\n",
      "dtypes: int64(1), object(3)\n",
      "memory usage: 8.3+ KB\n"
     ]
    },
    {
     "data": {
      "text/plain": [
       "(263, 4)"
      ]
     },
     "execution_count": 13,
     "metadata": {},
     "output_type": "execute_result"
    }
   ],
   "source": [
    "taxi_zones.info()\n",
    "taxi_zones.shape"
   ]
  },
  {
   "cell_type": "markdown",
   "id": "5d5b57fe",
   "metadata": {},
   "source": [
    "<a id='exploratory-data-analysis'></a>\n",
    "<font size=\"+2\" color='#053c96'><b> Exploratory Data Analysis</b></font>  \n",
    "[back to top](#table-of-contents)"
   ]
  },
  {
   "cell_type": "markdown",
   "id": "613915dc",
   "metadata": {},
   "source": [
    "<a id='data-exploration'></a>\n",
    "<font size=\"+0\" color='green'><b> Data Exploration</b></font>  "
   ]
  },
  {
   "cell_type": "code",
   "execution_count": 11,
   "id": "228a4111",
   "metadata": {},
   "outputs": [
    {
     "name": "stdout",
     "output_type": "stream",
     "text": [
      "\n",
      "Number of Unique Values:\n",
      "WASTE_ID      58502\n",
      "SOURCE           12\n",
      "ORG_ID        47496\n",
      "WWTP_NAME     49260\n",
      "COUNTRY         188\n",
      "CNTRY_ISO       180\n",
      "LAT_WWTP      31311\n",
      "LON_WWTP      44467\n",
      "QUAL_LOC          4\n",
      "LAT_OUT       13507\n",
      "LON_OUT       24606\n",
      "STATUS            9\n",
      "POP_SERVED    22602\n",
      "QUAL_POP          4\n",
      "WASTE_DIS     33782\n",
      "QUAL_WASTE        4\n",
      "LEVEL             3\n",
      "QUAL_LEVEL        2\n",
      "DF            45199\n",
      "HYRIV_ID      42821\n",
      "RIVER_DIS     22017\n",
      "COAST_10KM        2\n",
      "COAST_50KM        2\n",
      "DESIGN_CAP     7328\n",
      "QUAL_CAP          3\n",
      "dtype: int64\n"
     ]
    }
   ],
   "source": [
    "# Check the number of unique values in each column\n",
    "print(\"\\nNumber of Unique Values:\")\n",
    "print(df.nunique())"
   ]
  },
  {
   "cell_type": "code",
   "execution_count": 12,
   "id": "6829a08a",
   "metadata": {},
   "outputs": [
    {
     "name": "stdout",
     "output_type": "stream",
     "text": [
      "\n",
      "Missing Values:\n",
      "WASTE_ID          0\n",
      "SOURCE            0\n",
      "ORG_ID            0\n",
      "WWTP_NAME      5287\n",
      "COUNTRY           0\n",
      "CNTRY_ISO         0\n",
      "LAT_WWTP          0\n",
      "LON_WWTP          0\n",
      "QUAL_LOC          0\n",
      "LAT_OUT           0\n",
      "LON_OUT           0\n",
      "STATUS            0\n",
      "POP_SERVED        0\n",
      "QUAL_POP          0\n",
      "WASTE_DIS         0\n",
      "QUAL_WASTE        0\n",
      "LEVEL             0\n",
      "QUAL_LEVEL        0\n",
      "DF            11200\n",
      "HYRIV_ID        379\n",
      "RIVER_DIS     10551\n",
      "COAST_10KM        0\n",
      "COAST_50KM        0\n",
      "DESIGN_CAP    15835\n",
      "QUAL_CAP          0\n",
      "dtype: int64\n"
     ]
    }
   ],
   "source": [
    "# Check for any missing values in the DataFrame\n",
    "print(\"\\nMissing Values:\")\n",
    "print(df.isnull().sum())"
   ]
  },
  {
   "cell_type": "code",
   "execution_count": null,
   "id": "30a18e97",
   "metadata": {},
   "outputs": [],
   "source": []
  },
  {
   "cell_type": "code",
   "execution_count": null,
   "id": "1eb8da97",
   "metadata": {},
   "outputs": [],
   "source": []
  },
  {
   "cell_type": "code",
   "execution_count": null,
   "id": "69541718",
   "metadata": {},
   "outputs": [],
   "source": []
  },
  {
   "cell_type": "code",
   "execution_count": null,
   "id": "c5f0c7a7",
   "metadata": {},
   "outputs": [],
   "source": []
  },
  {
   "cell_type": "code",
   "execution_count": null,
   "id": "e8cfcfb4",
   "metadata": {},
   "outputs": [],
   "source": []
  },
  {
   "cell_type": "markdown",
   "id": "fab1d39c",
   "metadata": {},
   "source": [
    "<a id='data-visualization'></a>\n",
    "<font size=\"+0\" color='green'><b> Data Visualization</b></font>  "
   ]
  },
  {
   "cell_type": "markdown",
   "id": "a80e01e0",
   "metadata": {},
   "source": [
    "<a id='summary-statistics'></a>\n",
    "<font size=\"+0\" color='green'><b> Summary Statistics</b></font>  "
   ]
  },
  {
   "cell_type": "markdown",
   "id": "2377a37f",
   "metadata": {},
   "source": [
    "<a id='feature-correlation'></a>\n",
    "<font size=\"+0\" color='green'><b> Feature Correlation</b></font>  "
   ]
  },
  {
   "cell_type": "markdown",
   "id": "98e0bd7c",
   "metadata": {},
   "source": [
    "<a id='data-preparation'></a>\n",
    "<font size=\"+2\" color='#053c96'><b> Data Preparation</b></font>  \n",
    "[back to top](#table-of-contents)"
   ]
  },
  {
   "cell_type": "markdown",
   "id": "c77fdda0",
   "metadata": {},
   "source": [
    "<font size=\"+0\" color='green'><b> Data CLeaning</b></font>  "
   ]
  },
  {
   "cell_type": "markdown",
   "id": "9649a732",
   "metadata": {},
   "source": [
    "<font size=\"+0\" color='green'><b> Handling Imbalanced Classes</b></font>  "
   ]
  },
  {
   "cell_type": "markdown",
   "id": "502405d3",
   "metadata": {},
   "source": [
    "<font size=\"+0\" color='green'><b> Feature Engineering</b></font>  "
   ]
  },
  {
   "cell_type": "markdown",
   "id": "74fb2098",
   "metadata": {},
   "source": [
    "<font size=\"+0\" color='green'><b> Feature Selection</b></font>  "
   ]
  },
  {
   "cell_type": "markdown",
   "id": "36f53cc7",
   "metadata": {},
   "source": [
    "<font size=\"+0\" color='green'><b> Data Transformation</b></font>  "
   ]
  },
  {
   "cell_type": "markdown",
   "id": "b23f4664",
   "metadata": {},
   "source": [
    "<font size=\"+0\" color='green'><b> Data Splitting</b></font>  "
   ]
  }
 ],
 "metadata": {
  "kernelspec": {
   "display_name": "Python 3 (ipykernel)",
   "language": "python",
   "name": "python3"
  },
  "language_info": {
   "codemirror_mode": {
    "name": "ipython",
    "version": 3
   },
   "file_extension": ".py",
   "mimetype": "text/x-python",
   "name": "python",
   "nbconvert_exporter": "python",
   "pygments_lexer": "ipython3",
   "version": "3.10.9"
  }
 },
 "nbformat": 4,
 "nbformat_minor": 5
}
