{
 "cells": [
  {
   "cell_type": "markdown",
   "id": "8c1bcd0e",
   "metadata": {},
   "source": [
    "<h2><center> UrbanFlow Prognosticator: Propagation-Aware Traffic Prediction and Visualization System</h2></center>\n",
    "<figure>\n",
    "<center><img src =\"https://media.springernature.com/lw685/springer-static/image/chp%3A10.1007%2F978-3-030-94102-4_6/MediaObjects/509967_1_En_6_Fig1_HTML.png\" width = \"750\" height = '500' alt=\"unsplash.com\"/>"
   ]
  },
  {
   "cell_type": "markdown",
   "id": "348f1af0",
   "metadata": {},
   "source": [
    "## Author: Umar Kabir\n",
    "\n",
    "Date: [July, 2023]"
   ]
  },
  {
   "cell_type": "markdown",
   "id": "2ad33f76",
   "metadata": {},
   "source": [
    "<a id='table-of-contents'></a>\n",
    "# Table of Contents\n",
    "\n",
    "1. [Introduction](#introduction)\n",
    "    - Motivation\n",
    "    - Problem Statement\n",
    "    - Objective\n",
    "    - Data Source\n",
    "    - Importing Dependencies  \n",
    "\n",
    "\n",
    "2. [Data](#2-data)\n",
    "    - Data Loading\n",
    "    - Dataset Overview\n",
    "\n",
    "\n",
    "3. [Exploratory Data Analysis](#exploratory-data-analysis)\n",
    "    - Descriptive Statistics\n",
    "    - Data Visualization\n",
    "    - Correlation Analysis\n",
    "    - Outlier Detection\n",
    "\n",
    "\n",
    "4. [Data Preparation](#data-preparation)\n",
    "    - Data Cleaning\n",
    "    - Handling Missing Values\n",
    "    - Handling Imbalanced Classes\n",
    "    - Feature Selection\n",
    "    - Feature Engineering\n",
    "    - Data Transformation\n",
    "    - Data Splitting"
   ]
  },
  {
   "cell_type": "markdown",
   "id": "cb7bc0f0",
   "metadata": {},
   "source": [
    "<a id='introduction'></a>\n",
    "<font size=\"+2\" color='#053c96'><b> Introduction</b></font>  \n",
    "[back to top](#table-of-contents)  "
   ]
  },
  {
   "cell_type": "markdown",
   "id": "007b4139",
   "metadata": {},
   "source": [
    "<font size=\"+0\" color='green'><b> Possible Target Variables</b></font>  \n"
   ]
  },
  {
   "cell_type": "markdown",
   "id": "b95dbff8",
   "metadata": {},
   "source": [
    "<font size=\"+0\" color='green'><b> Motivation</b></font>  \n"
   ]
  },
  {
   "cell_type": "markdown",
   "id": "74cb2b87",
   "metadata": {},
   "source": [
    "<font size=\"+0\" color='green'><b> Problem Statement</b></font>  \n",
    "\n"
   ]
  },
  {
   "cell_type": "markdown",
   "id": "da06c58d",
   "metadata": {},
   "source": [
    "<font size=\"+0\" color='green'><b> Objectives</b></font>  \n"
   ]
  },
  {
   "cell_type": "markdown",
   "id": "46686294",
   "metadata": {},
   "source": [
    "<font size=\"+0\" color='green'><b> Data Source</b></font>  \n"
   ]
  },
  {
   "cell_type": "markdown",
   "id": "bafda93c",
   "metadata": {},
   "source": [
    "<font size=\"+0\" color='green'><b> Importing Dependencies</b></font>  "
   ]
  },
  {
   "cell_type": "code",
   "execution_count": 22,
   "id": "1ca49672",
   "metadata": {},
   "outputs": [],
   "source": [
    "import sys\n",
    "# Insert the parent path relative to this notebook so we can import from the src folder.\n",
    "sys.path.insert(0, \"..\")\n",
    "\n",
    "from src.dependencies import *\n",
    "from src.functions import *"
   ]
  },
  {
   "cell_type": "markdown",
   "id": "7193821a",
   "metadata": {},
   "source": [
    "<a id='#data'></a>\n",
    "<font size=\"+2\" color='#053c96'><b> Data</b></font>  \n",
    "[back to top](#table-of-contents)"
   ]
  },
  {
   "cell_type": "markdown",
   "id": "5adb7564",
   "metadata": {},
   "source": [
    "<font size=\"+0\" color='green'><b> Data Loading</b></font>  "
   ]
  },
  {
   "cell_type": "code",
   "execution_count": 123,
   "id": "ded840cf",
   "metadata": {},
   "outputs": [],
   "source": [
    "pems04 = pd.read_csv('../data/PEMS04.csv')\n",
    "pems07 = pd.read_csv('../data/PEMS07.csv')\n",
    "pems08 = pd.read_csv('../data/PEMS08.csv')\n",
    "data = pd.read_csv('../data/original_cleaned_nyc_taxi_data_2018.csv')\n",
    "taxi_zones = pd.read_csv('../data/taxi_zone_geo.csv')\n",
    "taxi_trips = pd.read_csv('../data/taxi_trip_data.csv')"
   ]
  },
  {
   "cell_type": "markdown",
   "id": "00d03d0b",
   "metadata": {},
   "source": [
    "<font size=\"+0\" color='green'><b> Data Overview</b></font>  "
   ]
  },
  {
   "cell_type": "code",
   "execution_count": 24,
   "id": "5579cc6d",
   "metadata": {},
   "outputs": [
    {
     "name": "stdout",
     "output_type": "stream",
     "text": [
      "<class 'pandas.core.frame.DataFrame'>\n",
      "RangeIndex: 340 entries, 0 to 339\n",
      "Data columns (total 3 columns):\n",
      " #   Column  Non-Null Count  Dtype  \n",
      "---  ------  --------------  -----  \n",
      " 0   from    340 non-null    int64  \n",
      " 1   to      340 non-null    int64  \n",
      " 2   cost    340 non-null    float64\n",
      "dtypes: float64(1), int64(2)\n",
      "memory usage: 8.1 KB\n",
      "None\n"
     ]
    },
    {
     "data": {
      "text/plain": [
       "(340, 3)"
      ]
     },
     "execution_count": 24,
     "metadata": {},
     "output_type": "execute_result"
    }
   ],
   "source": [
    "print(pems04.info())\n",
    "pems04.shape"
   ]
  },
  {
   "cell_type": "code",
   "execution_count": 83,
   "id": "7e593ef3",
   "metadata": {},
   "outputs": [
    {
     "data": {
      "text/html": [
       "<div>\n",
       "<style scoped>\n",
       "    .dataframe tbody tr th:only-of-type {\n",
       "        vertical-align: middle;\n",
       "    }\n",
       "\n",
       "    .dataframe tbody tr th {\n",
       "        vertical-align: top;\n",
       "    }\n",
       "\n",
       "    .dataframe thead th {\n",
       "        text-align: right;\n",
       "    }\n",
       "</style>\n",
       "<table border=\"1\" class=\"dataframe\">\n",
       "  <thead>\n",
       "    <tr style=\"text-align: right;\">\n",
       "      <th></th>\n",
       "      <th>from</th>\n",
       "      <th>to</th>\n",
       "      <th>cost</th>\n",
       "    </tr>\n",
       "  </thead>\n",
       "  <tbody>\n",
       "    <tr>\n",
       "      <th>0</th>\n",
       "      <td>73</td>\n",
       "      <td>5</td>\n",
       "      <td>352.6</td>\n",
       "    </tr>\n",
       "    <tr>\n",
       "      <th>1</th>\n",
       "      <td>5</td>\n",
       "      <td>154</td>\n",
       "      <td>347.2</td>\n",
       "    </tr>\n",
       "    <tr>\n",
       "      <th>2</th>\n",
       "      <td>154</td>\n",
       "      <td>263</td>\n",
       "      <td>392.9</td>\n",
       "    </tr>\n",
       "    <tr>\n",
       "      <th>3</th>\n",
       "      <td>263</td>\n",
       "      <td>56</td>\n",
       "      <td>440.8</td>\n",
       "    </tr>\n",
       "    <tr>\n",
       "      <th>4</th>\n",
       "      <td>56</td>\n",
       "      <td>96</td>\n",
       "      <td>374.6</td>\n",
       "    </tr>\n",
       "  </tbody>\n",
       "</table>\n",
       "</div>"
      ],
      "text/plain": [
       "   from   to   cost\n",
       "0    73    5  352.6\n",
       "1     5  154  347.2\n",
       "2   154  263  392.9\n",
       "3   263   56  440.8\n",
       "4    56   96  374.6"
      ]
     },
     "execution_count": 83,
     "metadata": {},
     "output_type": "execute_result"
    }
   ],
   "source": [
    "pems04.head()"
   ]
  },
  {
   "cell_type": "code",
   "execution_count": 88,
   "id": "342f87d9",
   "metadata": {},
   "outputs": [
    {
     "data": {
      "text/html": [
       "<div>\n",
       "<style scoped>\n",
       "    .dataframe tbody tr th:only-of-type {\n",
       "        vertical-align: middle;\n",
       "    }\n",
       "\n",
       "    .dataframe tbody tr th {\n",
       "        vertical-align: top;\n",
       "    }\n",
       "\n",
       "    .dataframe thead th {\n",
       "        text-align: right;\n",
       "    }\n",
       "</style>\n",
       "<table border=\"1\" class=\"dataframe\">\n",
       "  <thead>\n",
       "    <tr style=\"text-align: right;\">\n",
       "      <th></th>\n",
       "      <th>from</th>\n",
       "      <th>to</th>\n",
       "      <th>cost</th>\n",
       "    </tr>\n",
       "  </thead>\n",
       "  <tbody>\n",
       "    <tr>\n",
       "      <th>count</th>\n",
       "      <td>340.000000</td>\n",
       "      <td>340.000000</td>\n",
       "      <td>340.000000</td>\n",
       "    </tr>\n",
       "    <tr>\n",
       "      <th>mean</th>\n",
       "      <td>149.544118</td>\n",
       "      <td>146.241176</td>\n",
       "      <td>410.300588</td>\n",
       "    </tr>\n",
       "    <tr>\n",
       "      <th>std</th>\n",
       "      <td>88.341793</td>\n",
       "      <td>89.092511</td>\n",
       "      <td>257.518655</td>\n",
       "    </tr>\n",
       "    <tr>\n",
       "      <th>min</th>\n",
       "      <td>0.000000</td>\n",
       "      <td>0.000000</td>\n",
       "      <td>3.200000</td>\n",
       "    </tr>\n",
       "    <tr>\n",
       "      <th>25%</th>\n",
       "      <td>71.750000</td>\n",
       "      <td>66.750000</td>\n",
       "      <td>328.775000</td>\n",
       "    </tr>\n",
       "    <tr>\n",
       "      <th>50%</th>\n",
       "      <td>144.500000</td>\n",
       "      <td>139.500000</td>\n",
       "      <td>367.150000</td>\n",
       "    </tr>\n",
       "    <tr>\n",
       "      <th>75%</th>\n",
       "      <td>229.250000</td>\n",
       "      <td>226.500000</td>\n",
       "      <td>422.300000</td>\n",
       "    </tr>\n",
       "    <tr>\n",
       "      <th>max</th>\n",
       "      <td>305.000000</td>\n",
       "      <td>306.000000</td>\n",
       "      <td>2712.100000</td>\n",
       "    </tr>\n",
       "  </tbody>\n",
       "</table>\n",
       "</div>"
      ],
      "text/plain": [
       "             from          to         cost\n",
       "count  340.000000  340.000000   340.000000\n",
       "mean   149.544118  146.241176   410.300588\n",
       "std     88.341793   89.092511   257.518655\n",
       "min      0.000000    0.000000     3.200000\n",
       "25%     71.750000   66.750000   328.775000\n",
       "50%    144.500000  139.500000   367.150000\n",
       "75%    229.250000  226.500000   422.300000\n",
       "max    305.000000  306.000000  2712.100000"
      ]
     },
     "execution_count": 88,
     "metadata": {},
     "output_type": "execute_result"
    }
   ],
   "source": [
    "pems04.describe()"
   ]
  },
  {
   "cell_type": "code",
   "execution_count": 25,
   "id": "268bce94",
   "metadata": {},
   "outputs": [
    {
     "name": "stdout",
     "output_type": "stream",
     "text": [
      "<class 'pandas.core.frame.DataFrame'>\n",
      "RangeIndex: 866 entries, 0 to 865\n",
      "Data columns (total 3 columns):\n",
      " #   Column  Non-Null Count  Dtype  \n",
      "---  ------  --------------  -----  \n",
      " 0   from    866 non-null    int64  \n",
      " 1   to      866 non-null    int64  \n",
      " 2   cost    866 non-null    float64\n",
      "dtypes: float64(1), int64(2)\n",
      "memory usage: 20.4 KB\n",
      "None\n"
     ]
    },
    {
     "data": {
      "text/plain": [
       "(866, 3)"
      ]
     },
     "execution_count": 25,
     "metadata": {},
     "output_type": "execute_result"
    }
   ],
   "source": [
    "print(pems07.info())\n",
    "pems07.shape"
   ]
  },
  {
   "cell_type": "code",
   "execution_count": 124,
   "id": "a9913d51",
   "metadata": {},
   "outputs": [],
   "source": [
    "pems07['cost'] = pems07['cost'] * 200"
   ]
  },
  {
   "cell_type": "code",
   "execution_count": 125,
   "id": "c2572980",
   "metadata": {},
   "outputs": [
    {
     "data": {
      "text/html": [
       "<div>\n",
       "<style scoped>\n",
       "    .dataframe tbody tr th:only-of-type {\n",
       "        vertical-align: middle;\n",
       "    }\n",
       "\n",
       "    .dataframe tbody tr th {\n",
       "        vertical-align: top;\n",
       "    }\n",
       "\n",
       "    .dataframe thead th {\n",
       "        text-align: right;\n",
       "    }\n",
       "</style>\n",
       "<table border=\"1\" class=\"dataframe\">\n",
       "  <thead>\n",
       "    <tr style=\"text-align: right;\">\n",
       "      <th></th>\n",
       "      <th>from</th>\n",
       "      <th>to</th>\n",
       "      <th>cost</th>\n",
       "    </tr>\n",
       "  </thead>\n",
       "  <tbody>\n",
       "    <tr>\n",
       "      <th>0</th>\n",
       "      <td>721</td>\n",
       "      <td>445</td>\n",
       "      <td>158.0</td>\n",
       "    </tr>\n",
       "    <tr>\n",
       "      <th>1</th>\n",
       "      <td>542</td>\n",
       "      <td>480</td>\n",
       "      <td>515.0</td>\n",
       "    </tr>\n",
       "    <tr>\n",
       "      <th>2</th>\n",
       "      <td>770</td>\n",
       "      <td>702</td>\n",
       "      <td>185.2</td>\n",
       "    </tr>\n",
       "    <tr>\n",
       "      <th>3</th>\n",
       "      <td>32</td>\n",
       "      <td>266</td>\n",
       "      <td>119.2</td>\n",
       "    </tr>\n",
       "    <tr>\n",
       "      <th>4</th>\n",
       "      <td>34</td>\n",
       "      <td>56</td>\n",
       "      <td>125.6</td>\n",
       "    </tr>\n",
       "  </tbody>\n",
       "</table>\n",
       "</div>"
      ],
      "text/plain": [
       "   from   to   cost\n",
       "0   721  445  158.0\n",
       "1   542  480  515.0\n",
       "2   770  702  185.2\n",
       "3    32  266  119.2\n",
       "4    34   56  125.6"
      ]
     },
     "execution_count": 125,
     "metadata": {},
     "output_type": "execute_result"
    }
   ],
   "source": [
    "pems07.head()"
   ]
  },
  {
   "cell_type": "code",
   "execution_count": 126,
   "id": "8b34a3e2",
   "metadata": {},
   "outputs": [
    {
     "data": {
      "text/html": [
       "<div>\n",
       "<style scoped>\n",
       "    .dataframe tbody tr th:only-of-type {\n",
       "        vertical-align: middle;\n",
       "    }\n",
       "\n",
       "    .dataframe tbody tr th {\n",
       "        vertical-align: top;\n",
       "    }\n",
       "\n",
       "    .dataframe thead th {\n",
       "        text-align: right;\n",
       "    }\n",
       "</style>\n",
       "<table border=\"1\" class=\"dataframe\">\n",
       "  <thead>\n",
       "    <tr style=\"text-align: right;\">\n",
       "      <th></th>\n",
       "      <th>from</th>\n",
       "      <th>to</th>\n",
       "      <th>cost</th>\n",
       "    </tr>\n",
       "  </thead>\n",
       "  <tbody>\n",
       "    <tr>\n",
       "      <th>count</th>\n",
       "      <td>866.000000</td>\n",
       "      <td>866.000000</td>\n",
       "      <td>866.000000</td>\n",
       "    </tr>\n",
       "    <tr>\n",
       "      <th>mean</th>\n",
       "      <td>443.393764</td>\n",
       "      <td>439.577367</td>\n",
       "      <td>292.493072</td>\n",
       "    </tr>\n",
       "    <tr>\n",
       "      <th>std</th>\n",
       "      <td>255.698560</td>\n",
       "      <td>255.545771</td>\n",
       "      <td>389.753597</td>\n",
       "    </tr>\n",
       "    <tr>\n",
       "      <th>min</th>\n",
       "      <td>0.000000</td>\n",
       "      <td>0.000000</td>\n",
       "      <td>6.400000</td>\n",
       "    </tr>\n",
       "    <tr>\n",
       "      <th>25%</th>\n",
       "      <td>223.250000</td>\n",
       "      <td>219.250000</td>\n",
       "      <td>118.000000</td>\n",
       "    </tr>\n",
       "    <tr>\n",
       "      <th>50%</th>\n",
       "      <td>442.500000</td>\n",
       "      <td>440.500000</td>\n",
       "      <td>183.400000</td>\n",
       "    </tr>\n",
       "    <tr>\n",
       "      <th>75%</th>\n",
       "      <td>665.750000</td>\n",
       "      <td>660.750000</td>\n",
       "      <td>322.400000</td>\n",
       "    </tr>\n",
       "    <tr>\n",
       "      <th>max</th>\n",
       "      <td>882.000000</td>\n",
       "      <td>882.000000</td>\n",
       "      <td>4107.800000</td>\n",
       "    </tr>\n",
       "  </tbody>\n",
       "</table>\n",
       "</div>"
      ],
      "text/plain": [
       "             from          to         cost\n",
       "count  866.000000  866.000000   866.000000\n",
       "mean   443.393764  439.577367   292.493072\n",
       "std    255.698560  255.545771   389.753597\n",
       "min      0.000000    0.000000     6.400000\n",
       "25%    223.250000  219.250000   118.000000\n",
       "50%    442.500000  440.500000   183.400000\n",
       "75%    665.750000  660.750000   322.400000\n",
       "max    882.000000  882.000000  4107.800000"
      ]
     },
     "execution_count": 126,
     "metadata": {},
     "output_type": "execute_result"
    }
   ],
   "source": [
    "pems07.describe()"
   ]
  },
  {
   "cell_type": "code",
   "execution_count": 26,
   "id": "bc37cbb0",
   "metadata": {},
   "outputs": [
    {
     "name": "stdout",
     "output_type": "stream",
     "text": [
      "<class 'pandas.core.frame.DataFrame'>\n",
      "RangeIndex: 295 entries, 0 to 294\n",
      "Data columns (total 3 columns):\n",
      " #   Column  Non-Null Count  Dtype  \n",
      "---  ------  --------------  -----  \n",
      " 0   from    295 non-null    int64  \n",
      " 1   to      295 non-null    int64  \n",
      " 2   cost    295 non-null    float64\n",
      "dtypes: float64(1), int64(2)\n",
      "memory usage: 7.0 KB\n",
      "None\n"
     ]
    },
    {
     "data": {
      "text/plain": [
       "(295, 3)"
      ]
     },
     "execution_count": 26,
     "metadata": {},
     "output_type": "execute_result"
    }
   ],
   "source": [
    "print(pems08.info())\n",
    "pems08.shape"
   ]
  },
  {
   "cell_type": "code",
   "execution_count": 89,
   "id": "fcf51751",
   "metadata": {},
   "outputs": [
    {
     "data": {
      "text/html": [
       "<div>\n",
       "<style scoped>\n",
       "    .dataframe tbody tr th:only-of-type {\n",
       "        vertical-align: middle;\n",
       "    }\n",
       "\n",
       "    .dataframe tbody tr th {\n",
       "        vertical-align: top;\n",
       "    }\n",
       "\n",
       "    .dataframe thead th {\n",
       "        text-align: right;\n",
       "    }\n",
       "</style>\n",
       "<table border=\"1\" class=\"dataframe\">\n",
       "  <thead>\n",
       "    <tr style=\"text-align: right;\">\n",
       "      <th></th>\n",
       "      <th>from</th>\n",
       "      <th>to</th>\n",
       "      <th>cost</th>\n",
       "    </tr>\n",
       "  </thead>\n",
       "  <tbody>\n",
       "    <tr>\n",
       "      <th>0</th>\n",
       "      <td>9</td>\n",
       "      <td>153</td>\n",
       "      <td>310.6</td>\n",
       "    </tr>\n",
       "    <tr>\n",
       "      <th>1</th>\n",
       "      <td>153</td>\n",
       "      <td>62</td>\n",
       "      <td>330.9</td>\n",
       "    </tr>\n",
       "    <tr>\n",
       "      <th>2</th>\n",
       "      <td>62</td>\n",
       "      <td>111</td>\n",
       "      <td>332.9</td>\n",
       "    </tr>\n",
       "    <tr>\n",
       "      <th>3</th>\n",
       "      <td>111</td>\n",
       "      <td>11</td>\n",
       "      <td>324.2</td>\n",
       "    </tr>\n",
       "    <tr>\n",
       "      <th>4</th>\n",
       "      <td>11</td>\n",
       "      <td>28</td>\n",
       "      <td>336.0</td>\n",
       "    </tr>\n",
       "  </tbody>\n",
       "</table>\n",
       "</div>"
      ],
      "text/plain": [
       "   from   to   cost\n",
       "0     9  153  310.6\n",
       "1   153   62  330.9\n",
       "2    62  111  332.9\n",
       "3   111   11  324.2\n",
       "4    11   28  336.0"
      ]
     },
     "execution_count": 89,
     "metadata": {},
     "output_type": "execute_result"
    }
   ],
   "source": [
    "pems08.head()"
   ]
  },
  {
   "cell_type": "code",
   "execution_count": 90,
   "id": "8eabe8ef",
   "metadata": {},
   "outputs": [
    {
     "data": {
      "text/html": [
       "<div>\n",
       "<style scoped>\n",
       "    .dataframe tbody tr th:only-of-type {\n",
       "        vertical-align: middle;\n",
       "    }\n",
       "\n",
       "    .dataframe tbody tr th {\n",
       "        vertical-align: top;\n",
       "    }\n",
       "\n",
       "    .dataframe thead th {\n",
       "        text-align: right;\n",
       "    }\n",
       "</style>\n",
       "<table border=\"1\" class=\"dataframe\">\n",
       "  <thead>\n",
       "    <tr style=\"text-align: right;\">\n",
       "      <th></th>\n",
       "      <th>from</th>\n",
       "      <th>to</th>\n",
       "      <th>cost</th>\n",
       "    </tr>\n",
       "  </thead>\n",
       "  <tbody>\n",
       "    <tr>\n",
       "      <th>count</th>\n",
       "      <td>295.000000</td>\n",
       "      <td>295.000000</td>\n",
       "      <td>295.000000</td>\n",
       "    </tr>\n",
       "    <tr>\n",
       "      <th>mean</th>\n",
       "      <td>82.376271</td>\n",
       "      <td>85.118644</td>\n",
       "      <td>315.895254</td>\n",
       "    </tr>\n",
       "    <tr>\n",
       "      <th>std</th>\n",
       "      <td>51.902487</td>\n",
       "      <td>51.507177</td>\n",
       "      <td>216.686639</td>\n",
       "    </tr>\n",
       "    <tr>\n",
       "      <th>min</th>\n",
       "      <td>1.000000</td>\n",
       "      <td>0.000000</td>\n",
       "      <td>6.300000</td>\n",
       "    </tr>\n",
       "    <tr>\n",
       "      <th>25%</th>\n",
       "      <td>33.500000</td>\n",
       "      <td>40.000000</td>\n",
       "      <td>240.300000</td>\n",
       "    </tr>\n",
       "    <tr>\n",
       "      <th>50%</th>\n",
       "      <td>82.000000</td>\n",
       "      <td>85.000000</td>\n",
       "      <td>328.100000</td>\n",
       "    </tr>\n",
       "    <tr>\n",
       "      <th>75%</th>\n",
       "      <td>127.000000</td>\n",
       "      <td>132.000000</td>\n",
       "      <td>372.150000</td>\n",
       "    </tr>\n",
       "    <tr>\n",
       "      <th>max</th>\n",
       "      <td>169.000000</td>\n",
       "      <td>169.000000</td>\n",
       "      <td>3274.400000</td>\n",
       "    </tr>\n",
       "  </tbody>\n",
       "</table>\n",
       "</div>"
      ],
      "text/plain": [
       "             from          to         cost\n",
       "count  295.000000  295.000000   295.000000\n",
       "mean    82.376271   85.118644   315.895254\n",
       "std     51.902487   51.507177   216.686639\n",
       "min      1.000000    0.000000     6.300000\n",
       "25%     33.500000   40.000000   240.300000\n",
       "50%     82.000000   85.000000   328.100000\n",
       "75%    127.000000  132.000000   372.150000\n",
       "max    169.000000  169.000000  3274.400000"
      ]
     },
     "execution_count": 90,
     "metadata": {},
     "output_type": "execute_result"
    }
   ],
   "source": [
    "pems08.describe()"
   ]
  },
  {
   "cell_type": "code",
   "execution_count": 28,
   "id": "5f96883e",
   "metadata": {},
   "outputs": [
    {
     "name": "stdout",
     "output_type": "stream",
     "text": [
      "<class 'pandas.core.frame.DataFrame'>\n",
      "RangeIndex: 10000000 entries, 0 to 9999999\n",
      "Data columns (total 17 columns):\n",
      " #   Column               Dtype  \n",
      "---  ------               -----  \n",
      " 0   vendor_id            int64  \n",
      " 1   pickup_datetime      object \n",
      " 2   dropoff_datetime     object \n",
      " 3   passenger_count      int64  \n",
      " 4   trip_distance        float64\n",
      " 5   rate_code            int64  \n",
      " 6   store_and_fwd_flag   object \n",
      " 7   payment_type         int64  \n",
      " 8   fare_amount          float64\n",
      " 9   extra                float64\n",
      " 10  mta_tax              float64\n",
      " 11  tip_amount           float64\n",
      " 12  tolls_amount         float64\n",
      " 13  imp_surcharge        float64\n",
      " 14  total_amount         float64\n",
      " 15  pickup_location_id   int64  \n",
      " 16  dropoff_location_id  int64  \n",
      "dtypes: float64(8), int64(6), object(3)\n",
      "memory usage: 1.3+ GB\n",
      "None\n"
     ]
    },
    {
     "data": {
      "text/plain": [
       "(10000000, 17)"
      ]
     },
     "execution_count": 28,
     "metadata": {},
     "output_type": "execute_result"
    }
   ],
   "source": [
    "print(taxi_trips.info())\n",
    "taxi_trips.shape"
   ]
  },
  {
   "cell_type": "code",
   "execution_count": 87,
   "id": "6b89bd28",
   "metadata": {},
   "outputs": [
    {
     "data": {
      "text/html": [
       "<div>\n",
       "<style scoped>\n",
       "    .dataframe tbody tr th:only-of-type {\n",
       "        vertical-align: middle;\n",
       "    }\n",
       "\n",
       "    .dataframe tbody tr th {\n",
       "        vertical-align: top;\n",
       "    }\n",
       "\n",
       "    .dataframe thead th {\n",
       "        text-align: right;\n",
       "    }\n",
       "</style>\n",
       "<table border=\"1\" class=\"dataframe\">\n",
       "  <thead>\n",
       "    <tr style=\"text-align: right;\">\n",
       "      <th></th>\n",
       "      <th>vendor_id</th>\n",
       "      <th>pickup_datetime</th>\n",
       "      <th>dropoff_datetime</th>\n",
       "      <th>passenger_count</th>\n",
       "      <th>trip_distance</th>\n",
       "      <th>rate_code</th>\n",
       "      <th>store_and_fwd_flag</th>\n",
       "      <th>payment_type</th>\n",
       "      <th>fare_amount</th>\n",
       "      <th>extra</th>\n",
       "      <th>mta_tax</th>\n",
       "      <th>tip_amount</th>\n",
       "      <th>tolls_amount</th>\n",
       "      <th>imp_surcharge</th>\n",
       "      <th>total_amount</th>\n",
       "      <th>pickup_location_id</th>\n",
       "      <th>dropoff_location_id</th>\n",
       "    </tr>\n",
       "  </thead>\n",
       "  <tbody>\n",
       "    <tr>\n",
       "      <th>0</th>\n",
       "      <td>2</td>\n",
       "      <td>2018-03-29 13:37:13</td>\n",
       "      <td>2018-03-29 14:17:01</td>\n",
       "      <td>1</td>\n",
       "      <td>18.15</td>\n",
       "      <td>3</td>\n",
       "      <td>N</td>\n",
       "      <td>1</td>\n",
       "      <td>70.0</td>\n",
       "      <td>0.0</td>\n",
       "      <td>0.0</td>\n",
       "      <td>16.16</td>\n",
       "      <td>10.50</td>\n",
       "      <td>0.3</td>\n",
       "      <td>96.96</td>\n",
       "      <td>161</td>\n",
       "      <td>1</td>\n",
       "    </tr>\n",
       "    <tr>\n",
       "      <th>1</th>\n",
       "      <td>2</td>\n",
       "      <td>2018-03-29 13:37:18</td>\n",
       "      <td>2018-03-29 14:15:33</td>\n",
       "      <td>1</td>\n",
       "      <td>4.59</td>\n",
       "      <td>1</td>\n",
       "      <td>N</td>\n",
       "      <td>1</td>\n",
       "      <td>25.0</td>\n",
       "      <td>0.0</td>\n",
       "      <td>0.5</td>\n",
       "      <td>5.16</td>\n",
       "      <td>0.00</td>\n",
       "      <td>0.3</td>\n",
       "      <td>30.96</td>\n",
       "      <td>13</td>\n",
       "      <td>230</td>\n",
       "    </tr>\n",
       "    <tr>\n",
       "      <th>2</th>\n",
       "      <td>2</td>\n",
       "      <td>2018-03-29 13:26:57</td>\n",
       "      <td>2018-03-29 13:28:03</td>\n",
       "      <td>1</td>\n",
       "      <td>0.30</td>\n",
       "      <td>1</td>\n",
       "      <td>N</td>\n",
       "      <td>1</td>\n",
       "      <td>3.0</td>\n",
       "      <td>0.0</td>\n",
       "      <td>0.5</td>\n",
       "      <td>0.76</td>\n",
       "      <td>0.00</td>\n",
       "      <td>0.3</td>\n",
       "      <td>4.56</td>\n",
       "      <td>231</td>\n",
       "      <td>231</td>\n",
       "    </tr>\n",
       "    <tr>\n",
       "      <th>3</th>\n",
       "      <td>2</td>\n",
       "      <td>2018-03-29 13:07:48</td>\n",
       "      <td>2018-03-29 14:03:05</td>\n",
       "      <td>2</td>\n",
       "      <td>16.97</td>\n",
       "      <td>1</td>\n",
       "      <td>N</td>\n",
       "      <td>1</td>\n",
       "      <td>49.5</td>\n",
       "      <td>0.0</td>\n",
       "      <td>0.5</td>\n",
       "      <td>5.61</td>\n",
       "      <td>5.76</td>\n",
       "      <td>0.3</td>\n",
       "      <td>61.67</td>\n",
       "      <td>231</td>\n",
       "      <td>138</td>\n",
       "    </tr>\n",
       "    <tr>\n",
       "      <th>4</th>\n",
       "      <td>2</td>\n",
       "      <td>2018-03-29 14:19:11</td>\n",
       "      <td>2018-03-29 15:19:59</td>\n",
       "      <td>5</td>\n",
       "      <td>14.45</td>\n",
       "      <td>1</td>\n",
       "      <td>N</td>\n",
       "      <td>1</td>\n",
       "      <td>45.5</td>\n",
       "      <td>0.0</td>\n",
       "      <td>0.5</td>\n",
       "      <td>10.41</td>\n",
       "      <td>5.76</td>\n",
       "      <td>0.3</td>\n",
       "      <td>62.47</td>\n",
       "      <td>87</td>\n",
       "      <td>138</td>\n",
       "    </tr>\n",
       "  </tbody>\n",
       "</table>\n",
       "</div>"
      ],
      "text/plain": [
       "   vendor_id      pickup_datetime     dropoff_datetime  passenger_count  \\\n",
       "0          2  2018-03-29 13:37:13  2018-03-29 14:17:01                1   \n",
       "1          2  2018-03-29 13:37:18  2018-03-29 14:15:33                1   \n",
       "2          2  2018-03-29 13:26:57  2018-03-29 13:28:03                1   \n",
       "3          2  2018-03-29 13:07:48  2018-03-29 14:03:05                2   \n",
       "4          2  2018-03-29 14:19:11  2018-03-29 15:19:59                5   \n",
       "\n",
       "   trip_distance  rate_code store_and_fwd_flag  payment_type  fare_amount  \\\n",
       "0          18.15          3                  N             1         70.0   \n",
       "1           4.59          1                  N             1         25.0   \n",
       "2           0.30          1                  N             1          3.0   \n",
       "3          16.97          1                  N             1         49.5   \n",
       "4          14.45          1                  N             1         45.5   \n",
       "\n",
       "   extra  mta_tax  tip_amount  tolls_amount  imp_surcharge  total_amount  \\\n",
       "0    0.0      0.0       16.16         10.50            0.3         96.96   \n",
       "1    0.0      0.5        5.16          0.00            0.3         30.96   \n",
       "2    0.0      0.5        0.76          0.00            0.3          4.56   \n",
       "3    0.0      0.5        5.61          5.76            0.3         61.67   \n",
       "4    0.0      0.5       10.41          5.76            0.3         62.47   \n",
       "\n",
       "   pickup_location_id  dropoff_location_id  \n",
       "0                 161                    1  \n",
       "1                  13                  230  \n",
       "2                 231                  231  \n",
       "3                 231                  138  \n",
       "4                  87                  138  "
      ]
     },
     "execution_count": 87,
     "metadata": {},
     "output_type": "execute_result"
    }
   ],
   "source": [
    "taxi_trips.head()"
   ]
  },
  {
   "cell_type": "code",
   "execution_count": 29,
   "id": "94a4294e",
   "metadata": {},
   "outputs": [
    {
     "name": "stdout",
     "output_type": "stream",
     "text": [
      "<class 'pandas.core.frame.DataFrame'>\n",
      "RangeIndex: 263 entries, 0 to 262\n",
      "Data columns (total 4 columns):\n",
      " #   Column     Non-Null Count  Dtype \n",
      "---  ------     --------------  ----- \n",
      " 0   zone_id    263 non-null    int64 \n",
      " 1   zone_name  263 non-null    object\n",
      " 2   borough    263 non-null    object\n",
      " 3   zone_geom  263 non-null    object\n",
      "dtypes: int64(1), object(3)\n",
      "memory usage: 8.3+ KB\n"
     ]
    },
    {
     "data": {
      "text/plain": [
       "(263, 4)"
      ]
     },
     "execution_count": 29,
     "metadata": {},
     "output_type": "execute_result"
    }
   ],
   "source": [
    "taxi_zones.info()\n",
    "taxi_zones.shape"
   ]
  },
  {
   "cell_type": "code",
   "execution_count": 102,
   "id": "3ac8731e",
   "metadata": {},
   "outputs": [
    {
     "data": {
      "text/html": [
       "<div>\n",
       "<style scoped>\n",
       "    .dataframe tbody tr th:only-of-type {\n",
       "        vertical-align: middle;\n",
       "    }\n",
       "\n",
       "    .dataframe tbody tr th {\n",
       "        vertical-align: top;\n",
       "    }\n",
       "\n",
       "    .dataframe thead th {\n",
       "        text-align: right;\n",
       "    }\n",
       "</style>\n",
       "<table border=\"1\" class=\"dataframe\">\n",
       "  <thead>\n",
       "    <tr style=\"text-align: right;\">\n",
       "      <th></th>\n",
       "      <th>from</th>\n",
       "      <th>to</th>\n",
       "      <th>cost</th>\n",
       "    </tr>\n",
       "  </thead>\n",
       "  <tbody>\n",
       "    <tr>\n",
       "      <th>0</th>\n",
       "      <td>73</td>\n",
       "      <td>5</td>\n",
       "      <td>352.6</td>\n",
       "    </tr>\n",
       "  </tbody>\n",
       "</table>\n",
       "</div>"
      ],
      "text/plain": [
       "   from  to   cost\n",
       "0    73   5  352.6"
      ]
     },
     "execution_count": 102,
     "metadata": {},
     "output_type": "execute_result"
    }
   ],
   "source": [
    "pems04[pems04['to'] == 5]"
   ]
  },
  {
   "cell_type": "markdown",
   "id": "64cd4ba8",
   "metadata": {},
   "source": [
    "<font size=\"+0\" color='green'><b> Combining the Data</b></font>  "
   ]
  },
  {
   "cell_type": "code",
   "execution_count": 106,
   "id": "e8cfcfb4",
   "metadata": {},
   "outputs": [],
   "source": [
    "pems = combine_dataframes([pems04, pems07, pems08])"
   ]
  },
  {
   "cell_type": "code",
   "execution_count": 107,
   "id": "eed76230",
   "metadata": {},
   "outputs": [
    {
     "data": {
      "text/html": [
       "<div>\n",
       "<style scoped>\n",
       "    .dataframe tbody tr th:only-of-type {\n",
       "        vertical-align: middle;\n",
       "    }\n",
       "\n",
       "    .dataframe tbody tr th {\n",
       "        vertical-align: top;\n",
       "    }\n",
       "\n",
       "    .dataframe thead th {\n",
       "        text-align: right;\n",
       "    }\n",
       "</style>\n",
       "<table border=\"1\" class=\"dataframe\">\n",
       "  <thead>\n",
       "    <tr style=\"text-align: right;\">\n",
       "      <th></th>\n",
       "      <th>from</th>\n",
       "      <th>to</th>\n",
       "      <th>cost</th>\n",
       "    </tr>\n",
       "  </thead>\n",
       "  <tbody>\n",
       "    <tr>\n",
       "      <th>0</th>\n",
       "      <td>73</td>\n",
       "      <td>5</td>\n",
       "      <td>352.6</td>\n",
       "    </tr>\n",
       "    <tr>\n",
       "      <th>1</th>\n",
       "      <td>5</td>\n",
       "      <td>154</td>\n",
       "      <td>347.2</td>\n",
       "    </tr>\n",
       "    <tr>\n",
       "      <th>2</th>\n",
       "      <td>154</td>\n",
       "      <td>263</td>\n",
       "      <td>392.9</td>\n",
       "    </tr>\n",
       "    <tr>\n",
       "      <th>3</th>\n",
       "      <td>263</td>\n",
       "      <td>56</td>\n",
       "      <td>440.8</td>\n",
       "    </tr>\n",
       "    <tr>\n",
       "      <th>4</th>\n",
       "      <td>56</td>\n",
       "      <td>96</td>\n",
       "      <td>374.6</td>\n",
       "    </tr>\n",
       "  </tbody>\n",
       "</table>\n",
       "</div>"
      ],
      "text/plain": [
       "   from   to   cost\n",
       "0    73    5  352.6\n",
       "1     5  154  347.2\n",
       "2   154  263  392.9\n",
       "3   263   56  440.8\n",
       "4    56   96  374.6"
      ]
     },
     "execution_count": 107,
     "metadata": {},
     "output_type": "execute_result"
    }
   ],
   "source": [
    "pems.head()"
   ]
  },
  {
   "cell_type": "code",
   "execution_count": 108,
   "id": "cdf3607e",
   "metadata": {},
   "outputs": [
    {
     "data": {
      "text/plain": [
       "18"
      ]
     },
     "execution_count": 108,
     "metadata": {},
     "output_type": "execute_result"
    }
   ],
   "source": [
    "pems.duplicated().sum()"
   ]
  },
  {
   "cell_type": "code",
   "execution_count": 109,
   "id": "85f02bb4",
   "metadata": {},
   "outputs": [],
   "source": [
    "# Renaming the columns\n",
    "pems.rename(columns={'from': 'pickup_location_id', 'to': 'dropoff_location_id'}, inplace=True)"
   ]
  },
  {
   "cell_type": "code",
   "execution_count": 110,
   "id": "2a7d511b",
   "metadata": {},
   "outputs": [
    {
     "data": {
      "text/html": [
       "<div>\n",
       "<style scoped>\n",
       "    .dataframe tbody tr th:only-of-type {\n",
       "        vertical-align: middle;\n",
       "    }\n",
       "\n",
       "    .dataframe tbody tr th {\n",
       "        vertical-align: top;\n",
       "    }\n",
       "\n",
       "    .dataframe thead th {\n",
       "        text-align: right;\n",
       "    }\n",
       "</style>\n",
       "<table border=\"1\" class=\"dataframe\">\n",
       "  <thead>\n",
       "    <tr style=\"text-align: right;\">\n",
       "      <th></th>\n",
       "      <th>pickup_location_id</th>\n",
       "      <th>dropoff_location_id</th>\n",
       "      <th>cost</th>\n",
       "      <th>vendor_id</th>\n",
       "      <th>pickup_datetime</th>\n",
       "      <th>dropoff_datetime</th>\n",
       "      <th>passenger_count</th>\n",
       "      <th>trip_distance</th>\n",
       "      <th>rate_code</th>\n",
       "      <th>store_and_fwd_flag</th>\n",
       "      <th>payment_type</th>\n",
       "      <th>fare_amount</th>\n",
       "      <th>extra</th>\n",
       "      <th>mta_tax</th>\n",
       "      <th>tip_amount</th>\n",
       "      <th>tolls_amount</th>\n",
       "      <th>imp_surcharge</th>\n",
       "      <th>total_amount</th>\n",
       "    </tr>\n",
       "  </thead>\n",
       "  <tbody>\n",
       "    <tr>\n",
       "      <th>0</th>\n",
       "      <td>263</td>\n",
       "      <td>56</td>\n",
       "      <td>440.8</td>\n",
       "      <td>2</td>\n",
       "      <td>2018-10-06 03:03:53</td>\n",
       "      <td>2018-10-06 03:23:20</td>\n",
       "      <td>3</td>\n",
       "      <td>9.14</td>\n",
       "      <td>1</td>\n",
       "      <td>N</td>\n",
       "      <td>1</td>\n",
       "      <td>27.0</td>\n",
       "      <td>0.5</td>\n",
       "      <td>0.5</td>\n",
       "      <td>5.66</td>\n",
       "      <td>0.00</td>\n",
       "      <td>0.3</td>\n",
       "      <td>33.96</td>\n",
       "    </tr>\n",
       "    <tr>\n",
       "      <th>1</th>\n",
       "      <td>263</td>\n",
       "      <td>56</td>\n",
       "      <td>440.8</td>\n",
       "      <td>2</td>\n",
       "      <td>2018-04-08 00:27:46</td>\n",
       "      <td>2018-04-08 00:57:21</td>\n",
       "      <td>1</td>\n",
       "      <td>7.26</td>\n",
       "      <td>1</td>\n",
       "      <td>N</td>\n",
       "      <td>2</td>\n",
       "      <td>25.0</td>\n",
       "      <td>0.5</td>\n",
       "      <td>0.5</td>\n",
       "      <td>0.00</td>\n",
       "      <td>0.00</td>\n",
       "      <td>0.3</td>\n",
       "      <td>26.30</td>\n",
       "    </tr>\n",
       "    <tr>\n",
       "      <th>2</th>\n",
       "      <td>263</td>\n",
       "      <td>56</td>\n",
       "      <td>440.8</td>\n",
       "      <td>1</td>\n",
       "      <td>2018-03-26 08:13:56</td>\n",
       "      <td>2018-03-26 08:39:48</td>\n",
       "      <td>1</td>\n",
       "      <td>11.10</td>\n",
       "      <td>1</td>\n",
       "      <td>N</td>\n",
       "      <td>1</td>\n",
       "      <td>33.0</td>\n",
       "      <td>0.0</td>\n",
       "      <td>0.5</td>\n",
       "      <td>9.85</td>\n",
       "      <td>5.76</td>\n",
       "      <td>0.3</td>\n",
       "      <td>49.41</td>\n",
       "    </tr>\n",
       "    <tr>\n",
       "      <th>3</th>\n",
       "      <td>263</td>\n",
       "      <td>56</td>\n",
       "      <td>440.8</td>\n",
       "      <td>1</td>\n",
       "      <td>2018-06-16 09:59:43</td>\n",
       "      <td>2018-06-16 10:30:01</td>\n",
       "      <td>1</td>\n",
       "      <td>9.20</td>\n",
       "      <td>1</td>\n",
       "      <td>N</td>\n",
       "      <td>1</td>\n",
       "      <td>30.5</td>\n",
       "      <td>0.0</td>\n",
       "      <td>0.5</td>\n",
       "      <td>7.80</td>\n",
       "      <td>0.00</td>\n",
       "      <td>0.3</td>\n",
       "      <td>39.10</td>\n",
       "    </tr>\n",
       "    <tr>\n",
       "      <th>4</th>\n",
       "      <td>263</td>\n",
       "      <td>56</td>\n",
       "      <td>440.8</td>\n",
       "      <td>1</td>\n",
       "      <td>2018-03-10 00:44:57</td>\n",
       "      <td>2018-03-10 01:13:21</td>\n",
       "      <td>3</td>\n",
       "      <td>7.00</td>\n",
       "      <td>1</td>\n",
       "      <td>N</td>\n",
       "      <td>2</td>\n",
       "      <td>24.5</td>\n",
       "      <td>0.5</td>\n",
       "      <td>0.5</td>\n",
       "      <td>0.00</td>\n",
       "      <td>0.00</td>\n",
       "      <td>0.3</td>\n",
       "      <td>25.80</td>\n",
       "    </tr>\n",
       "  </tbody>\n",
       "</table>\n",
       "</div>"
      ],
      "text/plain": [
       "   pickup_location_id  dropoff_location_id   cost  vendor_id  \\\n",
       "0                 263                   56  440.8          2   \n",
       "1                 263                   56  440.8          2   \n",
       "2                 263                   56  440.8          1   \n",
       "3                 263                   56  440.8          1   \n",
       "4                 263                   56  440.8          1   \n",
       "\n",
       "       pickup_datetime     dropoff_datetime  passenger_count  trip_distance  \\\n",
       "0  2018-10-06 03:03:53  2018-10-06 03:23:20                3           9.14   \n",
       "1  2018-04-08 00:27:46  2018-04-08 00:57:21                1           7.26   \n",
       "2  2018-03-26 08:13:56  2018-03-26 08:39:48                1          11.10   \n",
       "3  2018-06-16 09:59:43  2018-06-16 10:30:01                1           9.20   \n",
       "4  2018-03-10 00:44:57  2018-03-10 01:13:21                3           7.00   \n",
       "\n",
       "   rate_code store_and_fwd_flag  payment_type  fare_amount  extra  mta_tax  \\\n",
       "0          1                  N             1         27.0    0.5      0.5   \n",
       "1          1                  N             2         25.0    0.5      0.5   \n",
       "2          1                  N             1         33.0    0.0      0.5   \n",
       "3          1                  N             1         30.5    0.0      0.5   \n",
       "4          1                  N             2         24.5    0.5      0.5   \n",
       "\n",
       "   tip_amount  tolls_amount  imp_surcharge  total_amount  \n",
       "0        5.66          0.00            0.3         33.96  \n",
       "1        0.00          0.00            0.3         26.30  \n",
       "2        9.85          5.76            0.3         49.41  \n",
       "3        7.80          0.00            0.3         39.10  \n",
       "4        0.00          0.00            0.3         25.80  "
      ]
     },
     "execution_count": 110,
     "metadata": {},
     "output_type": "execute_result"
    }
   ],
   "source": [
    "df = pd.merge(pems, taxi_trips, on=['pickup_location_id', 'dropoff_location_id'], how='inner')\n",
    "df.head()"
   ]
  },
  {
   "cell_type": "code",
   "execution_count": 105,
   "id": "26cb992a",
   "metadata": {},
   "outputs": [
    {
     "data": {
      "text/plain": [
       "(66035, 18)"
      ]
     },
     "execution_count": 105,
     "metadata": {},
     "output_type": "execute_result"
    }
   ],
   "source": [
    "df.shape"
   ]
  },
  {
   "cell_type": "code",
   "execution_count": 111,
   "id": "cd885fc7",
   "metadata": {},
   "outputs": [
    {
     "data": {
      "text/plain": [
       "5859"
      ]
     },
     "execution_count": 111,
     "metadata": {},
     "output_type": "execute_result"
    }
   ],
   "source": [
    "df.duplicated().sum()"
   ]
  },
  {
   "cell_type": "code",
   "execution_count": 114,
   "id": "95c7968f",
   "metadata": {},
   "outputs": [
    {
     "data": {
      "text/plain": [
       "pickup_location_id     0\n",
       "dropoff_location_id    0\n",
       "cost                   0\n",
       "vendor_id              0\n",
       "pickup_datetime        0\n",
       "dropoff_datetime       0\n",
       "passenger_count        0\n",
       "trip_distance          0\n",
       "rate_code              0\n",
       "store_and_fwd_flag     0\n",
       "payment_type           0\n",
       "fare_amount            0\n",
       "extra                  0\n",
       "mta_tax                0\n",
       "tip_amount             0\n",
       "tolls_amount           0\n",
       "imp_surcharge          0\n",
       "total_amount           0\n",
       "dtype: int64"
      ]
     },
     "execution_count": 114,
     "metadata": {},
     "output_type": "execute_result"
    }
   ],
   "source": [
    "df.isna().sum()"
   ]
  },
  {
   "cell_type": "markdown",
   "id": "5d5b57fe",
   "metadata": {},
   "source": [
    "<a id='exploratory-data-analysis'></a>\n",
    "<font size=\"+2\" color='#053c96'><b> Exploratory Data Analysis</b></font>  \n",
    "[back to top](#table-of-contents)"
   ]
  },
  {
   "cell_type": "markdown",
   "id": "613915dc",
   "metadata": {},
   "source": [
    "<a id='data-exploration'></a>\n",
    "<font size=\"+0\" color='green'><b> Data Exploration</b></font>  "
   ]
  },
  {
   "cell_type": "code",
   "execution_count": 112,
   "id": "228a4111",
   "metadata": {},
   "outputs": [
    {
     "data": {
      "text/plain": [
       "195"
      ]
     },
     "execution_count": 112,
     "metadata": {},
     "output_type": "execute_result"
    }
   ],
   "source": [
    "df['pickup_location_id'].nunique()"
   ]
  },
  {
   "cell_type": "code",
   "execution_count": 113,
   "id": "6829a08a",
   "metadata": {},
   "outputs": [
    {
     "data": {
      "text/plain": [
       "195"
      ]
     },
     "execution_count": 113,
     "metadata": {},
     "output_type": "execute_result"
    }
   ],
   "source": [
    "df['pickup_location_id'].nunique()"
   ]
  },
  {
   "cell_type": "code",
   "execution_count": 116,
   "id": "30a18e97",
   "metadata": {},
   "outputs": [
    {
     "data": {
      "text/plain": [
       "1    46324\n",
       "2    10185\n",
       "5     2993\n",
       "3     2849\n",
       "6     1769\n",
       "4     1396\n",
       "0      516\n",
       "7        2\n",
       "9        1\n",
       "Name: passenger_count, dtype: int64"
      ]
     },
     "execution_count": 116,
     "metadata": {},
     "output_type": "execute_result"
    }
   ],
   "source": [
    "df['passenger_count'].value_counts()"
   ]
  },
  {
   "cell_type": "code",
   "execution_count": 117,
   "id": "69541718",
   "metadata": {},
   "outputs": [
    {
     "data": {
      "text/plain": [
       "2    39923\n",
       "1    25814\n",
       "4      298\n",
       "Name: vendor_id, dtype: int64"
      ]
     },
     "execution_count": 117,
     "metadata": {},
     "output_type": "execute_result"
    }
   ],
   "source": [
    "df['vendor_id'].value_counts()"
   ]
  },
  {
   "cell_type": "code",
   "execution_count": 118,
   "id": "c5f0c7a7",
   "metadata": {},
   "outputs": [
    {
     "data": {
      "text/plain": [
       "1     54658\n",
       "3      6126\n",
       "2      3673\n",
       "5      1508\n",
       "4        63\n",
       "99        6\n",
       "6         1\n",
       "Name: rate_code, dtype: int64"
      ]
     },
     "execution_count": 118,
     "metadata": {},
     "output_type": "execute_result"
    }
   ],
   "source": [
    "df['rate_code'].value_counts()"
   ]
  },
  {
   "cell_type": "code",
   "execution_count": null,
   "id": "1915d7ba",
   "metadata": {},
   "outputs": [],
   "source": []
  },
  {
   "cell_type": "code",
   "execution_count": null,
   "id": "3b88f0ae",
   "metadata": {},
   "outputs": [],
   "source": []
  },
  {
   "cell_type": "code",
   "execution_count": null,
   "id": "b902680e",
   "metadata": {},
   "outputs": [],
   "source": []
  },
  {
   "cell_type": "code",
   "execution_count": null,
   "id": "81abce1f",
   "metadata": {},
   "outputs": [],
   "source": []
  },
  {
   "cell_type": "code",
   "execution_count": null,
   "id": "0436b0ef",
   "metadata": {},
   "outputs": [],
   "source": []
  },
  {
   "cell_type": "code",
   "execution_count": null,
   "id": "cfaaecc9",
   "metadata": {},
   "outputs": [],
   "source": []
  },
  {
   "cell_type": "code",
   "execution_count": null,
   "id": "7bcd4115",
   "metadata": {},
   "outputs": [],
   "source": []
  },
  {
   "cell_type": "code",
   "execution_count": null,
   "id": "c9f2dd52",
   "metadata": {},
   "outputs": [],
   "source": []
  },
  {
   "cell_type": "markdown",
   "id": "fab1d39c",
   "metadata": {},
   "source": [
    "<a id='data-visualization'></a>\n",
    "<font size=\"+0\" color='green'><b> Data Visualization</b></font>  "
   ]
  },
  {
   "cell_type": "markdown",
   "id": "a80e01e0",
   "metadata": {},
   "source": [
    "<a id='summary-statistics'></a>\n",
    "<font size=\"+0\" color='green'><b> Summary Statistics</b></font>  "
   ]
  },
  {
   "cell_type": "markdown",
   "id": "2377a37f",
   "metadata": {},
   "source": [
    "<a id='feature-correlation'></a>\n",
    "<font size=\"+0\" color='green'><b> Feature Correlation</b></font>  "
   ]
  },
  {
   "cell_type": "markdown",
   "id": "98e0bd7c",
   "metadata": {},
   "source": [
    "<a id='data-preparation'></a>\n",
    "<font size=\"+2\" color='#053c96'><b> Data Preparation</b></font>  \n",
    "[back to top](#table-of-contents)"
   ]
  },
  {
   "cell_type": "markdown",
   "id": "c77fdda0",
   "metadata": {},
   "source": [
    "<font size=\"+0\" color='green'><b> Data CLeaning</b></font>  "
   ]
  },
  {
   "cell_type": "markdown",
   "id": "9649a732",
   "metadata": {},
   "source": [
    "<font size=\"+0\" color='green'><b> Handling Imbalanced Classes</b></font>  "
   ]
  },
  {
   "cell_type": "markdown",
   "id": "502405d3",
   "metadata": {},
   "source": [
    "<font size=\"+0\" color='green'><b> Feature Engineering</b></font>  "
   ]
  },
  {
   "cell_type": "markdown",
   "id": "74fb2098",
   "metadata": {},
   "source": [
    "<font size=\"+0\" color='green'><b> Feature Selection</b></font>  "
   ]
  },
  {
   "cell_type": "markdown",
   "id": "36f53cc7",
   "metadata": {},
   "source": [
    "<font size=\"+0\" color='green'><b> Data Transformation</b></font>  "
   ]
  },
  {
   "cell_type": "markdown",
   "id": "b23f4664",
   "metadata": {},
   "source": [
    "<font size=\"+0\" color='green'><b> Data Splitting</b></font>  "
   ]
  }
 ],
 "metadata": {
  "kernelspec": {
   "display_name": "Python 3 (ipykernel)",
   "language": "python",
   "name": "python3"
  },
  "language_info": {
   "codemirror_mode": {
    "name": "ipython",
    "version": 3
   },
   "file_extension": ".py",
   "mimetype": "text/x-python",
   "name": "python",
   "nbconvert_exporter": "python",
   "pygments_lexer": "ipython3",
   "version": "3.10.9"
  }
 },
 "nbformat": 4,
 "nbformat_minor": 5
}
