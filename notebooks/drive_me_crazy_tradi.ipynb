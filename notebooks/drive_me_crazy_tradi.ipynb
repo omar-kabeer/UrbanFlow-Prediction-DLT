{
 "cells": [
  {
   "cell_type": "markdown",
   "metadata": {},
   "source": [
    "<a id='table-of-contents'></a>\n",
    "# Table of Contents\n",
    "\n",
    "1. [Introduction](#introduction)\n",
    "    - Motivation\n",
    "    - Problem Statement\n",
    "    - Objective\n",
    "    - Data Source\n",
    "    - Importing Dependencies  \n",
    "\n",
    "\n",
    "2. [Data](#2-data)\n",
    "    - Data Loading\n",
    "    - Dataset Overview\n",
    "\n",
    "\n",
    "3. [Exploratory Data Analysis](#exploratory-data-analysis)\n",
    "    - Descriptive Statistics\n",
    "    - Data Visualization\n",
    "    - Correlation Analysis\n",
    "    - Outlier Detection\n",
    "\n",
    "\n",
    "4. [Data Preparation](#data-preparation)\n",
    "    - Data Cleaning\n",
    "    - Handling Missing Values\n",
    "    - Handling Imbalanced Classes\n",
    "    - Feature Selection\n",
    "    - Feature Engineering\n",
    "    - Data Transformation\n",
    "    - Data Splitting\n",
    "\n",
    "\n",
    "5. [Model Development](#model-development)\n",
    "    - Baseline Model\n",
    "    - Model Selection\n",
    "    - Model Training\n",
    "    - Hyperparameter Tuning\n",
    "\n",
    "\n",
    "6. [Model Evaluation](#model-evaluation)\n",
    "    - Performance Metrics\n",
    "    - Confusion Matrix\n",
    "    - ROC Curve\n",
    "    - Precision-Recall Curve\n",
    "    - Cross-Validation\n",
    "    - Bias-Variance Tradeoff\n",
    "\n",
    "\n",
    "7. [Model Interpretation](#model-interpretation)\n",
    "    - Feature Importance\n",
    "    - Model Explanation Techniques\n",
    "    - Business Impact Analysis\n",
    "\n",
    "\n",
    "8. [Conclusion](#conclusion)\n",
    "    - Summary of Findings\n",
    "    - Recommendations\n",
    "    - Limitations\n",
    "    - Future Work\n",
    "    - Final Thoughts\n",
    "\n",
    "\n",
    "9. [References](#references)"
   ]
  },
  {
   "cell_type": "markdown",
   "metadata": {},
   "source": [
    "<font size=\"+0\" color='green'><b> Importing Dependencies</b></font>  "
   ]
  },
  {
   "cell_type": "code",
   "execution_count": 5,
   "metadata": {},
   "outputs": [],
   "source": [
    "import sys\n",
    "# Insert the parent path relative to this notebook so we can import from the src folder.\n",
    "sys.path.insert(0, \"..\")\n",
    "\n",
    "from src.dependencies import *\n",
    "from src.functions import *"
   ]
  },
  {
   "cell_type": "markdown",
   "metadata": {},
   "source": [
    "<a id='#data'></a>\n",
    "<font size=\"+2\" color='#053c96'><b> Data</b></font>  \n",
    "[back to top](#table-of-contents)"
   ]
  },
  {
   "cell_type": "markdown",
   "metadata": {},
   "source": [
    "<font size=\"+0\" color='green'><b> Data Loading</b></font>  "
   ]
  },
  {
   "cell_type": "code",
   "execution_count": 6,
   "metadata": {},
   "outputs": [],
   "source": [
    "data1 = pd.read_parquet(\"../data/primary_data.parquet\")\n",
    "data2 = pd.read_parquet(\"../data/secondary_data.parquet\")\n",
    "taxi = pd.read_parquet(\"../data/nyc_taxi_data.parquet\")"
   ]
  },
  {
   "cell_type": "markdown",
   "metadata": {},
   "source": [
    "<font size=\"+0\" color='green'><b> Data Overview</b></font>  "
   ]
  },
  {
   "cell_type": "code",
   "execution_count": 7,
   "metadata": {},
   "outputs": [
    {
     "data": {
      "text/html": [
       "<div>\n",
       "<style scoped>\n",
       "    .dataframe tbody tr th:only-of-type {\n",
       "        vertical-align: middle;\n",
       "    }\n",
       "\n",
       "    .dataframe tbody tr th {\n",
       "        vertical-align: top;\n",
       "    }\n",
       "\n",
       "    .dataframe thead th {\n",
       "        text-align: right;\n",
       "    }\n",
       "</style>\n",
       "<table border=\"1\" class=\"dataframe\">\n",
       "  <thead>\n",
       "    <tr style=\"text-align: right;\">\n",
       "      <th></th>\n",
       "      <th>origin_id</th>\n",
       "      <th>destination_id</th>\n",
       "      <th>cost</th>\n",
       "      <th>traffic_flow</th>\n",
       "      <th>month</th>\n",
       "      <th>week</th>\n",
       "      <th>day</th>\n",
       "      <th>hour</th>\n",
       "      <th>minute</th>\n",
       "      <th>day_of_week</th>\n",
       "      <th>day_of_year</th>\n",
       "      <th>cost_flow</th>\n",
       "      <th>cost_flow_percentage</th>\n",
       "      <th>flow_cost</th>\n",
       "      <th>flow_cost_percentage</th>\n",
       "    </tr>\n",
       "  </thead>\n",
       "  <tbody>\n",
       "    <tr>\n",
       "      <th>0</th>\n",
       "      <td>73</td>\n",
       "      <td>5</td>\n",
       "      <td>352.6</td>\n",
       "      <td>47.0</td>\n",
       "      <td>1</td>\n",
       "      <td>1</td>\n",
       "      <td>1</td>\n",
       "      <td>0</td>\n",
       "      <td>0</td>\n",
       "      <td>0</td>\n",
       "      <td>1</td>\n",
       "      <td>7.502128</td>\n",
       "      <td>2.127660</td>\n",
       "      <td>16572.2</td>\n",
       "      <td>4700.0</td>\n",
       "    </tr>\n",
       "    <tr>\n",
       "      <th>1</th>\n",
       "      <td>73</td>\n",
       "      <td>5</td>\n",
       "      <td>352.6</td>\n",
       "      <td>25.0</td>\n",
       "      <td>1</td>\n",
       "      <td>1</td>\n",
       "      <td>1</td>\n",
       "      <td>0</td>\n",
       "      <td>5</td>\n",
       "      <td>0</td>\n",
       "      <td>1</td>\n",
       "      <td>14.104000</td>\n",
       "      <td>4.000000</td>\n",
       "      <td>8815.0</td>\n",
       "      <td>2500.0</td>\n",
       "    </tr>\n",
       "    <tr>\n",
       "      <th>2</th>\n",
       "      <td>73</td>\n",
       "      <td>5</td>\n",
       "      <td>352.6</td>\n",
       "      <td>55.0</td>\n",
       "      <td>1</td>\n",
       "      <td>1</td>\n",
       "      <td>1</td>\n",
       "      <td>0</td>\n",
       "      <td>10</td>\n",
       "      <td>0</td>\n",
       "      <td>1</td>\n",
       "      <td>6.410909</td>\n",
       "      <td>1.818182</td>\n",
       "      <td>19393.0</td>\n",
       "      <td>5500.0</td>\n",
       "    </tr>\n",
       "    <tr>\n",
       "      <th>3</th>\n",
       "      <td>73</td>\n",
       "      <td>5</td>\n",
       "      <td>352.6</td>\n",
       "      <td>70.0</td>\n",
       "      <td>1</td>\n",
       "      <td>1</td>\n",
       "      <td>1</td>\n",
       "      <td>0</td>\n",
       "      <td>15</td>\n",
       "      <td>0</td>\n",
       "      <td>1</td>\n",
       "      <td>5.037143</td>\n",
       "      <td>1.428571</td>\n",
       "      <td>24682.0</td>\n",
       "      <td>7000.0</td>\n",
       "    </tr>\n",
       "    <tr>\n",
       "      <th>4</th>\n",
       "      <td>73</td>\n",
       "      <td>5</td>\n",
       "      <td>352.6</td>\n",
       "      <td>82.0</td>\n",
       "      <td>1</td>\n",
       "      <td>1</td>\n",
       "      <td>1</td>\n",
       "      <td>0</td>\n",
       "      <td>20</td>\n",
       "      <td>0</td>\n",
       "      <td>1</td>\n",
       "      <td>4.300000</td>\n",
       "      <td>1.219512</td>\n",
       "      <td>28913.2</td>\n",
       "      <td>8200.0</td>\n",
       "    </tr>\n",
       "  </tbody>\n",
       "</table>\n",
       "</div>"
      ],
      "text/plain": [
       "   origin_id  destination_id   cost  traffic_flow  month  week  day  hour  \\\n",
       "0         73               5  352.6          47.0      1     1    1     0   \n",
       "1         73               5  352.6          25.0      1     1    1     0   \n",
       "2         73               5  352.6          55.0      1     1    1     0   \n",
       "3         73               5  352.6          70.0      1     1    1     0   \n",
       "4         73               5  352.6          82.0      1     1    1     0   \n",
       "\n",
       "   minute  day_of_week  day_of_year  cost_flow  cost_flow_percentage  \\\n",
       "0       0            0            1   7.502128              2.127660   \n",
       "1       5            0            1  14.104000              4.000000   \n",
       "2      10            0            1   6.410909              1.818182   \n",
       "3      15            0            1   5.037143              1.428571   \n",
       "4      20            0            1   4.300000              1.219512   \n",
       "\n",
       "   flow_cost  flow_cost_percentage  \n",
       "0    16572.2                4700.0  \n",
       "1     8815.0                2500.0  \n",
       "2    19393.0                5500.0  \n",
       "3    24682.0                7000.0  \n",
       "4    28913.2                8200.0  "
      ]
     },
     "execution_count": 7,
     "metadata": {},
     "output_type": "execute_result"
    }
   ],
   "source": [
    "data1.head()"
   ]
  },
  {
   "cell_type": "code",
   "execution_count": 8,
   "metadata": {},
   "outputs": [
    {
     "data": {
      "text/plain": [
       "(738149, 15)"
      ]
     },
     "execution_count": 8,
     "metadata": {},
     "output_type": "execute_result"
    }
   ],
   "source": [
    "data1.shape"
   ]
  },
  {
   "cell_type": "code",
   "execution_count": 9,
   "metadata": {},
   "outputs": [
    {
     "data": {
      "text/html": [
       "<div>\n",
       "<style scoped>\n",
       "    .dataframe tbody tr th:only-of-type {\n",
       "        vertical-align: middle;\n",
       "    }\n",
       "\n",
       "    .dataframe tbody tr th {\n",
       "        vertical-align: top;\n",
       "    }\n",
       "\n",
       "    .dataframe thead th {\n",
       "        text-align: right;\n",
       "    }\n",
       "</style>\n",
       "<table border=\"1\" class=\"dataframe\">\n",
       "  <thead>\n",
       "    <tr style=\"text-align: right;\">\n",
       "      <th></th>\n",
       "      <th>origin_id</th>\n",
       "      <th>destination_id</th>\n",
       "      <th>cost</th>\n",
       "      <th>traffic_flow</th>\n",
       "      <th>traffic_occupancy</th>\n",
       "      <th>traffic_speed</th>\n",
       "      <th>month</th>\n",
       "      <th>week</th>\n",
       "      <th>day</th>\n",
       "      <th>hour</th>\n",
       "      <th>minute</th>\n",
       "      <th>day_of_week</th>\n",
       "      <th>day_of_year</th>\n",
       "      <th>cost_flow</th>\n",
       "      <th>cost_flow_percentage</th>\n",
       "      <th>flow_speed</th>\n",
       "      <th>flow_occupancy</th>\n",
       "      <th>flow_speed_percentage</th>\n",
       "      <th>flow_occupancy_percentage</th>\n",
       "      <th>cost_speed</th>\n",
       "      <th>cost_occupancy</th>\n",
       "      <th>cost_speed_percentage</th>\n",
       "      <th>cost_occupancy_percentage</th>\n",
       "      <th>speed_flow</th>\n",
       "      <th>speed_occupancy</th>\n",
       "      <th>speed_flow_percentage</th>\n",
       "      <th>speed_occupancy_percentage</th>\n",
       "      <th>occupancy_speed</th>\n",
       "      <th>occupancy_flow</th>\n",
       "      <th>occupancy_flow_percentage</th>\n",
       "      <th>occupancy_speed_percentage</th>\n",
       "    </tr>\n",
       "  </thead>\n",
       "  <tbody>\n",
       "    <tr>\n",
       "      <th>0</th>\n",
       "      <td>9</td>\n",
       "      <td>153</td>\n",
       "      <td>310.6</td>\n",
       "      <td>256.0</td>\n",
       "      <td>0.0385</td>\n",
       "      <td>68.9</td>\n",
       "      <td>7</td>\n",
       "      <td>26</td>\n",
       "      <td>1</td>\n",
       "      <td>0</td>\n",
       "      <td>0</td>\n",
       "      <td>4</td>\n",
       "      <td>183</td>\n",
       "      <td>1.213281</td>\n",
       "      <td>0.390625</td>\n",
       "      <td>3.715530</td>\n",
       "      <td>6649.350649</td>\n",
       "      <td>5.392641</td>\n",
       "      <td>1.727104e+07</td>\n",
       "      <td>4.507983</td>\n",
       "      <td>8067.532468</td>\n",
       "      <td>6.542790</td>\n",
       "      <td>2.095463e+07</td>\n",
       "      <td>17638.4</td>\n",
       "      <td>2.65265</td>\n",
       "      <td>6890.0</td>\n",
       "      <td>6890.0</td>\n",
       "      <td>2.65265</td>\n",
       "      <td>9.8560</td>\n",
       "      <td>3.85</td>\n",
       "      <td>3.85</td>\n",
       "    </tr>\n",
       "    <tr>\n",
       "      <th>1</th>\n",
       "      <td>9</td>\n",
       "      <td>153</td>\n",
       "      <td>310.6</td>\n",
       "      <td>210.0</td>\n",
       "      <td>0.0337</td>\n",
       "      <td>68.0</td>\n",
       "      <td>7</td>\n",
       "      <td>26</td>\n",
       "      <td>1</td>\n",
       "      <td>0</td>\n",
       "      <td>5</td>\n",
       "      <td>4</td>\n",
       "      <td>183</td>\n",
       "      <td>1.479048</td>\n",
       "      <td>0.476190</td>\n",
       "      <td>3.088235</td>\n",
       "      <td>6231.454006</td>\n",
       "      <td>4.541522</td>\n",
       "      <td>1.849096e+07</td>\n",
       "      <td>4.567647</td>\n",
       "      <td>9216.617211</td>\n",
       "      <td>6.717128</td>\n",
       "      <td>2.734901e+07</td>\n",
       "      <td>14280.0</td>\n",
       "      <td>2.29160</td>\n",
       "      <td>6800.0</td>\n",
       "      <td>6800.0</td>\n",
       "      <td>2.29160</td>\n",
       "      <td>7.0770</td>\n",
       "      <td>3.37</td>\n",
       "      <td>3.37</td>\n",
       "    </tr>\n",
       "    <tr>\n",
       "      <th>2</th>\n",
       "      <td>9</td>\n",
       "      <td>153</td>\n",
       "      <td>310.6</td>\n",
       "      <td>224.0</td>\n",
       "      <td>0.0367</td>\n",
       "      <td>66.9</td>\n",
       "      <td>7</td>\n",
       "      <td>26</td>\n",
       "      <td>1</td>\n",
       "      <td>0</td>\n",
       "      <td>10</td>\n",
       "      <td>4</td>\n",
       "      <td>183</td>\n",
       "      <td>1.386607</td>\n",
       "      <td>0.446429</td>\n",
       "      <td>3.348281</td>\n",
       "      <td>6103.542234</td>\n",
       "      <td>5.004904</td>\n",
       "      <td>1.663091e+07</td>\n",
       "      <td>4.642750</td>\n",
       "      <td>8463.215259</td>\n",
       "      <td>6.939836</td>\n",
       "      <td>2.306053e+07</td>\n",
       "      <td>14985.6</td>\n",
       "      <td>2.45523</td>\n",
       "      <td>6690.0</td>\n",
       "      <td>6690.0</td>\n",
       "      <td>2.45523</td>\n",
       "      <td>8.2208</td>\n",
       "      <td>3.67</td>\n",
       "      <td>3.67</td>\n",
       "    </tr>\n",
       "    <tr>\n",
       "      <th>3</th>\n",
       "      <td>9</td>\n",
       "      <td>153</td>\n",
       "      <td>310.6</td>\n",
       "      <td>208.0</td>\n",
       "      <td>0.0324</td>\n",
       "      <td>67.4</td>\n",
       "      <td>7</td>\n",
       "      <td>26</td>\n",
       "      <td>1</td>\n",
       "      <td>0</td>\n",
       "      <td>15</td>\n",
       "      <td>4</td>\n",
       "      <td>183</td>\n",
       "      <td>1.493269</td>\n",
       "      <td>0.480769</td>\n",
       "      <td>3.086053</td>\n",
       "      <td>6419.753086</td>\n",
       "      <td>4.578714</td>\n",
       "      <td>1.981405e+07</td>\n",
       "      <td>4.608309</td>\n",
       "      <td>9586.419753</td>\n",
       "      <td>6.837253</td>\n",
       "      <td>2.958772e+07</td>\n",
       "      <td>14019.2</td>\n",
       "      <td>2.18376</td>\n",
       "      <td>6740.0</td>\n",
       "      <td>6740.0</td>\n",
       "      <td>2.18376</td>\n",
       "      <td>6.7392</td>\n",
       "      <td>3.24</td>\n",
       "      <td>3.24</td>\n",
       "    </tr>\n",
       "    <tr>\n",
       "      <th>4</th>\n",
       "      <td>9</td>\n",
       "      <td>153</td>\n",
       "      <td>310.6</td>\n",
       "      <td>188.0</td>\n",
       "      <td>0.0261</td>\n",
       "      <td>70.4</td>\n",
       "      <td>7</td>\n",
       "      <td>26</td>\n",
       "      <td>1</td>\n",
       "      <td>0</td>\n",
       "      <td>20</td>\n",
       "      <td>4</td>\n",
       "      <td>183</td>\n",
       "      <td>1.652128</td>\n",
       "      <td>0.531915</td>\n",
       "      <td>2.670455</td>\n",
       "      <td>7203.065134</td>\n",
       "      <td>3.793259</td>\n",
       "      <td>2.759795e+07</td>\n",
       "      <td>4.411932</td>\n",
       "      <td>11900.383142</td>\n",
       "      <td>6.266949</td>\n",
       "      <td>4.559534e+07</td>\n",
       "      <td>13235.2</td>\n",
       "      <td>1.83744</td>\n",
       "      <td>7040.0</td>\n",
       "      <td>7040.0</td>\n",
       "      <td>1.83744</td>\n",
       "      <td>4.9068</td>\n",
       "      <td>2.61</td>\n",
       "      <td>2.61</td>\n",
       "    </tr>\n",
       "  </tbody>\n",
       "</table>\n",
       "</div>"
      ],
      "text/plain": [
       "   origin_id  destination_id   cost  traffic_flow  traffic_occupancy  \\\n",
       "0          9             153  310.6         256.0             0.0385   \n",
       "1          9             153  310.6         210.0             0.0337   \n",
       "2          9             153  310.6         224.0             0.0367   \n",
       "3          9             153  310.6         208.0             0.0324   \n",
       "4          9             153  310.6         188.0             0.0261   \n",
       "\n",
       "   traffic_speed  month  week  day  hour  minute  day_of_week  day_of_year  \\\n",
       "0           68.9      7    26    1     0       0            4          183   \n",
       "1           68.0      7    26    1     0       5            4          183   \n",
       "2           66.9      7    26    1     0      10            4          183   \n",
       "3           67.4      7    26    1     0      15            4          183   \n",
       "4           70.4      7    26    1     0      20            4          183   \n",
       "\n",
       "   cost_flow  cost_flow_percentage  flow_speed  flow_occupancy  \\\n",
       "0   1.213281              0.390625    3.715530     6649.350649   \n",
       "1   1.479048              0.476190    3.088235     6231.454006   \n",
       "2   1.386607              0.446429    3.348281     6103.542234   \n",
       "3   1.493269              0.480769    3.086053     6419.753086   \n",
       "4   1.652128              0.531915    2.670455     7203.065134   \n",
       "\n",
       "   flow_speed_percentage  flow_occupancy_percentage  cost_speed  \\\n",
       "0               5.392641               1.727104e+07    4.507983   \n",
       "1               4.541522               1.849096e+07    4.567647   \n",
       "2               5.004904               1.663091e+07    4.642750   \n",
       "3               4.578714               1.981405e+07    4.608309   \n",
       "4               3.793259               2.759795e+07    4.411932   \n",
       "\n",
       "   cost_occupancy  cost_speed_percentage  cost_occupancy_percentage  \\\n",
       "0     8067.532468               6.542790               2.095463e+07   \n",
       "1     9216.617211               6.717128               2.734901e+07   \n",
       "2     8463.215259               6.939836               2.306053e+07   \n",
       "3     9586.419753               6.837253               2.958772e+07   \n",
       "4    11900.383142               6.266949               4.559534e+07   \n",
       "\n",
       "   speed_flow  speed_occupancy  speed_flow_percentage  \\\n",
       "0     17638.4          2.65265                 6890.0   \n",
       "1     14280.0          2.29160                 6800.0   \n",
       "2     14985.6          2.45523                 6690.0   \n",
       "3     14019.2          2.18376                 6740.0   \n",
       "4     13235.2          1.83744                 7040.0   \n",
       "\n",
       "   speed_occupancy_percentage  occupancy_speed  occupancy_flow  \\\n",
       "0                      6890.0          2.65265          9.8560   \n",
       "1                      6800.0          2.29160          7.0770   \n",
       "2                      6690.0          2.45523          8.2208   \n",
       "3                      6740.0          2.18376          6.7392   \n",
       "4                      7040.0          1.83744          4.9068   \n",
       "\n",
       "   occupancy_flow_percentage  occupancy_speed_percentage  \n",
       "0                       3.85                        3.85  \n",
       "1                       3.37                        3.37  \n",
       "2                       3.67                        3.67  \n",
       "3                       3.24                        3.24  \n",
       "4                       2.61                        2.61  "
      ]
     },
     "execution_count": 9,
     "metadata": {},
     "output_type": "execute_result"
    }
   ],
   "source": [
    "data2.head()"
   ]
  },
  {
   "cell_type": "code",
   "execution_count": 10,
   "metadata": {},
   "outputs": [
    {
     "data": {
      "text/plain": [
       "(109658, 31)"
      ]
     },
     "execution_count": 10,
     "metadata": {},
     "output_type": "execute_result"
    }
   ],
   "source": [
    "data2.shape"
   ]
  },
  {
   "cell_type": "code",
   "execution_count": 11,
   "metadata": {},
   "outputs": [
    {
     "data": {
      "text/html": [
       "<div>\n",
       "<style scoped>\n",
       "    .dataframe tbody tr th:only-of-type {\n",
       "        vertical-align: middle;\n",
       "    }\n",
       "\n",
       "    .dataframe tbody tr th {\n",
       "        vertical-align: top;\n",
       "    }\n",
       "\n",
       "    .dataframe thead th {\n",
       "        text-align: right;\n",
       "    }\n",
       "</style>\n",
       "<table border=\"1\" class=\"dataframe\">\n",
       "  <thead>\n",
       "    <tr style=\"text-align: right;\">\n",
       "      <th></th>\n",
       "      <th>vendor_id</th>\n",
       "      <th>pickup_datetime</th>\n",
       "      <th>dropoff_datetime</th>\n",
       "      <th>passenger_count</th>\n",
       "      <th>trip_distance</th>\n",
       "      <th>pickup_longitude</th>\n",
       "      <th>pickup_latitude</th>\n",
       "      <th>rate_code</th>\n",
       "      <th>store_and_fwd_flag</th>\n",
       "      <th>dropoff_longitude</th>\n",
       "      <th>dropoff_latitude</th>\n",
       "      <th>payment_type</th>\n",
       "      <th>fare_amount</th>\n",
       "      <th>surcharge</th>\n",
       "      <th>mta_tax</th>\n",
       "      <th>tip_amount</th>\n",
       "      <th>tolls_amount</th>\n",
       "      <th>total_amount</th>\n",
       "      <th>year</th>\n",
       "      <th>month</th>\n",
       "      <th>week</th>\n",
       "      <th>day</th>\n",
       "      <th>hour</th>\n",
       "      <th>minute</th>\n",
       "      <th>day_of_week</th>\n",
       "      <th>day_of_year</th>\n",
       "      <th>time</th>\n",
       "      <th>inflow</th>\n",
       "      <th>outflow</th>\n",
       "    </tr>\n",
       "  </thead>\n",
       "  <tbody>\n",
       "    <tr>\n",
       "      <th>0</th>\n",
       "      <td>0</td>\n",
       "      <td>2014-01-09 19:30:33</td>\n",
       "      <td>2014-01-09 19:37:00</td>\n",
       "      <td>1</td>\n",
       "      <td>1.6</td>\n",
       "      <td>-73.966895</td>\n",
       "      <td>40.760750</td>\n",
       "      <td>1</td>\n",
       "      <td>0</td>\n",
       "      <td>-73.952452</td>\n",
       "      <td>40.780517</td>\n",
       "      <td>0</td>\n",
       "      <td>7.5</td>\n",
       "      <td>1.0</td>\n",
       "      <td>0.5</td>\n",
       "      <td>1.00</td>\n",
       "      <td>0.00</td>\n",
       "      <td>10.00</td>\n",
       "      <td>2014</td>\n",
       "      <td>1</td>\n",
       "      <td>2</td>\n",
       "      <td>9</td>\n",
       "      <td>19</td>\n",
       "      <td>30</td>\n",
       "      <td>3</td>\n",
       "      <td>9</td>\n",
       "      <td>2014-01-09 19:30:00+00:00</td>\n",
       "      <td>20.0</td>\n",
       "      <td>22.0</td>\n",
       "    </tr>\n",
       "    <tr>\n",
       "      <th>1</th>\n",
       "      <td>0</td>\n",
       "      <td>2014-01-09 19:30:02</td>\n",
       "      <td>2014-01-09 19:46:44</td>\n",
       "      <td>1</td>\n",
       "      <td>3.5</td>\n",
       "      <td>-73.984054</td>\n",
       "      <td>40.743348</td>\n",
       "      <td>1</td>\n",
       "      <td>0</td>\n",
       "      <td>-73.945270</td>\n",
       "      <td>40.774060</td>\n",
       "      <td>0</td>\n",
       "      <td>14.0</td>\n",
       "      <td>1.0</td>\n",
       "      <td>0.5</td>\n",
       "      <td>3.10</td>\n",
       "      <td>0.00</td>\n",
       "      <td>18.60</td>\n",
       "      <td>2014</td>\n",
       "      <td>1</td>\n",
       "      <td>2</td>\n",
       "      <td>9</td>\n",
       "      <td>19</td>\n",
       "      <td>30</td>\n",
       "      <td>3</td>\n",
       "      <td>9</td>\n",
       "      <td>2014-01-09 19:30:00+00:00</td>\n",
       "      <td>20.0</td>\n",
       "      <td>22.0</td>\n",
       "    </tr>\n",
       "    <tr>\n",
       "      <th>2</th>\n",
       "      <td>0</td>\n",
       "      <td>2014-01-09 19:30:29</td>\n",
       "      <td>2014-01-09 19:54:52</td>\n",
       "      <td>1</td>\n",
       "      <td>9.1</td>\n",
       "      <td>-73.968481</td>\n",
       "      <td>40.754940</td>\n",
       "      <td>1</td>\n",
       "      <td>0</td>\n",
       "      <td>-73.835023</td>\n",
       "      <td>40.716944</td>\n",
       "      <td>0</td>\n",
       "      <td>27.5</td>\n",
       "      <td>1.0</td>\n",
       "      <td>0.5</td>\n",
       "      <td>4.00</td>\n",
       "      <td>5.33</td>\n",
       "      <td>38.33</td>\n",
       "      <td>2014</td>\n",
       "      <td>1</td>\n",
       "      <td>2</td>\n",
       "      <td>9</td>\n",
       "      <td>19</td>\n",
       "      <td>30</td>\n",
       "      <td>3</td>\n",
       "      <td>9</td>\n",
       "      <td>2014-01-09 19:30:00+00:00</td>\n",
       "      <td>20.0</td>\n",
       "      <td>22.0</td>\n",
       "    </tr>\n",
       "    <tr>\n",
       "      <th>3</th>\n",
       "      <td>0</td>\n",
       "      <td>2014-01-09 19:30:47</td>\n",
       "      <td>2014-01-09 19:43:48</td>\n",
       "      <td>4</td>\n",
       "      <td>1.3</td>\n",
       "      <td>-73.986107</td>\n",
       "      <td>40.740197</td>\n",
       "      <td>1</td>\n",
       "      <td>0</td>\n",
       "      <td>-74.006595</td>\n",
       "      <td>40.744362</td>\n",
       "      <td>0</td>\n",
       "      <td>9.5</td>\n",
       "      <td>1.0</td>\n",
       "      <td>0.5</td>\n",
       "      <td>2.75</td>\n",
       "      <td>0.00</td>\n",
       "      <td>13.75</td>\n",
       "      <td>2014</td>\n",
       "      <td>1</td>\n",
       "      <td>2</td>\n",
       "      <td>9</td>\n",
       "      <td>19</td>\n",
       "      <td>30</td>\n",
       "      <td>3</td>\n",
       "      <td>9</td>\n",
       "      <td>2014-01-09 19:30:00+00:00</td>\n",
       "      <td>20.0</td>\n",
       "      <td>22.0</td>\n",
       "    </tr>\n",
       "    <tr>\n",
       "      <th>4</th>\n",
       "      <td>0</td>\n",
       "      <td>2014-01-09 19:30:52</td>\n",
       "      <td>2014-01-09 19:44:17</td>\n",
       "      <td>1</td>\n",
       "      <td>3.8</td>\n",
       "      <td>-73.963270</td>\n",
       "      <td>40.768193</td>\n",
       "      <td>1</td>\n",
       "      <td>0</td>\n",
       "      <td>-73.927815</td>\n",
       "      <td>40.736685</td>\n",
       "      <td>0</td>\n",
       "      <td>14.0</td>\n",
       "      <td>1.0</td>\n",
       "      <td>0.5</td>\n",
       "      <td>1.50</td>\n",
       "      <td>0.00</td>\n",
       "      <td>17.00</td>\n",
       "      <td>2014</td>\n",
       "      <td>1</td>\n",
       "      <td>2</td>\n",
       "      <td>9</td>\n",
       "      <td>19</td>\n",
       "      <td>30</td>\n",
       "      <td>3</td>\n",
       "      <td>9</td>\n",
       "      <td>2014-01-09 19:30:00+00:00</td>\n",
       "      <td>20.0</td>\n",
       "      <td>22.0</td>\n",
       "    </tr>\n",
       "  </tbody>\n",
       "</table>\n",
       "</div>"
      ],
      "text/plain": [
       "   vendor_id     pickup_datetime    dropoff_datetime  passenger_count  \\\n",
       "0          0 2014-01-09 19:30:33 2014-01-09 19:37:00                1   \n",
       "1          0 2014-01-09 19:30:02 2014-01-09 19:46:44                1   \n",
       "2          0 2014-01-09 19:30:29 2014-01-09 19:54:52                1   \n",
       "3          0 2014-01-09 19:30:47 2014-01-09 19:43:48                4   \n",
       "4          0 2014-01-09 19:30:52 2014-01-09 19:44:17                1   \n",
       "\n",
       "   trip_distance  pickup_longitude  pickup_latitude  rate_code  \\\n",
       "0            1.6        -73.966895        40.760750          1   \n",
       "1            3.5        -73.984054        40.743348          1   \n",
       "2            9.1        -73.968481        40.754940          1   \n",
       "3            1.3        -73.986107        40.740197          1   \n",
       "4            3.8        -73.963270        40.768193          1   \n",
       "\n",
       "   store_and_fwd_flag  dropoff_longitude  dropoff_latitude  payment_type  \\\n",
       "0                   0         -73.952452         40.780517             0   \n",
       "1                   0         -73.945270         40.774060             0   \n",
       "2                   0         -73.835023         40.716944             0   \n",
       "3                   0         -74.006595         40.744362             0   \n",
       "4                   0         -73.927815         40.736685             0   \n",
       "\n",
       "   fare_amount  surcharge  mta_tax  tip_amount  tolls_amount  total_amount  \\\n",
       "0          7.5        1.0      0.5        1.00          0.00         10.00   \n",
       "1         14.0        1.0      0.5        3.10          0.00         18.60   \n",
       "2         27.5        1.0      0.5        4.00          5.33         38.33   \n",
       "3          9.5        1.0      0.5        2.75          0.00         13.75   \n",
       "4         14.0        1.0      0.5        1.50          0.00         17.00   \n",
       "\n",
       "   year  month  week  day  hour  minute  day_of_week  day_of_year  \\\n",
       "0  2014      1     2    9    19      30            3            9   \n",
       "1  2014      1     2    9    19      30            3            9   \n",
       "2  2014      1     2    9    19      30            3            9   \n",
       "3  2014      1     2    9    19      30            3            9   \n",
       "4  2014      1     2    9    19      30            3            9   \n",
       "\n",
       "                       time  inflow  outflow  \n",
       "0 2014-01-09 19:30:00+00:00    20.0     22.0  \n",
       "1 2014-01-09 19:30:00+00:00    20.0     22.0  \n",
       "2 2014-01-09 19:30:00+00:00    20.0     22.0  \n",
       "3 2014-01-09 19:30:00+00:00    20.0     22.0  \n",
       "4 2014-01-09 19:30:00+00:00    20.0     22.0  "
      ]
     },
     "execution_count": 11,
     "metadata": {},
     "output_type": "execute_result"
    }
   ],
   "source": [
    "taxi.head()"
   ]
  },
  {
   "cell_type": "code",
   "execution_count": 12,
   "metadata": {},
   "outputs": [
    {
     "data": {
      "text/plain": [
       "(242229, 29)"
      ]
     },
     "execution_count": 12,
     "metadata": {},
     "output_type": "execute_result"
    }
   ],
   "source": [
    "taxi.shape"
   ]
  },
  {
   "cell_type": "markdown",
   "metadata": {},
   "source": [
    "<a id='data-preparation'></a>\n",
    "<font size=\"+2\" color='#053c96'><b> Data Preparation</b></font>  \n",
    "[back to top](#table-of-contents)"
   ]
  },
  {
   "cell_type": "markdown",
   "metadata": {},
   "source": [
    "<font size=\"+0\" color='green'><b> Feature Selection</b></font>  "
   ]
  },
  {
   "cell_type": "code",
   "execution_count": 13,
   "metadata": {},
   "outputs": [],
   "source": [
    "X, y = data1.drop('traffic_flow', axis=1), data1['traffic_flow']"
   ]
  },
  {
   "cell_type": "code",
   "execution_count": 14,
   "metadata": {},
   "outputs": [
    {
     "data": {
      "text/plain": [
       "Index(['origin_id', 'destination_id', 'traffic_flow', 'week', 'day', 'hour',\n",
       "       'day_of_year', 'cost_flow', 'cost_flow_percentage', 'flow_cost',\n",
       "       'flow_cost_percentage'],\n",
       "      dtype='object')"
      ]
     },
     "execution_count": 14,
     "metadata": {},
     "output_type": "execute_result"
    }
   ],
   "source": [
    "threshold = 0.085\n",
    "correlation_matrix = data1.corr()\n",
    "high_correlation_features = correlation_matrix[abs(correlation_matrix['traffic_flow']) > threshold]['traffic_flow'].index\n",
    "high_correlation_features"
   ]
  },
  {
   "cell_type": "code",
   "execution_count": 15,
   "metadata": {},
   "outputs": [
    {
     "name": "stdout",
     "output_type": "stream",
     "text": [
      "Selected Features: Index(['origin_id', 'destination_id', 'cost', 'week', 'day', 'hour',\n",
      "       'day_of_week', 'day_of_year', 'cost_flow', 'flow_cost'],\n",
      "      dtype='object')\n"
     ]
    }
   ],
   "source": [
    "# Split the data into training and testing sets\n",
    "X_train, X_test, y_train, y_test = train_test_split(X, y, test_size=0.2, random_state=42)\n",
    "scaler = StandardScaler()\n",
    "X_train_scaled = scaler.fit_transform(X_train)\n",
    "\n",
    "# Create a SelectKBest object with the f_regression score function\n",
    "k_best = SelectKBest(k=10)\n",
    "\n",
    "# Fit the SelectKBest object on the training data\n",
    "X_train_kbest = k_best.fit_transform(X_train_scaled, y_train)\n",
    "\n",
    "# Get the indices of the selected features\n",
    "selected_indices = k_best.get_support(indices=True)\n",
    "\n",
    "# Get the names of the selected features\n",
    "selected_features1 = X.columns[selected_indices]\n",
    "\n",
    "# Display the selected features\n",
    "print(\"Selected Features:\", selected_features1)"
   ]
  },
  {
   "cell_type": "code",
   "execution_count": 16,
   "metadata": {},
   "outputs": [
    {
     "data": {
      "text/plain": [
       "Index(['week', 'day', 'hour', 'day_of_year', 'cost_flow',\n",
       "       'cost_flow_percentage', 'flow_cost', 'flow_cost_percentage'],\n",
       "      dtype='object')"
      ]
     },
     "execution_count": 16,
     "metadata": {},
     "output_type": "execute_result"
    }
   ],
   "source": [
    "threshold_ = 0.05\n",
    "mutual_info_scores = mutual_info_regression(X, y)\n",
    "selected_features = X.columns[mutual_info_scores > threshold_]\n",
    "selected_features"
   ]
  },
  {
   "cell_type": "code",
   "execution_count": 17,
   "metadata": {},
   "outputs": [
    {
     "data": {
      "text/plain": [
       "['week',\n",
       " 'origin_id',\n",
       " 'day_of_week',\n",
       " 'cost_flow_percentage',\n",
       " 'flow_cost',\n",
       " 'day_of_year',\n",
       " 'day',\n",
       " 'flow_cost_percentage',\n",
       " 'destination_id',\n",
       " 'cost',\n",
       " 'hour',\n",
       " 'cost_flow']"
      ]
     },
     "execution_count": 17,
     "metadata": {},
     "output_type": "execute_result"
    }
   ],
   "source": [
    "features = list(set(selected_features1) | set(selected_features) | set(high_correlation_features))\n",
    "features.remove('traffic_flow')\n",
    "features"
   ]
  },
  {
   "cell_type": "code",
   "execution_count": 22,
   "metadata": {},
   "outputs": [],
   "source": [
    "X, y = data1[features], data1['traffic_flow']"
   ]
  },
  {
   "cell_type": "markdown",
   "metadata": {},
   "source": [
    "<font size=\"+0\" color='green'><b> Data Splitting</b></font>  "
   ]
  },
  {
   "cell_type": "code",
   "execution_count": 20,
   "metadata": {},
   "outputs": [],
   "source": [
    "# Split the data into training and testing sets\n",
    "X_train, X_test, y_train, y_test = train_test_split(X, y, test_size=0.2, random_state=42)"
   ]
  },
  {
   "cell_type": "markdown",
   "metadata": {},
   "source": [
    "<a id='model-development'></a>\n",
    "\n",
    "<font size=\"+2\" color='#053c96'><b> Model Development</b></font>  \n",
    "[back to top](#table-of-contents)"
   ]
  },
  {
   "cell_type": "markdown",
   "metadata": {},
   "source": [
    "<font size=\"+0\" color='green'><b> Baseline Model</b></font>  "
   ]
  },
  {
   "cell_type": "code",
   "execution_count": 24,
   "metadata": {},
   "outputs": [],
   "source": [
    "from xgboost import XGBRegressor\n",
    "model = XGBRegressor()\n",
    "model.fit(X_train, y_train)\n",
    "forecast = model.predict(X_test)\n"
   ]
  },
  {
   "cell_type": "code",
   "execution_count": 41,
   "metadata": {},
   "outputs": [
    {
     "name": "stdout",
     "output_type": "stream",
     "text": [
      "XGBRegressor Mean Absolute Error: 0.2789935833201002\n",
      "XGBRegressor Mean Squared Error: 0.13995928451555054\n",
      "XGBRegressor Root Mean Squared Error: 0.37411132636629774\n",
      "XGBRegressor Mean Absolute Percentage Error: inf\n",
      "RandomForestRegressor Mean Absolute Error: 0.00046982320666528506\n",
      "RandomForestRegressor Mean Squared Error: 0.0006709435751540995\n",
      "RandomForestRegressor Root Mean Squared Error: 0.02590257854257177\n",
      "RandomForestRegressor Mean Absolute Percentage Error: 3.667750466457582e-05\n",
      "LinearRegression Mean Absolute Error: 3.1963016306496715e-13\n",
      "LinearRegression Mean Squared Error: 1.8746733916036194e-25\n",
      "LinearRegression Root Mean Squared Error: 4.3297498676062334e-13\n",
      "LinearRegression Mean Absolute Percentage Error: inf\n",
      "KNeighborsRegressor Mean Absolute Error: 9.161941339836078\n",
      "KNeighborsRegressor Mean Squared Error: 191.63853498611394\n",
      "KNeighborsRegressor Root Mean Squared Error: 13.84335707067162\n",
      "KNeighborsRegressor Mean Absolute Percentage Error: inf\n"
     ]
    }
   ],
   "source": [
    "from sklearn.pipeline import Pipeline\n",
    "from sklearn.preprocessing import StandardScaler\n",
    "from sklearn.ensemble import RandomForestRegressor\n",
    "from sklearn.linear_model import LinearRegression\n",
    "from sklearn.svm import SVR\n",
    "from sklearn.neighbors import KNeighborsRegressor\n",
    "from xgboost import XGBRegressor\n",
    "from sklearn.metrics import mean_squared_error\n",
    "from sklearn.model_selection import train_test_split\n",
    "import numpy as np\n",
    "\n",
    "# Assuming X and y are your input features and target values\n",
    "# You might need to preprocess the data, scale it, etc.\n",
    "X_scaled = StandardScaler().fit_transform(X)\n",
    "\n",
    "# Split the data\n",
    "X_train, X_test, y_train, y_test = train_test_split(X_scaled, y, test_size=0.2, random_state=42)\n",
    "\n",
    "# Define models\n",
    "models = {\n",
    "    'XGBRegressor': XGBRegressor(),\n",
    "    'RandomForestRegressor': RandomForestRegressor(),\n",
    "    'LinearRegression': LinearRegression(),\n",
    "    'KNeighborsRegressor': KNeighborsRegressor()\n",
    "}\n",
    "\n",
    "# Create a pipeline for each model\n",
    "pipelines = {}\n",
    "for name, model in models.items():\n",
    "    pipelines[name] = Pipeline([\n",
    "        ('scaler', StandardScaler()),\n",
    "        ('model', model)\n",
    "    ])\n",
    "\n",
    "# Train and evaluate each model\n",
    "for name, pipeline in pipelines.items():\n",
    "    pipeline.fit(X_train, y_train)\n",
    "    y_pred = pipeline.predict(X_test)\n",
    "    mae = mean_absolute_error(y_test, y_pred)\n",
    "    mse = mean_squared_error(y_test, y_pred)\n",
    "    rmse = np.sqrt(mse)\n",
    "    mape = np.mean(np.abs((y_test - y_pred) / y_test)) * 100\n",
    "    print(f'{name} Mean Absolute Error: {mae}')\n",
    "    print(f'{name} Mean Squared Error: {mse}')\n",
    "    print(f'{name} Root Mean Squared Error: {rmse}')\n",
    "    print(f'{name} Mean Absolute Percentage Error: {mape}')"
   ]
  },
  {
   "cell_type": "markdown",
   "metadata": {},
   "source": [
    "<font size=\"+0\" color='green'><b> Model Selection</b></font>  "
   ]
  },
  {
   "cell_type": "markdown",
   "metadata": {},
   "source": [
    "<font size=\"+0\" color='green'><b> Model Training</b></font>  "
   ]
  },
  {
   "cell_type": "markdown",
   "metadata": {},
   "source": [
    "<font size=\"+0\" color='green'><b> Hyperparameter Tuning</b></font>  "
   ]
  },
  {
   "cell_type": "markdown",
   "metadata": {},
   "source": [
    "<a id='model-evaluation'></a>\n",
    "\n",
    "<font size=\"+2\" color='#053c96'><b> Model Evaluation</b></font>  \n",
    "[back to top](#table-of-contents)"
   ]
  },
  {
   "cell_type": "markdown",
   "metadata": {},
   "source": [
    "<font size=\"+0\" color='green'><b> Performance Metrics</b></font>  "
   ]
  },
  {
   "cell_type": "markdown",
   "metadata": {},
   "source": [
    "<font size=\"+0\" color='green'><b> Confusion Matrix</b></font>  "
   ]
  },
  {
   "cell_type": "markdown",
   "metadata": {},
   "source": [
    "<font size=\"+0\" color='green'><b> ROC Curve</b></font>  "
   ]
  },
  {
   "cell_type": "markdown",
   "metadata": {},
   "source": [
    "<font size=\"+0\" color='green'><b> Precision-Recall Curve</b></font>   "
   ]
  },
  {
   "cell_type": "markdown",
   "metadata": {},
   "source": [
    "<font size=\"+0\" color='green'><b> Cross-Validation</b></font>   "
   ]
  },
  {
   "cell_type": "markdown",
   "metadata": {},
   "source": [
    "<font size=\"+0\" color='green'><b> Bias-Variance Tradeoff</b></font>   "
   ]
  },
  {
   "cell_type": "markdown",
   "metadata": {},
   "source": [
    "<a id='model-interpretation'></a>\n",
    "<font size=\"+2\" color='#053c96'><b> Model Interpretation</b></font>  \n",
    "[back to top](#table-of-contents)"
   ]
  },
  {
   "cell_type": "markdown",
   "metadata": {},
   "source": [
    "<font size=\"+0\" color='green'><b> Feature Importance</b></font>   "
   ]
  },
  {
   "cell_type": "markdown",
   "metadata": {},
   "source": [
    "<font size=\"+0\" color='green'><b> Model Explanation Techniques</b></font>   "
   ]
  },
  {
   "cell_type": "markdown",
   "metadata": {},
   "source": [
    "<font size=\"+0\" color='green'><b> Business Impact Analysis</b></font>   "
   ]
  },
  {
   "cell_type": "markdown",
   "metadata": {},
   "source": [
    "<a id='conclusion'></a>\n",
    "\n",
    "<font size=\"+2\" color='#053c96'><b> Conclusion</b></font>  \n",
    "[back to top](#table-of-contents)"
   ]
  },
  {
   "cell_type": "markdown",
   "metadata": {},
   "source": [
    "<font size=\"+0\" color='green'><b> Summary of Findings</b></font>   "
   ]
  },
  {
   "cell_type": "markdown",
   "metadata": {},
   "source": [
    "<font size=\"+0\" color='green'><b> Recommendations</b></font>   "
   ]
  },
  {
   "cell_type": "markdown",
   "metadata": {},
   "source": [
    "<font size=\"+0\" color='green'><b> Limitations</b></font>   "
   ]
  },
  {
   "cell_type": "markdown",
   "metadata": {},
   "source": [
    "<font size=\"+0\" color='green'><b> Future Work</b></font>   "
   ]
  },
  {
   "cell_type": "markdown",
   "metadata": {},
   "source": [
    "<font size=\"+0\" color='green'><b> Final Thoughts</b></font>   "
   ]
  },
  {
   "cell_type": "markdown",
   "metadata": {},
   "source": [
    "<a id='references'></a>\n",
    "\n",
    "<font size=\"+2\" color='#053c96'><b> References</b></font>  \n",
    "[back to top](#table-of-contents)"
   ]
  },
  {
   "cell_type": "markdown",
   "metadata": {},
   "source": []
  }
 ],
 "metadata": {
  "kernelspec": {
   "display_name": "Python 3 (ipykernel)",
   "language": "python",
   "name": "python3"
  },
  "language_info": {
   "codemirror_mode": {
    "name": "ipython",
    "version": 3
   },
   "file_extension": ".py",
   "mimetype": "text/x-python",
   "name": "python",
   "nbconvert_exporter": "python",
   "pygments_lexer": "ipython3",
   "version": "3.10.9"
  }
 },
 "nbformat": 4,
 "nbformat_minor": 5
}
